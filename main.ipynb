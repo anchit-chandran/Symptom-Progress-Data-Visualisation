{
 "cells": [
  {
   "cell_type": "markdown",
   "metadata": {},
   "source": [
    "# MAIN"
   ]
  },
  {
   "cell_type": "code",
   "execution_count": 77,
   "metadata": {},
   "outputs": [
    {
     "data": {
      "text/html": [
       "<div>\n",
       "<style scoped>\n",
       "    .dataframe tbody tr th:only-of-type {\n",
       "        vertical-align: middle;\n",
       "    }\n",
       "\n",
       "    .dataframe tbody tr th {\n",
       "        vertical-align: top;\n",
       "    }\n",
       "\n",
       "    .dataframe thead th {\n",
       "        text-align: right;\n",
       "    }\n",
       "</style>\n",
       "<table border=\"1\" class=\"dataframe\">\n",
       "  <thead>\n",
       "    <tr style=\"text-align: right;\">\n",
       "      <th></th>\n",
       "      <th>recorded_date</th>\n",
       "      <th>QIPID</th>\n",
       "      <th>csbm</th>\n",
       "      <th>bristol_stool_chart</th>\n",
       "      <th>cleve_freq</th>\n",
       "      <th>cleve_time</th>\n",
       "      <th>cleve_difficulty</th>\n",
       "      <th>cleve_assistance</th>\n",
       "      <th>clevel_complete</th>\n",
       "      <th>cleve_fail</th>\n",
       "      <th>...</th>\n",
       "      <th>1D_breakfast</th>\n",
       "      <th>1D_dinner</th>\n",
       "      <th>1D_lunch</th>\n",
       "      <th>1D_snack</th>\n",
       "      <th>2D_breakfast</th>\n",
       "      <th>2D_dinner</th>\n",
       "      <th>2D_lunch</th>\n",
       "      <th>2D_snack</th>\n",
       "      <th>time</th>\n",
       "      <th>week</th>\n",
       "    </tr>\n",
       "  </thead>\n",
       "  <tbody>\n",
       "    <tr>\n",
       "      <th>0</th>\n",
       "      <td>2021-10-23</td>\n",
       "      <td>QIP0</td>\n",
       "      <td>Once every 6 days</td>\n",
       "      <td>Type 1</td>\n",
       "      <td>Once time per week</td>\n",
       "      <td>10-20 minutes</td>\n",
       "      <td>Usually</td>\n",
       "      <td>Stimulant laxatives (Senna or Picolax)</td>\n",
       "      <td>Usually</td>\n",
       "      <td>1-3 times</td>\n",
       "      <td>...</td>\n",
       "      <td>porridge, blueberries,strawberries</td>\n",
       "      <td>Jambalaya with prawns,chicken and chirzo</td>\n",
       "      <td>Tuna Sandwich</td>\n",
       "      <td>melon, pretzals,baby bell,</td>\n",
       "      <td>marmite on toast</td>\n",
       "      <td>spaghetti bolognase</td>\n",
       "      <td>hummus and wholemeal pitta</td>\n",
       "      <td>crisps,melon,malt loaf,cheese string</td>\n",
       "      <td>0</td>\n",
       "      <td>1</td>\n",
       "    </tr>\n",
       "    <tr>\n",
       "      <th>1</th>\n",
       "      <td>2021-10-23</td>\n",
       "      <td>QIP0</td>\n",
       "      <td>Less than once every 7 days</td>\n",
       "      <td>Type 6</td>\n",
       "      <td>Less than once per month</td>\n",
       "      <td>NaN</td>\n",
       "      <td>Always</td>\n",
       "      <td>Digital assistance or enema</td>\n",
       "      <td>Always</td>\n",
       "      <td>NaN</td>\n",
       "      <td>...</td>\n",
       "      <td>NaN</td>\n",
       "      <td>NaN</td>\n",
       "      <td>NaN</td>\n",
       "      <td>NaN</td>\n",
       "      <td>NaN</td>\n",
       "      <td>NaN</td>\n",
       "      <td>NaN</td>\n",
       "      <td>NaN</td>\n",
       "      <td>0</td>\n",
       "      <td>1</td>\n",
       "    </tr>\n",
       "    <tr>\n",
       "      <th>2</th>\n",
       "      <td>2021-10-23</td>\n",
       "      <td>QIP0</td>\n",
       "      <td>Once every 3 days</td>\n",
       "      <td>Type 6</td>\n",
       "      <td>2 times per week</td>\n",
       "      <td>NaN</td>\n",
       "      <td>Always</td>\n",
       "      <td>Stimulant laxatives (Senna or Picolax)</td>\n",
       "      <td>Always</td>\n",
       "      <td>NaN</td>\n",
       "      <td>...</td>\n",
       "      <td>NaN</td>\n",
       "      <td>NaN</td>\n",
       "      <td>NaN</td>\n",
       "      <td>NaN</td>\n",
       "      <td>NaN</td>\n",
       "      <td>NaN</td>\n",
       "      <td>NaN</td>\n",
       "      <td>NaN</td>\n",
       "      <td>0</td>\n",
       "      <td>1</td>\n",
       "    </tr>\n",
       "    <tr>\n",
       "      <th>3</th>\n",
       "      <td>2021-10-23</td>\n",
       "      <td>QIP0</td>\n",
       "      <td>Less than once every 7 days</td>\n",
       "      <td>Type 7</td>\n",
       "      <td>Less than once per month</td>\n",
       "      <td>NaN</td>\n",
       "      <td>Always</td>\n",
       "      <td>Digital assistance or enema</td>\n",
       "      <td>Always</td>\n",
       "      <td>NaN</td>\n",
       "      <td>...</td>\n",
       "      <td>Cereal</td>\n",
       "      <td>Nuggets &amp;amp; chips</td>\n",
       "      <td>Cheese sandwich</td>\n",
       "      <td>Fruit</td>\n",
       "      <td>Toast</td>\n",
       "      <td>Fish fingers corn on cob</td>\n",
       "      <td>Fruit</td>\n",
       "      <td>Fruit</td>\n",
       "      <td>0</td>\n",
       "      <td>1</td>\n",
       "    </tr>\n",
       "    <tr>\n",
       "      <th>4</th>\n",
       "      <td>2021-10-23</td>\n",
       "      <td>QIP0</td>\n",
       "      <td>NaN</td>\n",
       "      <td>Type 5</td>\n",
       "      <td>2 times per week</td>\n",
       "      <td>10-20 minutes</td>\n",
       "      <td>Usually</td>\n",
       "      <td>Stimulant laxatives (Senna or Picolax)</td>\n",
       "      <td>Usually</td>\n",
       "      <td>1-3 times</td>\n",
       "      <td>...</td>\n",
       "      <td>porridge, blueberry's, bananna</td>\n",
       "      <td>chicken breast, salad, new potato's</td>\n",
       "      <td>corn beef sandwich,natural yogurt, raisons, tw...</td>\n",
       "      <td>mango, rock cake, ice lolly</td>\n",
       "      <td>weetabix,blueberrys, toast and marmite</td>\n",
       "      <td>spaghetti bolognaise</td>\n",
       "      <td>corn beef sandwich, melon,jelly,pretzals</td>\n",
       "      <td>natural yogurt, orange</td>\n",
       "      <td>0</td>\n",
       "      <td>1</td>\n",
       "    </tr>\n",
       "  </tbody>\n",
       "</table>\n",
       "<p>5 rows × 88 columns</p>\n",
       "</div>"
      ],
      "text/plain": [
       "  recorded_date QIPID                         csbm bristol_stool_chart  \\\n",
       "0    2021-10-23  QIP0            Once every 6 days              Type 1   \n",
       "1    2021-10-23  QIP0  Less than once every 7 days              Type 6   \n",
       "2    2021-10-23  QIP0            Once every 3 days              Type 6   \n",
       "3    2021-10-23  QIP0  Less than once every 7 days              Type 7   \n",
       "4    2021-10-23  QIP0                          NaN              Type 5   \n",
       "\n",
       "                 cleve_freq     cleve_time cleve_difficulty  \\\n",
       "0        Once time per week  10-20 minutes          Usually   \n",
       "1  Less than once per month            NaN           Always   \n",
       "2          2 times per week            NaN           Always   \n",
       "3  Less than once per month            NaN           Always   \n",
       "4          2 times per week  10-20 minutes          Usually   \n",
       "\n",
       "                         cleve_assistance clevel_complete cleve_fail  ...  \\\n",
       "0  Stimulant laxatives (Senna or Picolax)         Usually  1-3 times  ...   \n",
       "1             Digital assistance or enema          Always        NaN  ...   \n",
       "2  Stimulant laxatives (Senna or Picolax)          Always        NaN  ...   \n",
       "3             Digital assistance or enema          Always        NaN  ...   \n",
       "4  Stimulant laxatives (Senna or Picolax)         Usually  1-3 times  ...   \n",
       "\n",
       "                         1D_breakfast  \\\n",
       "0  porridge, blueberries,strawberries   \n",
       "1                                 NaN   \n",
       "2                                 NaN   \n",
       "3                              Cereal   \n",
       "4      porridge, blueberry's, bananna   \n",
       "\n",
       "                                  1D_dinner  \\\n",
       "0  Jambalaya with prawns,chicken and chirzo   \n",
       "1                                       NaN   \n",
       "2                                       NaN   \n",
       "3                       Nuggets &amp; chips   \n",
       "4       chicken breast, salad, new potato's   \n",
       "\n",
       "                                            1D_lunch  \\\n",
       "0                                      Tuna Sandwich   \n",
       "1                                                NaN   \n",
       "2                                                NaN   \n",
       "3                                    Cheese sandwich   \n",
       "4  corn beef sandwich,natural yogurt, raisons, tw...   \n",
       "\n",
       "                      1D_snack                            2D_breakfast  \\\n",
       "0   melon, pretzals,baby bell,                        marmite on toast   \n",
       "1                          NaN                                     NaN   \n",
       "2                          NaN                                     NaN   \n",
       "3                        Fruit                                   Toast   \n",
       "4  mango, rock cake, ice lolly  weetabix,blueberrys, toast and marmite   \n",
       "\n",
       "                  2D_dinner                                  2D_lunch  \\\n",
       "0       spaghetti bolognase                hummus and wholemeal pitta   \n",
       "1                       NaN                                       NaN   \n",
       "2                       NaN                                       NaN   \n",
       "3  Fish fingers corn on cob                                     Fruit   \n",
       "4      spaghetti bolognaise  corn beef sandwich, melon,jelly,pretzals   \n",
       "\n",
       "                               2D_snack time week  \n",
       "0  crisps,melon,malt loaf,cheese string    0    1  \n",
       "1                                   NaN    0    1  \n",
       "2                                   NaN    0    1  \n",
       "3                                 Fruit    0    1  \n",
       "4                natural yogurt, orange    0    1  \n",
       "\n",
       "[5 rows x 88 columns]"
      ]
     },
     "execution_count": 77,
     "metadata": {},
     "output_type": "execute_result"
    }
   ],
   "source": [
    "import pandas as pd\n",
    "import plotly.express as px\n",
    "import plotly.graph_objects as go\n",
    "import numpy as np\n",
    "from collections import Counter\n",
    "\n",
    "from dash import Dash, dcc, html\n",
    "import dash_bootstrap_components as dbc\n",
    "from dash.dependencies import Input, Output# Load Data\n",
    "\n",
    "df = pd.read_csv('data2.csv', header=0)\n",
    "\n",
    "# CLEAN DATAFRAME\n",
    "def clean_df(df=df):\n",
    "    \n",
    "    # select cols\n",
    "    df = (df[['Recorded Date', 'unique_id', 'Complete Spontaneous Bowel Movements\\n\\n \\nA Complete Spontaneous Bowel Movement (CSBM) is defined as an episode of spontaneous and complete bowel movement without discomfort.\\n\\n \\n\\nIn the last 7 days, how often has your child passed stools:', \"This chart shows the different types of stools. Based on this chart, please rate your child's most common stool in the last 7 days:\", 'Cleveland Constipation Score\\n\\n\\n\\nThese questions describe the difficulty your child has passing stools.\\n\\n \\nFrequency of bowel movements', 'Time: minutes in lavatory per episode', 'Difficulty: painful evacuation effort', 'Assistance: type of assistance', 'Completeness: feeling Incomplete evacuation', 'Failure: unsucessful attempts at evacuation in the last 7 days', 'Pain: abdominal pain', 'History: duration of constipation', \"St Mark's Score\\n\\n\\n\\nThese questions describe how often your child soiled in the last 1 month. - Incontinence of solid stool\", \"St Mark's Score\\n\\n\\n\\nThese questions describe how often your child soiled in the last 1 month. - Incontinence of liquid stool (including smears)\", \"St Mark's Score\\n\\n\\n\\nThese questions describe how often your child soiled in the last 1 month. - Incontinence for gas (excessive farting)\", \"St Mark's Score\\n\\n\\n\\nThese questions describe how often your child soiled in the last 1 month. - Incontinence causing changes to usual activities\", '. - Need to wear a pad or nappy', '. - Taking constipation medicines', '. - Inability to hold stools for more than 15 minutes', \"Daily Activity Diary\\n\\nThis diary records your child's daily routine. In the past 7 days, please select all the activities your child has done each day: - [OtherDate-DM--7%20day]\", \"Daily Activity Diary\\n\\nThis diary records your child's daily routine. In the past 7 days, please select all the activities your child has done each day: - [OtherDate-DM--6%20day]\", \"Daily Activity Diary\\n\\nThis diary records your child's daily routine. In the past 7 days, please select all the activities your child has done each day: - [OtherDate-DM--5%20day]\", \"Daily Activity Diary\\n\\nThis diary records your child's daily routine. In the past 7 days, please select all the activities your child has done each day: - [OtherDate-DM--4%20day]\", \"Daily Activity Diary\\n\\nThis diary records your child's daily routine. In the past 7 days, please select all the activities your child has done each day: - [OtherDate-DM--3%20day]\", \"Daily Activity Diary\\n\\nThis diary records your child's daily routine. In the past 7 days, please select all the activities your child has done each day: - [OtherDate-DM--2%20day]\", \"Daily Activity Diary\\n\\nThis diary records your child's daily routine. In the past 7 days, please select all the activities your child has done each day: - [OtherDate-DM--1%20day]\", \"Daily Activity Diary\\n\\nThis diary records your child's daily routine. In the past 7 days, please select all the activities your child has done each day: - [CurrentDate-DM]\", 'Management Plan\\n\\n\\n\\nThis form describes the different types of care your child is receiving:', 'Impact Measurement Tool (Carer)\\n\\nThese questions describe the impact of constipation on your daily life.\\n\\n\\n \\n\\nIn the past 6 months, how much of a problem has your child had with everyday activities: - Doing chores around the house', 'Impact Measurement Tool (Carer)\\n\\nThese questions describe the impact of constipation on your daily life.\\n\\n\\n \\n\\nIn the past 6 months, how much of a problem has your child had with everyday activities: - Having hurts or aches', 'Impact Measurement Tool (Carer)\\n\\nThese questions describe the impact of constipation on your daily life.\\n\\n\\n \\n\\nIn the past 6 months, how much of a problem has your child had with everyday activities: - Lifting something heavy', 'Impact Measurement Tool (Carer)\\n\\nThese questions describe the impact of constipation on your daily life.\\n\\n\\n \\n\\nIn the past 6 months, how much of a problem has your child had with everyday activities: - Low energy level', 'Impact Measurement Tool (Carer)\\n\\nThese questions describe the impact of constipation on your daily life.\\n\\n\\n \\n\\nIn the past 6 months, how much of a problem has your child had with everyday activities: - Participating in sports activity / exercise', 'Impact Measurement Tool (Carer)\\n\\nThese questions describe the impact of constipation on your daily life.\\n\\n\\n \\n\\nIn the past 6 months, how much of a problem has your child had with everyday activities: - Running', 'Impact Measurement Tool (Carer)\\n\\nThese questions describe the impact of constipation on your daily life.\\n\\n\\n \\n\\nIn the past 6 months, how much of a problem has your child had with everyday activities: - Taking a bath or shower by him or herself', 'Impact Measurement Tool (Carer)\\n\\nThese questions describe the impact of constipation on your daily life.\\n\\n\\n \\n\\nIn the past 6 months, how much of a problem has your child had with everyday activities: - Walking more than one block', 'Impact Measurement Tool (Child)\\n\\nThese questions describe the impact of constipation on your daily life.\\n\\nIn the past 6 months, how much of a problem have you had with your health and activities: - I have low energy', 'Impact Measurement Tool (Child)\\n\\nThese questions describe the impact of constipation on your daily life.\\n\\nIn the past 6 months, how much of a problem have you had with your health and activities: - I hurt or ache', 'Impact Measurement Tool (Child)\\n\\nThese questions describe the impact of constipation on your daily life.\\n\\nIn the past 6 months, how much of a problem have you had with your health and activities: - It is hard for me to do chores around the house', 'Impact Measurement Tool (Child)\\n\\nThese questions describe the impact of constipation on your daily life.\\n\\nIn the past 6 months, how much of a problem have you had with your health and activities: - It is hard for me to do sports activity or exercise', 'Impact Measurement Tool (Child)\\n\\nThese questions describe the impact of constipation on your daily life.\\n\\nIn the past 6 months, how much of a problem have you had with your health and activities: - It is hard for me to lift something heavy', 'Impact Measurement Tool (Child)\\n\\nThese questions describe the impact of constipation on your daily life.\\n\\nIn the past 6 months, how much of a problem have you had with your health and activities: - It is hard for me to run', 'Impact Measurement Tool (Child)\\n\\nThese questions describe the impact of constipation on your daily life.\\n\\nIn the past 6 months, how much of a problem have you had with your health and activities: - It is hard for me to take a bath or shower by myself', 'Impact Measurement Tool (Child)\\n\\nThese questions describe the impact of constipation on your daily life.\\n\\nIn the past 6 months, how much of a problem have you had with your health and activities: - It is hard for me to walk more than one block', 'In the past 6 months, how much of a problem has your child had with emotional functioning: - Feeling afraid or scared', 'In the past 6 months, how much of a problem has your child had with emotional functioning: - Feeling angry', 'In the past 6 months, how much of a problem has your child had with emotional functioning: - Feeling sad or blue', 'In the past 6 months, how much of a problem has your child had with emotional functioning: - Trouble sleeping', 'In the past 6 months, how much of a problem has your child had with emotional functioning: - Worrying about what will happen to him or her', 'In the past 6 months, how much of a problem has your child had with school functioning: - Forgetting things', 'In the past 6 months, how much of a problem has your child had with school functioning: - Keeping up with schoolwork', 'In the past 6 months, how much of a problem has your child had with school functioning: - Missing school because of not feeling well', 'In the past 6 months, how much of a problem has your child had with school functioning: - Missing school to go to the doctor / hospital', 'In the past 6 months, how much of a problem has your child had with school functioning: - Paying attention in class', 'In the past 6 months, how much of a problem has your child had with social functioning: - Getting along with other children', 'In the past 6 months, how much of a problem has your child had with social functioning: - Getting teased by other children', 'In the past 6 months, how much of a problem has your child had with social functioning: - Keeping up when playing with other children', 'In the past 6 months, how much of a problem has your child had with social functioning: - Not able to do things that other children his or her age can do', 'In the past 6 months, how much of a problem has your child had with social functioning: - Other kids not wanting to be his or her friend', 'In the past 6 months, how much of a problem have you had with getting along with others: - I cannot do things that other kids my age can do', 'In the past 6 months, how much of a problem have you had with getting along with others: - I have trouble getting along with other kids', 'In the past 6 months, how much of a problem have you had with getting along with others: - It is hard to keep up when I play with other kids', 'In the past 6 months, how much of a problem have you had with getting along with others: - Other kids do not want to be my friend', 'In the past 6 months, how much of a problem have you had with getting along with others: - Other kids tease me', 'In the past 6 months, how much of a problem have you had with your feelings: - I feel afraid or scared', 'In the past 6 months, how much of a problem have you had with your feelings: - I feel angry', 'In the past 6 months, how much of a problem have you had with your feelings: - I feel sad or blue', 'In the past 6 months, how much of a problem have you had with your feelings: - I have trouble sleeping', 'In the past 6 months, how much of a problem have you had with your feelings: - I worry about what will happen to me', 'In the past 6 months, how much of a problem have you had with your school: - I forget things', 'In the past 6 months, how much of a problem have you had with your school: - I have trouble keeping up with my schoolwork', 'In the past 6 months, how much of a problem have you had with your school: - I miss school because of not feeling well', 'In the past 6 months, how much of a problem have you had with your school: - I miss school to go to the doctor or hospital', 'In the past 6 months, how much of a problem have you had with your school: - It is hard to pay attention in class', 'Dietary Recall Diary\\n\\n\\n\\nThis diary records what your child has eaten in the last 3 days. Please list your child\\'s food and drink below. \\n\\n\\n\\nNOTE: please separate each food with a comma e.g. \"apple, banana, oranges\"\\n\\n \\nPlease record what your child ate and drank 3 days ago on [OtherDate-DM--3%20day] - Breakfast', 'Dietary Recall Diary\\n\\n\\n\\nThis diary records what your child has eaten in the last 3 days. Please list your child\\'s food and drink below. \\n\\n\\n\\nNOTE: please separate each food with a comma e.g. \"apple, banana, oranges\"\\n\\n \\nPlease record what your child ate and drank 3 days ago on [OtherDate-DM--3%20day] - Dinner', 'Dietary Recall Diary\\n\\n\\n\\nThis diary records what your child has eaten in the last 3 days. Please list your child\\'s food and drink below. \\n\\n\\n\\nNOTE: please separate each food with a comma e.g. \"apple, banana, oranges\"\\n\\n \\nPlease record what your child ate and drank 3 days ago on [OtherDate-DM--3%20day] - Lunch', 'Dietary Recall Diary\\n\\n\\n\\nThis diary records what your child has eaten in the last 3 days. Please list your child\\'s food and drink below. \\n\\n\\n\\nNOTE: please separate each food with a comma e.g. \"apple, banana, oranges\"\\n\\n \\nPlease record what your child ate and drank 3 days ago on [OtherDate-DM--3%20day] - Snack', 'Please recall what your child ate and drank yesterday on [OtherDate-DM--1%20day] - Breakfast', 'Please recall what your child ate and drank yesterday on [OtherDate-DM--1%20day] - Dinner', 'Please recall what your child ate and drank yesterday on [OtherDate-DM--1%20day] - Lunch', 'Please recall what your child ate and drank yesterday on [OtherDate-DM--1%20day] - Snack', 'Please record what your child ate and drank 2 days ago on [OtherDate-DM--2%20day] - Breakfast', 'Please record what your child ate and drank 2 days ago on [OtherDate-DM--2%20day] - Dinner', 'Please record what your child ate and drank 2 days ago on [OtherDate-DM--2%20day] - Lunch', 'Please record what your child ate and drank 2 days ago on [OtherDate-DM--2%20day] - Snack']]\n",
    "        .copy()\n",
    "        .rename(\n",
    "            columns=\n",
    "            {\n",
    "                'Recorded Date':'recorded_date',\n",
    "                'unique_id' : \"QIPID\",\n",
    "                \"Complete Spontaneous Bowel Movements\\n\\n \\nA Complete Spontaneous Bowel Movement (CSBM) is defined as an episode of spontaneous and complete bowel movement without discomfort.\\n\\n \\n\\nIn the last 7 days, how often has your child passed stools:\" : \"csbm\",\n",
    "                \"This chart shows the different types of stools. Based on this chart, please rate your child's most common stool in the last 7 days:\" : \"bristol_stool_chart\",\n",
    "                'Cleveland Constipation Score\\n\\n\\n\\nThese questions describe the difficulty your child has passing stools.\\n\\n \\nFrequency of bowel movements' : \"cleve_freq\",\n",
    "                'Time: minutes in lavatory per episode' : \"cleve_time\",\n",
    "                'Difficulty: painful evacuation effort' : \"cleve_difficulty\",\n",
    "                'Assistance: type of assistance' : \"cleve_assistance\",\n",
    "                'Completeness: feeling Incomplete evacuation' : \"clevel_complete\",\n",
    "                'Failure: unsucessful attempts at evacuation in the last 7 days' : \"cleve_fail\",\n",
    "                'Pain: abdominal pain' : \"cleve_pain\", \n",
    "                'History: duration of constipation' : \"cleve_duration\",\n",
    "                \"St Mark's Score\\n\\n\\n\\nThese questions describe how often your child soiled in the last 1 month. - Incontinence of solid stool\" : \"SM_solid\",\n",
    "                \"St Mark's Score\\n\\n\\n\\nThese questions describe how often your child soiled in the last 1 month. - Incontinence of liquid stool (including smears)\" : \"SM_liquid\",\n",
    "                \"St Mark's Score\\n\\n\\n\\nThese questions describe how often your child soiled in the last 1 month. - Incontinence for gas (excessive farting)\" : \"SM_gas\",\n",
    "                \"St Mark's Score\\n\\n\\n\\nThese questions describe how often your child soiled in the last 1 month. - Incontinence causing changes to usual activities\" : \"SM_activity_change\",\n",
    "                '. - Need to wear a pad or nappy' : \"SM_pad\",\n",
    "                    '. - Taking constipation medicines' : \"SM_constipation_med\",\n",
    "                '. - Inability to hold stools for more than 15 minutes' : \"SM_inability_stool_15min\",\n",
    "                \"Daily Activity Diary\\n\\nThis diary records your child's daily routine. In the past 7 days, please select all the activities your child has done each day: - [OtherDate-DM--7%20day]\" : \"daily_routine_7d\",\n",
    "                \"Daily Activity Diary\\n\\nThis diary records your child's daily routine. In the past 7 days, please select all the activities your child has done each day: - [OtherDate-DM--6%20day]\" : \"daily_routine_6d\",\n",
    "                \"Daily Activity Diary\\n\\nThis diary records your child's daily routine. In the past 7 days, please select all the activities your child has done each day: - [OtherDate-DM--5%20day]\" : \"daily_routine_5d\",\n",
    "                \"Daily Activity Diary\\n\\nThis diary records your child's daily routine. In the past 7 days, please select all the activities your child has done each day: - [OtherDate-DM--4%20day]\" : \"daily_routine_4d\",\n",
    "                \"Daily Activity Diary\\n\\nThis diary records your child's daily routine. In the past 7 days, please select all the activities your child has done each day: - [OtherDate-DM--3%20day]\" : \"daily_routine_3d\",\n",
    "                \"Daily Activity Diary\\n\\nThis diary records your child's daily routine. In the past 7 days, please select all the activities your child has done each day: - [OtherDate-DM--2%20day]\" : \"daily_routine_2d\",\n",
    "                \"Daily Activity Diary\\n\\nThis diary records your child's daily routine. In the past 7 days, please select all the activities your child has done each day: - [OtherDate-DM--1%20day]\" : \"daily_routine_1d\",\n",
    "                \"Daily Activity Diary\\n\\nThis diary records your child's daily routine. In the past 7 days, please select all the activities your child has done each day: - [CurrentDate-DM]\" : \"daily_routine_0d\",\n",
    "                'Management Plan\\n\\n\\n\\nThis form describes the different types of care your child is receiving:' : \"management\",\n",
    "                'Impact Measurement Tool (Carer)\\n\\nThese questions describe the impact of constipation on your daily life.\\n\\n\\n \\n\\nIn the past 6 months, how much of a problem has your child had with everyday activities: - Doing chores around the house': 'carer_everyday_chores',\n",
    "                'Impact Measurement Tool (Carer)\\n\\nThese questions describe the impact of constipation on your daily life.\\n\\n\\n \\n\\nIn the past 6 months, how much of a problem has your child had with everyday activities: - Having hurts or aches': 'carer_everyday_pain',\n",
    "                'Impact Measurement Tool (Carer)\\n\\nThese questions describe the impact of constipation on your daily life.\\n\\n\\n \\n\\nIn the past 6 months, how much of a problem has your child had with everyday activities: - Lifting something heavy': 'carer_everyday_lift_heavy',\n",
    "                'Impact Measurement Tool (Carer)\\n\\nThese questions describe the impact of constipation on your daily life.\\n\\n\\n \\n\\nIn the past 6 months, how much of a problem has your child had with everyday activities: - Low energy level': 'carer_everyday_lethargy',\n",
    "                'Impact Measurement Tool (Carer)\\n\\nThese questions describe the impact of constipation on your daily life.\\n\\n\\n \\n\\nIn the past 6 months, how much of a problem has your child had with everyday activities: - Participating in sports activity / exercise': 'carer_everyday_participate_exercise',\n",
    "                'Impact Measurement Tool (Carer)\\n\\nThese questions describe the impact of constipation on your daily life.\\n\\n\\n \\n\\nIn the past 6 months, how much of a problem has your child had with everyday activities: - Running': 'carer_everyday_running',\n",
    "                'Impact Measurement Tool (Carer)\\n\\nThese questions describe the impact of constipation on your daily life.\\n\\n\\n \\n\\nIn the past 6 months, how much of a problem has your child had with everyday activities: - Taking a bath or shower by him or herself': 'carer_everyday_bath_self',\n",
    "                'Impact Measurement Tool (Carer)\\n\\nThese questions describe the impact of constipation on your daily life.\\n\\n\\n \\n\\nIn the past 6 months, how much of a problem has your child had with everyday activities: - Walking more than one block': 'carer_everyday_walking_block',\n",
    "                'Impact Measurement Tool (Child)\\n\\nThese questions describe the impact of constipation on your daily life.\\n\\nIn the past 6 months, how much of a problem have you had with your health and activities: - I have low energy': 'child_everyday_lethargy',\n",
    "                'Impact Measurement Tool (Child)\\n\\nThese questions describe the impact of constipation on your daily life.\\n\\nIn the past 6 months, how much of a problem have you had with your health and activities: - I hurt or ache': 'child_everyday_pain',\n",
    "                'Impact Measurement Tool (Child)\\n\\nThese questions describe the impact of constipation on your daily life.\\n\\nIn the past 6 months, how much of a problem have you had with your health and activities: - It is hard for me to do chores around the house': 'child_everyday_chores',\n",
    "                'Impact Measurement Tool (Child)\\n\\nThese questions describe the impact of constipation on your daily life.\\n\\nIn the past 6 months, how much of a problem have you had with your health and activities: - It is hard for me to do sports activity or exercise': 'child_everyday_participate_exercise',\n",
    "                'Impact Measurement Tool (Child)\\n\\nThese questions describe the impact of constipation on your daily life.\\n\\nIn the past 6 months, how much of a problem have you had with your health and activities: - It is hard for me to lift something heavy': 'child_everyday_lift_heavy',\n",
    "                'Impact Measurement Tool (Child)\\n\\nThese questions describe the impact of constipation on your daily life.\\n\\nIn the past 6 months, how much of a problem have you had with your health and activities: - It is hard for me to run': 'child_everyday_running',\n",
    "                'Impact Measurement Tool (Child)\\n\\nThese questions describe the impact of constipation on your daily life.\\n\\nIn the past 6 months, how much of a problem have you had with your health and activities: - It is hard for me to take a bath or shower by myself': 'child_everyday_bath_self',\n",
    "                'Impact Measurement Tool (Child)\\n\\nThese questions describe the impact of constipation on your daily life.\\n\\nIn the past 6 months, how much of a problem have you had with your health and activities: - It is hard for me to walk more than one block': 'child_everyday_walking_block',\n",
    "                'In the past 6 months, how much of a problem has your child had with emotional functioning: - Feeling afraid or scared': 'carer_emotion_afraid',\n",
    "                'In the past 6 months, how much of a problem has your child had with emotional functioning: - Feeling angry': 'carer_emotion_angry',\n",
    "                'In the past 6 months, how much of a problem has your child had with emotional functioning: - Feeling sad or blue': 'carer_emotion_sad',\n",
    "                'In the past 6 months, how much of a problem has your child had with emotional functioning: - Trouble sleeping': 'carer_emotion_insomnia',\n",
    "                'In the past 6 months, how much of a problem has your child had with emotional functioning: - Worrying about what will happen to him or her': 'carer_emotion_worry',\n",
    "                'In the past 6 months, how much of a problem has your child had with school functioning: - Forgetting things': 'carer_school_forget',\n",
    "                'In the past 6 months, how much of a problem has your child had with school functioning: - Keeping up with schoolwork': 'carer_school_school_work',\n",
    "                'In the past 6 months, how much of a problem has your child had with school functioning: - Missing school because of not feeling well': 'carer_school_missing_unwell',\n",
    "                'In the past 6 months, how much of a problem has your child had with school functioning: - Missing school to go to the doctor / hospital': 'carer_school_missing_doctor',\n",
    "                'In the past 6 months, how much of a problem has your child had with school functioning: - Paying attention in class': 'carer_school_attention',\n",
    "                'In the past 6 months, how much of a problem has your child had with social functioning: - Getting along with other children': 'carer_social_get_along_others',\n",
    "                'In the past 6 months, how much of a problem has your child had with social functioning: - Getting teased by other children': 'carer_social_teasing',\n",
    "                'In the past 6 months, how much of a problem has your child had with social functioning: - Keeping up when playing with other children': 'carer_social_keep_up',\n",
    "                'In the past 6 months, how much of a problem has your child had with social functioning: - Not able to do things that other children his or her age can do': 'carer_social_inability',\n",
    "                'In the past 6 months, how much of a problem has your child had with social functioning: - Other kids not wanting to be his or her friend': 'carer_social_no_friends',\n",
    "                'In the past 6 months, how much of a problem have you had with getting along with others: - I cannot do things that other kids my age can do': 'child_social_inability',\n",
    "                'In the past 6 months, how much of a problem have you had with getting along with others: - I have trouble getting along with other kids': 'child_social_get_along_others',\n",
    "                'In the past 6 months, how much of a problem have you had with getting along with others: - It is hard to keep up when I play with other kids': 'child_social_keep_up',\n",
    "                'In the past 6 months, how much of a problem have you had with getting along with others: - Other kids do not want to be my friend': 'child_social_no_friends',\n",
    "                'In the past 6 months, how much of a problem have you had with getting along with others: - Other kids tease me': 'child_social_teasing',\n",
    "                'In the past 6 months, how much of a problem have you had with your feelings: - I feel afraid or scared': 'child_emotion_afraid',\n",
    "                'In the past 6 months, how much of a problem have you had with your feelings: - I feel angry': 'child_emotion_angry',\n",
    "                'In the past 6 months, how much of a problem have you had with your feelings: - I feel sad or blue': 'child_emotion_sad',\n",
    "                'In the past 6 months, how much of a problem have you had with your feelings: - I have trouble sleeping': 'child_emotion_insomnia',\n",
    "                'In the past 6 months, how much of a problem have you had with your feelings: - I worry about what will happen to me': 'child_emotion_worry',\n",
    "                'In the past 6 months, how much of a problem have you had with your school: - I forget things': 'child_school_forget',\n",
    "                'In the past 6 months, how much of a problem have you had with your school: - I have trouble keeping up with my schoolwork': 'child_school_school_work',\n",
    "                'In the past 6 months, how much of a problem have you had with your school: - I miss school because of not feeling well': 'child_school_missing_unwell',\n",
    "                'In the past 6 months, how much of a problem have you had with your school: - I miss school to go to the doctor or hospital': 'child_school_missing_doctor',\n",
    "                'In the past 6 months, how much of a problem have you had with your school: - It is hard to pay attention in class': 'child_school_attention',\n",
    "                'Dietary Recall Diary\\n\\n\\n\\nThis diary records what your child has eaten in the last 3 days. Please list your child\\'s food and drink below. \\n\\n\\n\\nNOTE: please separate each food with a comma e.g. \"apple, banana, oranges\"\\n\\n \\nPlease record what your child ate and drank 3 days ago on [OtherDate-DM--3%20day] - Breakfast': '3D_breakfast',\n",
    "                'Dietary Recall Diary\\n\\n\\n\\nThis diary records what your child has eaten in the last 3 days. Please list your child\\'s food and drink below. \\n\\n\\n\\nNOTE: please separate each food with a comma e.g. \"apple, banana, oranges\"\\n\\n \\nPlease record what your child ate and drank 3 days ago on [OtherDate-DM--3%20day] - Dinner': '3D_dinner',\n",
    "                'Dietary Recall Diary\\n\\n\\n\\nThis diary records what your child has eaten in the last 3 days. Please list your child\\'s food and drink below. \\n\\n\\n\\nNOTE: please separate each food with a comma e.g. \"apple, banana, oranges\"\\n\\n \\nPlease record what your child ate and drank 3 days ago on [OtherDate-DM--3%20day] - Lunch': '3D_lunch',\n",
    "                'Dietary Recall Diary\\n\\n\\n\\nThis diary records what your child has eaten in the last 3 days. Please list your child\\'s food and drink below. \\n\\n\\n\\nNOTE: please separate each food with a comma e.g. \"apple, banana, oranges\"\\n\\n \\nPlease record what your child ate and drank 3 days ago on [OtherDate-DM--3%20day] - Snack': '3D_snack',\n",
    "                'Please recall what your child ate and drank yesterday on [OtherDate-DM--1%20day] - Breakfast': '1D_breakfast',\n",
    "                'Please recall what your child ate and drank yesterday on [OtherDate-DM--1%20day] - Dinner': '1D_dinner',\n",
    "                'Please recall what your child ate and drank yesterday on [OtherDate-DM--1%20day] - Lunch': '1D_lunch',\n",
    "                'Please recall what your child ate and drank yesterday on [OtherDate-DM--1%20day] - Snack': '1D_snack',\n",
    "                'Please record what your child ate and drank 2 days ago on [OtherDate-DM--2%20day] - Breakfast': '2D_breakfast',\n",
    "                'Please record what your child ate and drank 2 days ago on [OtherDate-DM--2%20day] - Dinner': '2D_dinner',\n",
    "                'Please record what your child ate and drank 2 days ago on [OtherDate-DM--2%20day] - Lunch': '2D_lunch',\n",
    "                'Please record what your child ate and drank 2 days ago on [OtherDate-DM--2%20day] - Snack': '2D_snack'\n",
    "            }\n",
    "        )\n",
    "        #FILL ANY BLANKS\n",
    "        .replace(\"\",np.nan) \n",
    "    )\n",
    "\n",
    "\n",
    "    # CONVERT DATE COLUMN TO DATETIME TYPE\n",
    "    df['recorded_date'] = pd.to_datetime(df['recorded_date'])\n",
    "\n",
    "    # SORT VALUES ACCORDING TO START DATE\n",
    "    df = df.sort_values(by=['QIPID','recorded_date']).reset_index(drop=True)\n",
    "\n",
    "    # CALCULATE NUMBER OF DAYS SINCE STARTING TREATMENT\n",
    "    df['time'] = df.groupby('QIPID')['recorded_date'].diff().fillna(pd.Timedelta(seconds=0))\n",
    "\n",
    "    # JUST GET THE NUMBER OF DAYS FROM THE TIMEDELTA\n",
    "    df['time'] = df.apply(lambda x: x['time'].days,axis=1)\n",
    "\n",
    "    # DROP NA ON TIME\n",
    "    df = df.dropna(subset=['time'])\n",
    "\n",
    "    # CONVERT TIME TO INT\n",
    "    df['time'] = df['time'].astype(int)\n",
    "\n",
    "    # CONVERT DATETIME TO JUST DATE\n",
    "    df['recorded_date'] = df['recorded_date'].dt.strftime(\"%d-%m-%Y\")\n",
    "\n",
    "    # # MAKE BINS FOR DATE PER WEEK\n",
    "    bins = [x for x in range(0,df.time.max()+8) if x%7 == 0]\n",
    "    labels = [y+1 for y in range(len(bins))][:-1]\n",
    "    df['week'] = pd.cut(df['time'],bins=bins, labels=labels, include_lowest=True).astype(int)\n",
    "\n",
    "    # convert recorded date to datetime\n",
    "    df['recorded_date'] = pd.to_datetime(df['recorded_date'], infer_datetime_format=True)\n",
    "\n",
    "    return df\n",
    "\n",
    "clean_df().head()"
   ]
  },
  {
   "cell_type": "markdown",
   "metadata": {},
   "source": [
    "# CSBM DF"
   ]
  },
  {
   "cell_type": "code",
   "execution_count": 74,
   "metadata": {},
   "outputs": [
    {
     "name": "stdout",
     "output_type": "stream",
     "text": [
      "CSBM:26 data points have been dropped due to NA\n"
     ]
    },
    {
     "data": {
      "text/html": [
       "<div>\n",
       "<style scoped>\n",
       "    .dataframe tbody tr th:only-of-type {\n",
       "        vertical-align: middle;\n",
       "    }\n",
       "\n",
       "    .dataframe tbody tr th {\n",
       "        vertical-align: top;\n",
       "    }\n",
       "\n",
       "    .dataframe thead th {\n",
       "        text-align: right;\n",
       "    }\n",
       "</style>\n",
       "<table border=\"1\" class=\"dataframe\">\n",
       "  <thead>\n",
       "    <tr style=\"text-align: right;\">\n",
       "      <th></th>\n",
       "      <th>recorded_date</th>\n",
       "      <th>QIPID</th>\n",
       "      <th>csbm</th>\n",
       "      <th>bristol_stool_chart</th>\n",
       "      <th>time</th>\n",
       "      <th>week</th>\n",
       "    </tr>\n",
       "  </thead>\n",
       "  <tbody>\n",
       "    <tr>\n",
       "      <th>0</th>\n",
       "      <td>2021-10-23</td>\n",
       "      <td>QIP0</td>\n",
       "      <td>3</td>\n",
       "      <td>1</td>\n",
       "      <td>0</td>\n",
       "      <td>1</td>\n",
       "    </tr>\n",
       "    <tr>\n",
       "      <th>1</th>\n",
       "      <td>2021-10-23</td>\n",
       "      <td>QIP0</td>\n",
       "      <td>2</td>\n",
       "      <td>2</td>\n",
       "      <td>0</td>\n",
       "      <td>1</td>\n",
       "    </tr>\n",
       "    <tr>\n",
       "      <th>2</th>\n",
       "      <td>2021-10-23</td>\n",
       "      <td>QIP0</td>\n",
       "      <td>4</td>\n",
       "      <td>2</td>\n",
       "      <td>0</td>\n",
       "      <td>1</td>\n",
       "    </tr>\n",
       "    <tr>\n",
       "      <th>3</th>\n",
       "      <td>2021-10-23</td>\n",
       "      <td>QIP0</td>\n",
       "      <td>2</td>\n",
       "      <td>4</td>\n",
       "      <td>0</td>\n",
       "      <td>1</td>\n",
       "    </tr>\n",
       "    <tr>\n",
       "      <th>4</th>\n",
       "      <td>2021-10-23</td>\n",
       "      <td>QIP0</td>\n",
       "      <td>3</td>\n",
       "      <td>5</td>\n",
       "      <td>0</td>\n",
       "      <td>1</td>\n",
       "    </tr>\n",
       "    <tr>\n",
       "      <th>...</th>\n",
       "      <td>...</td>\n",
       "      <td>...</td>\n",
       "      <td>...</td>\n",
       "      <td>...</td>\n",
       "      <td>...</td>\n",
       "      <td>...</td>\n",
       "    </tr>\n",
       "    <tr>\n",
       "      <th>223</th>\n",
       "      <td>2021-10-23</td>\n",
       "      <td>QIP9</td>\n",
       "      <td>7</td>\n",
       "      <td>2</td>\n",
       "      <td>0</td>\n",
       "      <td>1</td>\n",
       "    </tr>\n",
       "    <tr>\n",
       "      <th>224</th>\n",
       "      <td>2021-10-23</td>\n",
       "      <td>QIP9</td>\n",
       "      <td>9</td>\n",
       "      <td>3</td>\n",
       "      <td>0</td>\n",
       "      <td>1</td>\n",
       "    </tr>\n",
       "    <tr>\n",
       "      <th>225</th>\n",
       "      <td>2021-10-23</td>\n",
       "      <td>QIP9</td>\n",
       "      <td>9</td>\n",
       "      <td>3</td>\n",
       "      <td>0</td>\n",
       "      <td>1</td>\n",
       "    </tr>\n",
       "    <tr>\n",
       "      <th>226</th>\n",
       "      <td>2021-10-23</td>\n",
       "      <td>QIP9</td>\n",
       "      <td>9</td>\n",
       "      <td>5</td>\n",
       "      <td>0</td>\n",
       "      <td>1</td>\n",
       "    </tr>\n",
       "    <tr>\n",
       "      <th>227</th>\n",
       "      <td>2021-10-23</td>\n",
       "      <td>QIP9</td>\n",
       "      <td>9</td>\n",
       "      <td>6</td>\n",
       "      <td>0</td>\n",
       "      <td>1</td>\n",
       "    </tr>\n",
       "  </tbody>\n",
       "</table>\n",
       "<p>228 rows × 6 columns</p>\n",
       "</div>"
      ],
      "text/plain": [
       "    recorded_date QIPID  csbm  bristol_stool_chart  time  week\n",
       "0      2021-10-23  QIP0     3                    1     0     1\n",
       "1      2021-10-23  QIP0     2                    2     0     1\n",
       "2      2021-10-23  QIP0     4                    2     0     1\n",
       "3      2021-10-23  QIP0     2                    4     0     1\n",
       "4      2021-10-23  QIP0     3                    5     0     1\n",
       "..            ...   ...   ...                  ...   ...   ...\n",
       "223    2021-10-23  QIP9     7                    2     0     1\n",
       "224    2021-10-23  QIP9     9                    3     0     1\n",
       "225    2021-10-23  QIP9     9                    3     0     1\n",
       "226    2021-10-23  QIP9     9                    5     0     1\n",
       "227    2021-10-23  QIP9     9                    6     0     1\n",
       "\n",
       "[228 rows x 6 columns]"
      ]
     },
     "execution_count": 74,
     "metadata": {},
     "output_type": "execute_result"
    }
   ],
   "source": [
    "# CSBM BRISTOL STOOL SCORE FUNCTION\n",
    "def make_csbm_df_function(qipid='ALL', df=clean_df(df)):\n",
    "    #MAKE COPY OF DF\n",
    "    csbm_df = df.copy()\n",
    "\n",
    "    if qipid != 'ALL':\n",
    "        csbm_df = csbm_df[csbm_df[\"QIPID\"]==qipid]\n",
    "\n",
    "    # SELECT CORRECT COLUMNS \n",
    "    csbm_df=csbm_df.loc[:, ['recorded_date','QIPID','csbm','bristol_stool_chart','time','week']]\n",
    "\n",
    "    before_csbm_df_size = csbm_df.shape[0]\n",
    "\n",
    "    # REMOVE NA VALUES CSBM\n",
    "    csbm_df = csbm_df.dropna(axis=0)\n",
    "    num_dropped=before_csbm_df_size - csbm_df.shape[0]\n",
    "    print(f\"CSBM:{num_dropped} data points have been dropped due to NA\")\n",
    "\n",
    "      # MAP ORIGINAL RESPONSE VALUES FOR CSBM TO NUMERICAL\n",
    "    csbm_df['csbm'] = csbm_df['csbm'].map({\n",
    "        'More than 1 every day':9,\n",
    "        'Only 1 every day':8,\n",
    "        'Once every 2 days':7,\n",
    "        'Once every 3 days':6,\n",
    "        'Once every 4 days':5,\n",
    "        'Once every 5 days':4,\n",
    "        'Once every 6 days':3,\n",
    "        'Once every 7 days':2,\n",
    "        'Less than once every 7 days':1\n",
    "    })\n",
    "\n",
    "    # REMOVE 'TYPE' FROM BRISTOL STOOL CHART ANSWERS TO SET TO INT\n",
    "    csbm_df['bristol_stool_chart'] = csbm_df['bristol_stool_chart'].str.replace('Type ','').astype(int)\n",
    "\n",
    "    #ORDER DATAFRAME BY BRISTOL STOOL SCORE\n",
    "    csbm_df.sort_values(by='bristol_stool_chart',inplace=True)\n",
    "\n",
    "     # SORT VALUES ACCORDING TO START DATE\n",
    "    csbm_df = csbm_df.sort_values(by=['QIPID','recorded_date']).reset_index(drop=True)\n",
    "\n",
    "\n",
    "\n",
    "    return csbm_df, num_dropped\n",
    "\n",
    "make_csbm_df_function()[0]"
   ]
  },
  {
   "cell_type": "markdown",
   "metadata": {},
   "source": [
    "# CSBM FIG\n"
   ]
  },
  {
   "cell_type": "code",
   "execution_count": 6,
   "metadata": {},
   "outputs": [
    {
     "name": "stdout",
     "output_type": "stream",
     "text": [
      "CSBM:26 data points have been dropped due to NA\n"
     ]
    },
    {
     "data": {
      "application/vnd.plotly.v1+json": {
       "config": {
        "plotlyServerURL": "https://plot.ly"
       },
       "data": [
        {
         "customdata": [
          [
           "1"
          ],
          [
           "1"
          ],
          [
           "1"
          ],
          [
           "1"
          ],
          [
           "1"
          ],
          [
           "1"
          ],
          [
           "1"
          ],
          [
           "1"
          ],
          [
           "1"
          ],
          [
           "1"
          ],
          [
           "1"
          ],
          [
           "1"
          ],
          [
           "1"
          ]
         ],
         "hovertemplate": "<b>%{hovertext}</b><br><br>Stool Type=%{customdata[0]}<br>Days since starting treatment=%{x}<br>Complete Spontaneous Bowel Movements=%{y}<extra></extra>",
         "hovertext": [
          "QIP0",
          "QIP1",
          "QIP16",
          "QIP19",
          "QIP19",
          "QIP3",
          "QIP3",
          "QIP3",
          "QIP3",
          "QIP3",
          "QIP3",
          "QIP4",
          "QIP4"
         ],
         "legendgroup": "1",
         "marker": {
          "color": "red",
          "line": {
           "color": "DarkSlateGrey",
           "width": 2
          },
          "opacity": 0.6,
          "size": 12,
          "symbol": "circle"
         },
         "mode": "markers",
         "name": "1",
         "orientation": "v",
         "showlegend": true,
         "type": "scatter",
         "x": [
          0,
          0,
          0,
          0,
          0,
          0,
          0,
          0,
          0,
          0,
          0,
          0,
          0
         ],
         "xaxis": "x",
         "y": [
          3,
          9,
          4,
          7,
          6,
          7,
          9,
          6,
          6,
          6,
          7,
          6,
          6
         ],
         "yaxis": "y"
        },
        {
         "customdata": [
          [
           "2"
          ],
          [
           "2"
          ],
          [
           "2"
          ],
          [
           "2"
          ],
          [
           "2"
          ],
          [
           "2"
          ],
          [
           "2"
          ],
          [
           "2"
          ],
          [
           "2"
          ],
          [
           "2"
          ],
          [
           "2"
          ],
          [
           "2"
          ],
          [
           "2"
          ],
          [
           "2"
          ],
          [
           "2"
          ],
          [
           "2"
          ],
          [
           "2"
          ],
          [
           "2"
          ]
         ],
         "hovertemplate": "<b>%{hovertext}</b><br><br>Stool Type=%{customdata[0]}<br>Days since starting treatment=%{x}<br>Complete Spontaneous Bowel Movements=%{y}<extra></extra>",
         "hovertext": [
          "QIP0",
          "QIP0",
          "QIP1",
          "QIP12",
          "QIP12",
          "QIP2",
          "QIP22",
          "QIP29",
          "QIP3",
          "QIP3",
          "QIP4",
          "QIP4",
          "QIP4",
          "QIP4",
          "QIP6",
          "QIP9",
          "QIP9",
          "QIP9"
         ],
         "legendgroup": "2",
         "marker": {
          "color": "red",
          "line": {
           "color": "DarkSlateGrey",
           "width": 2
          },
          "opacity": 0.6,
          "size": 12,
          "symbol": "circle"
         },
         "mode": "markers",
         "name": "2",
         "orientation": "v",
         "showlegend": true,
         "type": "scatter",
         "x": [
          0,
          0,
          0,
          0,
          0,
          0,
          0,
          0,
          0,
          0,
          0,
          0,
          0,
          0,
          0,
          0,
          0,
          0
         ],
         "xaxis": "x",
         "y": [
          2,
          4,
          8,
          8,
          8,
          6,
          8,
          4,
          7,
          7,
          7,
          7,
          7,
          7,
          6,
          8,
          9,
          7
         ],
         "yaxis": "y"
        },
        {
         "customdata": [
          [
           "3"
          ],
          [
           "3"
          ],
          [
           "3"
          ],
          [
           "3"
          ],
          [
           "3"
          ],
          [
           "3"
          ],
          [
           "3"
          ],
          [
           "3"
          ],
          [
           "3"
          ],
          [
           "3"
          ],
          [
           "3"
          ],
          [
           "3"
          ],
          [
           "3"
          ],
          [
           "3"
          ],
          [
           "3"
          ],
          [
           "3"
          ],
          [
           "3"
          ],
          [
           "3"
          ],
          [
           "3"
          ],
          [
           "3"
          ],
          [
           "3"
          ],
          [
           "3"
          ],
          [
           "3"
          ],
          [
           "3"
          ],
          [
           "3"
          ]
         ],
         "hovertemplate": "<b>%{hovertext}</b><br><br>Stool Type=%{customdata[0]}<br>Days since starting treatment=%{x}<br>Complete Spontaneous Bowel Movements=%{y}<extra></extra>",
         "hovertext": [
          "QIP1",
          "QIP1",
          "QIP1",
          "QIP11",
          "QIP11",
          "QIP11",
          "QIP11",
          "QIP11",
          "QIP11",
          "QIP16",
          "QIP19",
          "QIP28",
          "QIP3",
          "QIP3",
          "QIP3",
          "QIP4",
          "QIP4",
          "QIP5",
          "QIP5",
          "QIP6",
          "QIP6",
          "QIP7",
          "QIP7",
          "QIP9",
          "QIP9"
         ],
         "legendgroup": "3",
         "marker": {
          "color": "orange",
          "line": {
           "color": "DarkSlateGrey",
           "width": 2
          },
          "opacity": 0.6,
          "size": 12,
          "symbol": "circle"
         },
         "mode": "markers",
         "name": "3",
         "orientation": "v",
         "showlegend": true,
         "type": "scatter",
         "x": [
          0,
          0,
          0,
          0,
          0,
          0,
          11,
          64,
          40,
          0,
          0,
          0,
          0,
          0,
          42,
          0,
          0,
          0,
          0,
          0,
          0,
          0,
          0,
          0,
          0
         ],
         "xaxis": "x",
         "y": [
          7,
          6,
          6,
          1,
          2,
          1,
          8,
          2,
          2,
          4,
          6,
          4,
          7,
          6,
          7,
          6,
          7,
          7,
          1,
          9,
          9,
          6,
          1,
          9,
          9
         ],
         "yaxis": "y"
        },
        {
         "customdata": [
          [
           "4"
          ],
          [
           "4"
          ],
          [
           "4"
          ],
          [
           "4"
          ],
          [
           "4"
          ],
          [
           "4"
          ],
          [
           "4"
          ],
          [
           "4"
          ],
          [
           "4"
          ],
          [
           "4"
          ],
          [
           "4"
          ],
          [
           "4"
          ],
          [
           "4"
          ],
          [
           "4"
          ],
          [
           "4"
          ],
          [
           "4"
          ],
          [
           "4"
          ],
          [
           "4"
          ],
          [
           "4"
          ],
          [
           "4"
          ],
          [
           "4"
          ],
          [
           "4"
          ],
          [
           "4"
          ],
          [
           "4"
          ],
          [
           "4"
          ],
          [
           "4"
          ],
          [
           "4"
          ],
          [
           "4"
          ],
          [
           "4"
          ],
          [
           "4"
          ],
          [
           "4"
          ],
          [
           "4"
          ],
          [
           "4"
          ],
          [
           "4"
          ],
          [
           "4"
          ],
          [
           "4"
          ],
          [
           "4"
          ],
          [
           "4"
          ],
          [
           "4"
          ],
          [
           "4"
          ],
          [
           "4"
          ],
          [
           "4"
          ],
          [
           "4"
          ],
          [
           "4"
          ],
          [
           "4"
          ],
          [
           "4"
          ],
          [
           "4"
          ],
          [
           "4"
          ]
         ],
         "hovertemplate": "<b>%{hovertext}</b><br><br>Stool Type=%{customdata[0]}<br>Days since starting treatment=%{x}<br>Complete Spontaneous Bowel Movements=%{y}<extra></extra>",
         "hovertext": [
          "QIP0",
          "QIP1",
          "QIP1",
          "QIP10",
          "QIP12",
          "QIP12",
          "QIP12",
          "QIP13",
          "QIP17",
          "QIP2",
          "QIP2",
          "QIP2",
          "QIP2",
          "QIP2",
          "QIP20",
          "QIP20",
          "QIP21",
          "QIP21",
          "QIP3",
          "QIP3",
          "QIP3",
          "QIP3",
          "QIP3",
          "QIP3",
          "QIP3",
          "QIP3",
          "QIP3",
          "QIP3",
          "QIP3",
          "QIP3",
          "QIP3",
          "QIP3",
          "QIP3",
          "QIP4",
          "QIP5",
          "QIP5",
          "QIP6",
          "QIP6",
          "QIP6",
          "QIP6",
          "QIP6",
          "QIP6",
          "QIP6",
          "QIP7",
          "QIP7",
          "QIP7",
          "QIP7",
          "QIP7"
         ],
         "legendgroup": "4",
         "marker": {
          "color": "green",
          "line": {
           "color": "DarkSlateGrey",
           "width": 2
          },
          "opacity": 0.6,
          "size": 12,
          "symbol": "circle"
         },
         "mode": "markers",
         "name": "4",
         "orientation": "v",
         "showlegend": true,
         "type": "scatter",
         "x": [
          0,
          0,
          0,
          0,
          0,
          0,
          0,
          0,
          137,
          0,
          0,
          0,
          0,
          0,
          6,
          13,
          0,
          0,
          0,
          0,
          0,
          0,
          0,
          0,
          0,
          0,
          0,
          0,
          0,
          0,
          9,
          1,
          33,
          75,
          0,
          0,
          0,
          0,
          0,
          0,
          0,
          0,
          17,
          0,
          0,
          0,
          0,
          120
         ],
         "xaxis": "x",
         "y": [
          2,
          1,
          8,
          8,
          8,
          8,
          7,
          8,
          8,
          9,
          8,
          7,
          9,
          8,
          9,
          8,
          2,
          1,
          8,
          8,
          9,
          7,
          6,
          4,
          7,
          8,
          9,
          8,
          8,
          8,
          8,
          9,
          8,
          7,
          6,
          7,
          7,
          3,
          8,
          9,
          9,
          4,
          1,
          8,
          8,
          7,
          9,
          7
         ],
         "yaxis": "y"
        },
        {
         "customdata": [
          [
           "5"
          ],
          [
           "5"
          ],
          [
           "5"
          ],
          [
           "5"
          ],
          [
           "5"
          ],
          [
           "5"
          ],
          [
           "5"
          ],
          [
           "5"
          ],
          [
           "5"
          ],
          [
           "5"
          ],
          [
           "5"
          ],
          [
           "5"
          ],
          [
           "5"
          ],
          [
           "5"
          ],
          [
           "5"
          ],
          [
           "5"
          ],
          [
           "5"
          ],
          [
           "5"
          ],
          [
           "5"
          ],
          [
           "5"
          ],
          [
           "5"
          ],
          [
           "5"
          ],
          [
           "5"
          ],
          [
           "5"
          ],
          [
           "5"
          ],
          [
           "5"
          ],
          [
           "5"
          ],
          [
           "5"
          ],
          [
           "5"
          ],
          [
           "5"
          ],
          [
           "5"
          ],
          [
           "5"
          ],
          [
           "5"
          ],
          [
           "5"
          ],
          [
           "5"
          ],
          [
           "5"
          ],
          [
           "5"
          ],
          [
           "5"
          ],
          [
           "5"
          ]
         ],
         "hovertemplate": "<b>%{hovertext}</b><br><br>Stool Type=%{customdata[0]}<br>Days since starting treatment=%{x}<br>Complete Spontaneous Bowel Movements=%{y}<extra></extra>",
         "hovertext": [
          "QIP0",
          "QIP1",
          "QIP1",
          "QIP10",
          "QIP12",
          "QIP12",
          "QIP12",
          "QIP15",
          "QIP17",
          "QIP20",
          "QIP20",
          "QIP20",
          "QIP20",
          "QIP20",
          "QIP20",
          "QIP20",
          "QIP20",
          "QIP20",
          "QIP20",
          "QIP20",
          "QIP20",
          "QIP20",
          "QIP20",
          "QIP22",
          "QIP23",
          "QIP25",
          "QIP3",
          "QIP3",
          "QIP3",
          "QIP3",
          "QIP3",
          "QIP3",
          "QIP3",
          "QIP3",
          "QIP3",
          "QIP3",
          "QIP3",
          "QIP7",
          "QIP9"
         ],
         "legendgroup": "5",
         "marker": {
          "color": "green",
          "line": {
           "color": "DarkSlateGrey",
           "width": 2
          },
          "opacity": 0.6,
          "size": 12,
          "symbol": "circle"
         },
         "mode": "markers",
         "name": "5",
         "orientation": "v",
         "showlegend": true,
         "type": "scatter",
         "x": [
          0,
          0,
          0,
          0,
          0,
          46,
          6,
          0,
          0,
          0,
          0,
          0,
          0,
          0,
          38,
          7,
          27,
          7,
          7,
          13,
          7,
          6,
          14,
          0,
          0,
          66,
          0,
          0,
          0,
          0,
          0,
          0,
          0,
          0,
          0,
          0,
          50,
          0,
          0
         ],
         "xaxis": "x",
         "y": [
          3,
          8,
          8,
          8,
          8,
          8,
          8,
          9,
          9,
          8,
          9,
          9,
          8,
          9,
          8,
          8,
          8,
          8,
          8,
          8,
          8,
          8,
          8,
          9,
          9,
          9,
          7,
          7,
          8,
          7,
          9,
          6,
          9,
          8,
          7,
          7,
          7,
          4,
          9
         ],
         "yaxis": "y"
        },
        {
         "customdata": [
          [
           "6"
          ],
          [
           "6"
          ],
          [
           "6"
          ],
          [
           "6"
          ],
          [
           "6"
          ],
          [
           "6"
          ],
          [
           "6"
          ],
          [
           "6"
          ],
          [
           "6"
          ],
          [
           "6"
          ],
          [
           "6"
          ],
          [
           "6"
          ],
          [
           "6"
          ],
          [
           "6"
          ],
          [
           "6"
          ],
          [
           "6"
          ],
          [
           "6"
          ],
          [
           "6"
          ],
          [
           "6"
          ],
          [
           "6"
          ],
          [
           "6"
          ],
          [
           "6"
          ],
          [
           "6"
          ],
          [
           "6"
          ],
          [
           "6"
          ],
          [
           "6"
          ],
          [
           "6"
          ],
          [
           "6"
          ],
          [
           "6"
          ],
          [
           "6"
          ],
          [
           "6"
          ],
          [
           "6"
          ],
          [
           "6"
          ],
          [
           "6"
          ],
          [
           "6"
          ],
          [
           "6"
          ],
          [
           "6"
          ],
          [
           "6"
          ],
          [
           "6"
          ],
          [
           "6"
          ],
          [
           "6"
          ],
          [
           "6"
          ],
          [
           "6"
          ],
          [
           "6"
          ],
          [
           "6"
          ],
          [
           "6"
          ],
          [
           "6"
          ],
          [
           "6"
          ],
          [
           "6"
          ],
          [
           "6"
          ],
          [
           "6"
          ],
          [
           "6"
          ],
          [
           "6"
          ]
         ],
         "hovertemplate": "<b>%{hovertext}</b><br><br>Stool Type=%{customdata[0]}<br>Days since starting treatment=%{x}<br>Complete Spontaneous Bowel Movements=%{y}<extra></extra>",
         "hovertext": [
          "QIP0",
          "QIP0",
          "QIP0",
          "QIP0",
          "QIP1",
          "QIP1",
          "QIP1",
          "QIP1",
          "QIP1",
          "QIP1",
          "QIP1",
          "QIP1",
          "QIP11",
          "QIP11",
          "QIP12",
          "QIP12",
          "QIP12",
          "QIP13",
          "QIP13",
          "QIP16",
          "QIP17",
          "QIP17",
          "QIP2",
          "QIP2",
          "QIP20",
          "QIP20",
          "QIP23",
          "QIP23",
          "QIP23",
          "QIP24",
          "QIP24",
          "QIP25",
          "QIP26",
          "QIP26",
          "QIP26",
          "QIP27",
          "QIP3",
          "QIP3",
          "QIP3",
          "QIP3",
          "QIP3",
          "QIP4",
          "QIP5",
          "QIP5",
          "QIP5",
          "QIP5",
          "QIP6",
          "QIP6",
          "QIP6",
          "QIP6",
          "QIP6",
          "QIP8",
          "QIP9"
         ],
         "legendgroup": "6",
         "marker": {
          "color": "orange",
          "line": {
           "color": "DarkSlateGrey",
           "width": 2
          },
          "opacity": 0.6,
          "size": 12,
          "symbol": "circle"
         },
         "mode": "markers",
         "name": "6",
         "orientation": "v",
         "showlegend": true,
         "type": "scatter",
         "x": [
          0,
          0,
          0,
          0,
          0,
          0,
          0,
          0,
          0,
          0,
          0,
          0,
          0,
          0,
          0,
          0,
          0,
          0,
          0,
          0,
          0,
          0,
          0,
          0,
          0,
          0,
          0,
          0,
          0,
          0,
          0,
          0,
          0,
          42,
          18,
          0,
          0,
          0,
          0,
          0,
          0,
          0,
          0,
          0,
          0,
          111,
          0,
          0,
          0,
          0,
          0,
          0,
          0
         ],
         "xaxis": "x",
         "y": [
          1,
          6,
          4,
          4,
          9,
          9,
          9,
          9,
          9,
          9,
          9,
          9,
          9,
          7,
          8,
          9,
          9,
          9,
          9,
          9,
          9,
          9,
          7,
          8,
          9,
          9,
          9,
          9,
          9,
          8,
          8,
          7,
          8,
          8,
          8,
          9,
          8,
          8,
          9,
          7,
          6,
          6,
          1,
          1,
          4,
          1,
          6,
          1,
          1,
          1,
          1,
          6,
          9
         ],
         "yaxis": "y"
        },
        {
         "customdata": [
          [
           "7"
          ],
          [
           "7"
          ],
          [
           "7"
          ],
          [
           "7"
          ],
          [
           "7"
          ],
          [
           "7"
          ],
          [
           "7"
          ],
          [
           "7"
          ],
          [
           "7"
          ],
          [
           "7"
          ],
          [
           "7"
          ],
          [
           "7"
          ],
          [
           "7"
          ],
          [
           "7"
          ],
          [
           "7"
          ],
          [
           "7"
          ],
          [
           "7"
          ],
          [
           "7"
          ],
          [
           "7"
          ],
          [
           "7"
          ],
          [
           "7"
          ],
          [
           "7"
          ],
          [
           "7"
          ],
          [
           "7"
          ],
          [
           "7"
          ],
          [
           "7"
          ],
          [
           "7"
          ],
          [
           "7"
          ],
          [
           "7"
          ],
          [
           "7"
          ],
          [
           "7"
          ],
          [
           "7"
          ]
         ],
         "hovertemplate": "<b>%{hovertext}</b><br><br>Stool Type=%{customdata[0]}<br>Days since starting treatment=%{x}<br>Complete Spontaneous Bowel Movements=%{y}<extra></extra>",
         "hovertext": [
          "QIP0",
          "QIP0",
          "QIP11",
          "QIP11",
          "QIP11",
          "QIP11",
          "QIP11",
          "QIP14",
          "QIP16",
          "QIP18",
          "QIP22",
          "QIP25",
          "QIP27",
          "QIP3",
          "QIP3",
          "QIP3",
          "QIP3",
          "QIP3",
          "QIP4",
          "QIP4",
          "QIP4",
          "QIP4",
          "QIP4",
          "QIP4",
          "QIP4",
          "QIP4",
          "QIP4",
          "QIP4",
          "QIP4",
          "QIP4",
          "QIP4",
          "QIP8"
         ],
         "legendgroup": "7",
         "marker": {
          "color": "red",
          "line": {
           "color": "DarkSlateGrey",
           "width": 2
          },
          "opacity": 0.6,
          "size": 12,
          "symbol": "circle"
         },
         "mode": "markers",
         "name": "7",
         "orientation": "v",
         "showlegend": true,
         "type": "scatter",
         "x": [
          0,
          0,
          0,
          0,
          0,
          0,
          0,
          0,
          0,
          0,
          0,
          53,
          0,
          0,
          0,
          0,
          0,
          0,
          0,
          0,
          0,
          0,
          0,
          0,
          0,
          0,
          0,
          0,
          0,
          0,
          0,
          0
         ],
         "xaxis": "x",
         "y": [
          1,
          7,
          6,
          6,
          8,
          8,
          9,
          9,
          2,
          9,
          1,
          8,
          9,
          9,
          1,
          1,
          8,
          9,
          1,
          1,
          8,
          7,
          2,
          8,
          3,
          6,
          3,
          6,
          9,
          7,
          9,
          9
         ],
         "yaxis": "y"
        },
        {
         "hovertemplate": "<b>OLS trendline</b><br>csbm = -0.00470887 * time + 6.73734<br>R<sup>2</sup>=0.001105<br><br>Days since starting treatment=%{x}<br>Complete Spontaneous Bowel Movements=%{y} <b>(trend)</b><extra></extra>",
         "legendgroup": "Overall Trendline",
         "line": {
          "color": "red"
         },
         "mode": "lines",
         "name": "Overall Trendline",
         "showlegend": true,
         "type": "scatter",
         "x": [
          0,
          0,
          0,
          0,
          0,
          0,
          0,
          0,
          0,
          0,
          0,
          0,
          0,
          0,
          0,
          0,
          0,
          0,
          0,
          0,
          0,
          0,
          0,
          0,
          0,
          0,
          0,
          0,
          0,
          0,
          0,
          0,
          0,
          0,
          0,
          0,
          0,
          0,
          0,
          0,
          0,
          0,
          0,
          0,
          0,
          0,
          0,
          0,
          0,
          0,
          0,
          0,
          0,
          0,
          0,
          0,
          0,
          0,
          0,
          0,
          0,
          0,
          0,
          0,
          0,
          0,
          0,
          0,
          0,
          0,
          0,
          0,
          0,
          0,
          0,
          0,
          0,
          0,
          0,
          0,
          0,
          0,
          0,
          0,
          0,
          0,
          0,
          0,
          0,
          0,
          0,
          0,
          0,
          0,
          0,
          0,
          0,
          0,
          0,
          0,
          0,
          0,
          0,
          0,
          0,
          0,
          0,
          0,
          0,
          0,
          0,
          0,
          0,
          0,
          0,
          0,
          0,
          0,
          0,
          0,
          0,
          0,
          0,
          0,
          0,
          0,
          0,
          0,
          0,
          0,
          0,
          0,
          0,
          0,
          0,
          0,
          0,
          0,
          0,
          0,
          0,
          0,
          0,
          0,
          0,
          0,
          0,
          0,
          0,
          0,
          0,
          0,
          0,
          0,
          0,
          0,
          0,
          0,
          0,
          0,
          0,
          0,
          0,
          0,
          0,
          0,
          0,
          0,
          0,
          0,
          0,
          0,
          0,
          0,
          0,
          0,
          0,
          0,
          0,
          0,
          0,
          0,
          0,
          0,
          0,
          0,
          0,
          0,
          0,
          0,
          0,
          0,
          0,
          0,
          0,
          0,
          0,
          0,
          1,
          6,
          6,
          6,
          7,
          7,
          7,
          7,
          9,
          11,
          13,
          13,
          14,
          17,
          18,
          27,
          33,
          38,
          40,
          42,
          42,
          46,
          50,
          53,
          64,
          66,
          75,
          111,
          120,
          137
         ],
         "xaxis": "x",
         "y": [
          6.737341386645147,
          6.737341386645147,
          6.737341386645147,
          6.737341386645147,
          6.737341386645147,
          6.737341386645147,
          6.737341386645147,
          6.737341386645147,
          6.737341386645147,
          6.737341386645147,
          6.737341386645147,
          6.737341386645147,
          6.737341386645147,
          6.737341386645147,
          6.737341386645147,
          6.737341386645147,
          6.737341386645147,
          6.737341386645147,
          6.737341386645147,
          6.737341386645147,
          6.737341386645147,
          6.737341386645147,
          6.737341386645147,
          6.737341386645147,
          6.737341386645147,
          6.737341386645147,
          6.737341386645147,
          6.737341386645147,
          6.737341386645147,
          6.737341386645147,
          6.737341386645147,
          6.737341386645147,
          6.737341386645147,
          6.737341386645147,
          6.737341386645147,
          6.737341386645147,
          6.737341386645147,
          6.737341386645147,
          6.737341386645147,
          6.737341386645147,
          6.737341386645147,
          6.737341386645147,
          6.737341386645147,
          6.737341386645147,
          6.737341386645147,
          6.737341386645147,
          6.737341386645147,
          6.737341386645147,
          6.737341386645147,
          6.737341386645147,
          6.737341386645147,
          6.737341386645147,
          6.737341386645147,
          6.737341386645147,
          6.737341386645147,
          6.737341386645147,
          6.737341386645147,
          6.737341386645147,
          6.737341386645147,
          6.737341386645147,
          6.737341386645147,
          6.737341386645147,
          6.737341386645147,
          6.737341386645147,
          6.737341386645147,
          6.737341386645147,
          6.737341386645147,
          6.737341386645147,
          6.737341386645147,
          6.737341386645147,
          6.737341386645147,
          6.737341386645147,
          6.737341386645147,
          6.737341386645147,
          6.737341386645147,
          6.737341386645147,
          6.737341386645147,
          6.737341386645147,
          6.737341386645147,
          6.737341386645147,
          6.737341386645147,
          6.737341386645147,
          6.737341386645147,
          6.737341386645147,
          6.737341386645147,
          6.737341386645147,
          6.737341386645147,
          6.737341386645147,
          6.737341386645147,
          6.737341386645147,
          6.737341386645147,
          6.737341386645147,
          6.737341386645147,
          6.737341386645147,
          6.737341386645147,
          6.737341386645147,
          6.737341386645147,
          6.737341386645147,
          6.737341386645147,
          6.737341386645147,
          6.737341386645147,
          6.737341386645147,
          6.737341386645147,
          6.737341386645147,
          6.737341386645147,
          6.737341386645147,
          6.737341386645147,
          6.737341386645147,
          6.737341386645147,
          6.737341386645147,
          6.737341386645147,
          6.737341386645147,
          6.737341386645147,
          6.737341386645147,
          6.737341386645147,
          6.737341386645147,
          6.737341386645147,
          6.737341386645147,
          6.737341386645147,
          6.737341386645147,
          6.737341386645147,
          6.737341386645147,
          6.737341386645147,
          6.737341386645147,
          6.737341386645147,
          6.737341386645147,
          6.737341386645147,
          6.737341386645147,
          6.737341386645147,
          6.737341386645147,
          6.737341386645147,
          6.737341386645147,
          6.737341386645147,
          6.737341386645147,
          6.737341386645147,
          6.737341386645147,
          6.737341386645147,
          6.737341386645147,
          6.737341386645147,
          6.737341386645147,
          6.737341386645147,
          6.737341386645147,
          6.737341386645147,
          6.737341386645147,
          6.737341386645147,
          6.737341386645147,
          6.737341386645147,
          6.737341386645147,
          6.737341386645147,
          6.737341386645147,
          6.737341386645147,
          6.737341386645147,
          6.737341386645147,
          6.737341386645147,
          6.737341386645147,
          6.737341386645147,
          6.737341386645147,
          6.737341386645147,
          6.737341386645147,
          6.737341386645147,
          6.737341386645147,
          6.737341386645147,
          6.737341386645147,
          6.737341386645147,
          6.737341386645147,
          6.737341386645147,
          6.737341386645147,
          6.737341386645147,
          6.737341386645147,
          6.737341386645147,
          6.737341386645147,
          6.737341386645147,
          6.737341386645147,
          6.737341386645147,
          6.737341386645147,
          6.737341386645147,
          6.737341386645147,
          6.737341386645147,
          6.737341386645147,
          6.737341386645147,
          6.737341386645147,
          6.737341386645147,
          6.737341386645147,
          6.737341386645147,
          6.737341386645147,
          6.737341386645147,
          6.737341386645147,
          6.737341386645147,
          6.737341386645147,
          6.737341386645147,
          6.737341386645147,
          6.737341386645147,
          6.737341386645147,
          6.737341386645147,
          6.737341386645147,
          6.737341386645147,
          6.737341386645147,
          6.737341386645147,
          6.732632513574159,
          6.7090881482192195,
          6.7090881482192195,
          6.7090881482192195,
          6.704379275148232,
          6.704379275148232,
          6.704379275148232,
          6.704379275148232,
          6.694961529006255,
          6.685543782864279,
          6.676126036722303,
          6.676126036722303,
          6.6714171636513155,
          6.657290544438352,
          6.652581671367364,
          6.610201813728472,
          6.581948575302545,
          6.558404209947605,
          6.548986463805629,
          6.539568717663653,
          6.539568717663653,
          6.5207332253797015,
          6.50189773309575,
          6.487771113882786,
          6.435973510101919,
          6.426555763959943,
          6.384175906321051,
          6.214656475765485,
          6.172276618126594,
          6.092225775919799
         ],
         "yaxis": "y"
        }
       ],
       "layout": {
        "legend": {
         "bordercolor": "Black",
         "borderwidth": 1,
         "orientation": "h",
         "title": {
          "text": "Stool Type"
         },
         "tracegroupgap": 0,
         "x": 0.4,
         "xanchor": "center",
         "y": -0.12,
         "yanchor": "top"
        },
        "margin": {
         "b": 0,
         "l": 2,
         "pad": 0,
         "r": 2,
         "t": 0
        },
        "shapes": [
         {
          "fillcolor": "green",
          "layer": "below",
          "line": {
           "width": 0
          },
          "opacity": 0.2,
          "type": "rect",
          "x0": 0,
          "x1": 1,
          "xref": "x domain",
          "y0": 10,
          "y1": 7.5,
          "yref": "y"
         },
         {
          "fillcolor": "orange",
          "layer": "below",
          "line": {
           "width": 0
          },
          "opacity": 0.2,
          "type": "rect",
          "x0": 0,
          "x1": 1,
          "xref": "x domain",
          "y0": 7.5,
          "y1": 3.5,
          "yref": "y"
         },
         {
          "fillcolor": "red",
          "layer": "below",
          "line": {
           "width": 0
          },
          "opacity": 0.2,
          "type": "rect",
          "x0": 0,
          "x1": 1,
          "xref": "x domain",
          "y0": 3.5,
          "y1": 0,
          "yref": "y"
         }
        ],
        "template": {
         "data": {
          "bar": [
           {
            "error_x": {
             "color": "#2a3f5f"
            },
            "error_y": {
             "color": "#2a3f5f"
            },
            "marker": {
             "line": {
              "color": "#E5ECF6",
              "width": 0.5
             },
             "pattern": {
              "fillmode": "overlay",
              "size": 10,
              "solidity": 0.2
             }
            },
            "type": "bar"
           }
          ],
          "barpolar": [
           {
            "marker": {
             "line": {
              "color": "#E5ECF6",
              "width": 0.5
             },
             "pattern": {
              "fillmode": "overlay",
              "size": 10,
              "solidity": 0.2
             }
            },
            "type": "barpolar"
           }
          ],
          "carpet": [
           {
            "aaxis": {
             "endlinecolor": "#2a3f5f",
             "gridcolor": "white",
             "linecolor": "white",
             "minorgridcolor": "white",
             "startlinecolor": "#2a3f5f"
            },
            "baxis": {
             "endlinecolor": "#2a3f5f",
             "gridcolor": "white",
             "linecolor": "white",
             "minorgridcolor": "white",
             "startlinecolor": "#2a3f5f"
            },
            "type": "carpet"
           }
          ],
          "choropleth": [
           {
            "colorbar": {
             "outlinewidth": 0,
             "ticks": ""
            },
            "type": "choropleth"
           }
          ],
          "contour": [
           {
            "colorbar": {
             "outlinewidth": 0,
             "ticks": ""
            },
            "colorscale": [
             [
              0,
              "#0d0887"
             ],
             [
              0.1111111111111111,
              "#46039f"
             ],
             [
              0.2222222222222222,
              "#7201a8"
             ],
             [
              0.3333333333333333,
              "#9c179e"
             ],
             [
              0.4444444444444444,
              "#bd3786"
             ],
             [
              0.5555555555555556,
              "#d8576b"
             ],
             [
              0.6666666666666666,
              "#ed7953"
             ],
             [
              0.7777777777777778,
              "#fb9f3a"
             ],
             [
              0.8888888888888888,
              "#fdca26"
             ],
             [
              1,
              "#f0f921"
             ]
            ],
            "type": "contour"
           }
          ],
          "contourcarpet": [
           {
            "colorbar": {
             "outlinewidth": 0,
             "ticks": ""
            },
            "type": "contourcarpet"
           }
          ],
          "heatmap": [
           {
            "colorbar": {
             "outlinewidth": 0,
             "ticks": ""
            },
            "colorscale": [
             [
              0,
              "#0d0887"
             ],
             [
              0.1111111111111111,
              "#46039f"
             ],
             [
              0.2222222222222222,
              "#7201a8"
             ],
             [
              0.3333333333333333,
              "#9c179e"
             ],
             [
              0.4444444444444444,
              "#bd3786"
             ],
             [
              0.5555555555555556,
              "#d8576b"
             ],
             [
              0.6666666666666666,
              "#ed7953"
             ],
             [
              0.7777777777777778,
              "#fb9f3a"
             ],
             [
              0.8888888888888888,
              "#fdca26"
             ],
             [
              1,
              "#f0f921"
             ]
            ],
            "type": "heatmap"
           }
          ],
          "heatmapgl": [
           {
            "colorbar": {
             "outlinewidth": 0,
             "ticks": ""
            },
            "colorscale": [
             [
              0,
              "#0d0887"
             ],
             [
              0.1111111111111111,
              "#46039f"
             ],
             [
              0.2222222222222222,
              "#7201a8"
             ],
             [
              0.3333333333333333,
              "#9c179e"
             ],
             [
              0.4444444444444444,
              "#bd3786"
             ],
             [
              0.5555555555555556,
              "#d8576b"
             ],
             [
              0.6666666666666666,
              "#ed7953"
             ],
             [
              0.7777777777777778,
              "#fb9f3a"
             ],
             [
              0.8888888888888888,
              "#fdca26"
             ],
             [
              1,
              "#f0f921"
             ]
            ],
            "type": "heatmapgl"
           }
          ],
          "histogram": [
           {
            "marker": {
             "pattern": {
              "fillmode": "overlay",
              "size": 10,
              "solidity": 0.2
             }
            },
            "type": "histogram"
           }
          ],
          "histogram2d": [
           {
            "colorbar": {
             "outlinewidth": 0,
             "ticks": ""
            },
            "colorscale": [
             [
              0,
              "#0d0887"
             ],
             [
              0.1111111111111111,
              "#46039f"
             ],
             [
              0.2222222222222222,
              "#7201a8"
             ],
             [
              0.3333333333333333,
              "#9c179e"
             ],
             [
              0.4444444444444444,
              "#bd3786"
             ],
             [
              0.5555555555555556,
              "#d8576b"
             ],
             [
              0.6666666666666666,
              "#ed7953"
             ],
             [
              0.7777777777777778,
              "#fb9f3a"
             ],
             [
              0.8888888888888888,
              "#fdca26"
             ],
             [
              1,
              "#f0f921"
             ]
            ],
            "type": "histogram2d"
           }
          ],
          "histogram2dcontour": [
           {
            "colorbar": {
             "outlinewidth": 0,
             "ticks": ""
            },
            "colorscale": [
             [
              0,
              "#0d0887"
             ],
             [
              0.1111111111111111,
              "#46039f"
             ],
             [
              0.2222222222222222,
              "#7201a8"
             ],
             [
              0.3333333333333333,
              "#9c179e"
             ],
             [
              0.4444444444444444,
              "#bd3786"
             ],
             [
              0.5555555555555556,
              "#d8576b"
             ],
             [
              0.6666666666666666,
              "#ed7953"
             ],
             [
              0.7777777777777778,
              "#fb9f3a"
             ],
             [
              0.8888888888888888,
              "#fdca26"
             ],
             [
              1,
              "#f0f921"
             ]
            ],
            "type": "histogram2dcontour"
           }
          ],
          "mesh3d": [
           {
            "colorbar": {
             "outlinewidth": 0,
             "ticks": ""
            },
            "type": "mesh3d"
           }
          ],
          "parcoords": [
           {
            "line": {
             "colorbar": {
              "outlinewidth": 0,
              "ticks": ""
             }
            },
            "type": "parcoords"
           }
          ],
          "pie": [
           {
            "automargin": true,
            "type": "pie"
           }
          ],
          "scatter": [
           {
            "marker": {
             "colorbar": {
              "outlinewidth": 0,
              "ticks": ""
             }
            },
            "type": "scatter"
           }
          ],
          "scatter3d": [
           {
            "line": {
             "colorbar": {
              "outlinewidth": 0,
              "ticks": ""
             }
            },
            "marker": {
             "colorbar": {
              "outlinewidth": 0,
              "ticks": ""
             }
            },
            "type": "scatter3d"
           }
          ],
          "scattercarpet": [
           {
            "marker": {
             "colorbar": {
              "outlinewidth": 0,
              "ticks": ""
             }
            },
            "type": "scattercarpet"
           }
          ],
          "scattergeo": [
           {
            "marker": {
             "colorbar": {
              "outlinewidth": 0,
              "ticks": ""
             }
            },
            "type": "scattergeo"
           }
          ],
          "scattergl": [
           {
            "marker": {
             "colorbar": {
              "outlinewidth": 0,
              "ticks": ""
             }
            },
            "type": "scattergl"
           }
          ],
          "scattermapbox": [
           {
            "marker": {
             "colorbar": {
              "outlinewidth": 0,
              "ticks": ""
             }
            },
            "type": "scattermapbox"
           }
          ],
          "scatterpolar": [
           {
            "marker": {
             "colorbar": {
              "outlinewidth": 0,
              "ticks": ""
             }
            },
            "type": "scatterpolar"
           }
          ],
          "scatterpolargl": [
           {
            "marker": {
             "colorbar": {
              "outlinewidth": 0,
              "ticks": ""
             }
            },
            "type": "scatterpolargl"
           }
          ],
          "scatterternary": [
           {
            "marker": {
             "colorbar": {
              "outlinewidth": 0,
              "ticks": ""
             }
            },
            "type": "scatterternary"
           }
          ],
          "surface": [
           {
            "colorbar": {
             "outlinewidth": 0,
             "ticks": ""
            },
            "colorscale": [
             [
              0,
              "#0d0887"
             ],
             [
              0.1111111111111111,
              "#46039f"
             ],
             [
              0.2222222222222222,
              "#7201a8"
             ],
             [
              0.3333333333333333,
              "#9c179e"
             ],
             [
              0.4444444444444444,
              "#bd3786"
             ],
             [
              0.5555555555555556,
              "#d8576b"
             ],
             [
              0.6666666666666666,
              "#ed7953"
             ],
             [
              0.7777777777777778,
              "#fb9f3a"
             ],
             [
              0.8888888888888888,
              "#fdca26"
             ],
             [
              1,
              "#f0f921"
             ]
            ],
            "type": "surface"
           }
          ],
          "table": [
           {
            "cells": {
             "fill": {
              "color": "#EBF0F8"
             },
             "line": {
              "color": "white"
             }
            },
            "header": {
             "fill": {
              "color": "#C8D4E3"
             },
             "line": {
              "color": "white"
             }
            },
            "type": "table"
           }
          ]
         },
         "layout": {
          "annotationdefaults": {
           "arrowcolor": "#2a3f5f",
           "arrowhead": 0,
           "arrowwidth": 1
          },
          "autotypenumbers": "strict",
          "coloraxis": {
           "colorbar": {
            "outlinewidth": 0,
            "ticks": ""
           }
          },
          "colorscale": {
           "diverging": [
            [
             0,
             "#8e0152"
            ],
            [
             0.1,
             "#c51b7d"
            ],
            [
             0.2,
             "#de77ae"
            ],
            [
             0.3,
             "#f1b6da"
            ],
            [
             0.4,
             "#fde0ef"
            ],
            [
             0.5,
             "#f7f7f7"
            ],
            [
             0.6,
             "#e6f5d0"
            ],
            [
             0.7,
             "#b8e186"
            ],
            [
             0.8,
             "#7fbc41"
            ],
            [
             0.9,
             "#4d9221"
            ],
            [
             1,
             "#276419"
            ]
           ],
           "sequential": [
            [
             0,
             "#0d0887"
            ],
            [
             0.1111111111111111,
             "#46039f"
            ],
            [
             0.2222222222222222,
             "#7201a8"
            ],
            [
             0.3333333333333333,
             "#9c179e"
            ],
            [
             0.4444444444444444,
             "#bd3786"
            ],
            [
             0.5555555555555556,
             "#d8576b"
            ],
            [
             0.6666666666666666,
             "#ed7953"
            ],
            [
             0.7777777777777778,
             "#fb9f3a"
            ],
            [
             0.8888888888888888,
             "#fdca26"
            ],
            [
             1,
             "#f0f921"
            ]
           ],
           "sequentialminus": [
            [
             0,
             "#0d0887"
            ],
            [
             0.1111111111111111,
             "#46039f"
            ],
            [
             0.2222222222222222,
             "#7201a8"
            ],
            [
             0.3333333333333333,
             "#9c179e"
            ],
            [
             0.4444444444444444,
             "#bd3786"
            ],
            [
             0.5555555555555556,
             "#d8576b"
            ],
            [
             0.6666666666666666,
             "#ed7953"
            ],
            [
             0.7777777777777778,
             "#fb9f3a"
            ],
            [
             0.8888888888888888,
             "#fdca26"
            ],
            [
             1,
             "#f0f921"
            ]
           ]
          },
          "colorway": [
           "#636efa",
           "#EF553B",
           "#00cc96",
           "#ab63fa",
           "#FFA15A",
           "#19d3f3",
           "#FF6692",
           "#B6E880",
           "#FF97FF",
           "#FECB52"
          ],
          "font": {
           "color": "#2a3f5f"
          },
          "geo": {
           "bgcolor": "white",
           "lakecolor": "white",
           "landcolor": "#E5ECF6",
           "showlakes": true,
           "showland": true,
           "subunitcolor": "white"
          },
          "hoverlabel": {
           "align": "left"
          },
          "hovermode": "closest",
          "mapbox": {
           "style": "light"
          },
          "paper_bgcolor": "white",
          "plot_bgcolor": "#E5ECF6",
          "polar": {
           "angularaxis": {
            "gridcolor": "white",
            "linecolor": "white",
            "ticks": ""
           },
           "bgcolor": "#E5ECF6",
           "radialaxis": {
            "gridcolor": "white",
            "linecolor": "white",
            "ticks": ""
           }
          },
          "scene": {
           "xaxis": {
            "backgroundcolor": "#E5ECF6",
            "gridcolor": "white",
            "gridwidth": 2,
            "linecolor": "white",
            "showbackground": true,
            "ticks": "",
            "zerolinecolor": "white"
           },
           "yaxis": {
            "backgroundcolor": "#E5ECF6",
            "gridcolor": "white",
            "gridwidth": 2,
            "linecolor": "white",
            "showbackground": true,
            "ticks": "",
            "zerolinecolor": "white"
           },
           "zaxis": {
            "backgroundcolor": "#E5ECF6",
            "gridcolor": "white",
            "gridwidth": 2,
            "linecolor": "white",
            "showbackground": true,
            "ticks": "",
            "zerolinecolor": "white"
           }
          },
          "shapedefaults": {
           "line": {
            "color": "#2a3f5f"
           }
          },
          "ternary": {
           "aaxis": {
            "gridcolor": "white",
            "linecolor": "white",
            "ticks": ""
           },
           "baxis": {
            "gridcolor": "white",
            "linecolor": "white",
            "ticks": ""
           },
           "bgcolor": "#E5ECF6",
           "caxis": {
            "gridcolor": "white",
            "linecolor": "white",
            "ticks": ""
           }
          },
          "title": {
           "x": 0.05
          },
          "xaxis": {
           "automargin": true,
           "gridcolor": "white",
           "linecolor": "white",
           "ticks": "",
           "title": {
            "standoff": 15
           },
           "zerolinecolor": "white",
           "zerolinewidth": 2
          },
          "yaxis": {
           "automargin": true,
           "gridcolor": "white",
           "linecolor": "white",
           "ticks": "",
           "title": {
            "standoff": 15
           },
           "zerolinecolor": "white",
           "zerolinewidth": 2
          }
         }
        },
        "xaxis": {
         "anchor": "y",
         "domain": [
          0,
          1
         ],
         "dtick": "28",
         "range": [
          -5,
          142
         ],
         "title": {
          "text": "Days since starting treatment"
         }
        },
        "yaxis": {
         "anchor": "x",
         "domain": [
          0,
          1
         ],
         "showgrid": false,
         "ticktext": [
          "< 1/week",
          "Every 7 days",
          "Every 6 days",
          "Every 5 days",
          "Every 4 days",
          "Every 3 days",
          "Every 2 days",
          "Every day",
          ">1/day"
         ],
         "tickvals": [
          1,
          2,
          3,
          4,
          5,
          6,
          7,
          8,
          9
         ],
         "title": {}
        }
       }
      }
     },
     "metadata": {},
     "output_type": "display_data"
    }
   ],
   "source": [
    "def make_csbm_bsc_fig_function(csbm_df=make_csbm_df_function()[0]):\n",
    "\n",
    "  # GET MAX NUMBER OF DAYS\n",
    "  csbm_max_days = csbm_df['time'].max()\n",
    "\n",
    "  # CONVERT STOOL COLUMN TO STR FOR DISCRETE COLOURS\n",
    "  csbm_df['bristol_stool_chart'] = csbm_df['bristol_stool_chart'].astype(str)\n",
    "\n",
    "  # CREATE TIMESERIES CHART\n",
    "  csbm_bsc_fig = px.scatter(csbm_df, \n",
    "                        x='time',\n",
    "                        y='csbm',\n",
    "                        color='bristol_stool_chart',\n",
    "                        opacity=0.6,\n",
    "                        color_discrete_sequence=[\"red\", \"red\", \"orange\", \"green\", \"green\",\"orange\",\"red\"],\n",
    "                        labels=dict(time=\"Days since starting treatment\", csbm=\"Complete Spontaneous Bowel Movements\", bristol_stool_chart=\"Stool Type\"), # CUSTOMISE AXIS TITLES\n",
    "                        hover_name=\"QIPID\", hover_data=[\"csbm\", \"bristol_stool_chart\"], # CUSTOMISE HOVER LABELS,\n",
    "                        trendline=\"ols\", #ADD TREND LINE\n",
    "                        trendline_scope = \"overall\",\n",
    "                        \n",
    "                        # SET ORDER OF LEGEND ITEMS \n",
    "                        category_orders={\n",
    "                            'bristol_stool_chart' : ['1','2','3','4','5','6','7']\n",
    "                        }\n",
    "                        \n",
    "  )\n",
    "\n",
    "  # Set custom y-axis labels according to CSBM\n",
    "  csbm_y_labs = ['< 1/week',\n",
    "                'Every 7 days',\n",
    "                'Every 6 days',\n",
    "                'Every 5 days',\n",
    "                'Every 4 days',\n",
    "                'Every 3 days',\n",
    "                'Every 2 days',\n",
    "                'Every day',\n",
    "                '>1/day']\n",
    "\n",
    "  csbm_bsc_fig.update_yaxes(\n",
    "      ticktext=csbm_y_labs,\n",
    "      tickvals=list(range(1,1+len(csbm_y_labs))),\n",
    "      showgrid=False\n",
    "  )\n",
    "  # CUSTOMISE MARKER AESTHETICS\n",
    "  csbm_bsc_fig.update_traces(marker=dict(size=12,\n",
    "                                line=dict(width=2,\n",
    "                                          color='DarkSlateGrey')),\n",
    "                    selector=dict(mode='markers')\n",
    "                  )\n",
    "\n",
    "  #CUSTOMISE DATE x AXIS FORMAT\n",
    "  csbm_bsc_fig.update_xaxes(\n",
    "      dtick=\"28\",\n",
    "      range=[-5,csbm_max_days+5],\n",
    "      #showgrid=False\n",
    "      )\n",
    "\n",
    "  csbm_bsc_fig.update_layout(\n",
    "            # title={\n",
    "            #     'text': '💩 Complete Spontaneous Bowel Movements & Bristol Stool Score',\n",
    "            #     'y':0.95,\n",
    "            #     'x':0.5,\n",
    "            #     'xanchor': 'center',\n",
    "            #     'yanchor': 'top'},\n",
    "              \n",
    "            yaxis_title=None, #REMOVE Y TITLE\n",
    "\n",
    "            # FIX FIGURE MARGINS\n",
    "            # width=500,\n",
    "            # height=500,\n",
    "            margin=dict(\n",
    "                l=2,\n",
    "                r=2,\n",
    "                b=0,\n",
    "                t=0,\n",
    "                pad=0\n",
    "            ),\n",
    "            #paper_bgcolor=\"LightSteelBlue\",\n",
    "          \n",
    "          )\n",
    "\n",
    "\n",
    "  # COLOUR BACKGROUND ACCORDINGLY\n",
    "  csbm_bsc_fig.add_hrect(y0=10, y1=7.5, line_width=0, fillcolor=\"green\", opacity=0.2,layer=\"below\")\n",
    "  csbm_bsc_fig.add_hrect(y0=7.5, y1=3.5, line_width=0, fillcolor=\"orange\", opacity=0.2,layer=\"below\")\n",
    "  csbm_bsc_fig.add_hrect(y0=3.5, y1=0, line_width=0, fillcolor=\"red\", opacity=0.2,layer=\"below\")\n",
    "\n",
    "  # UPDATE LEGEND POSITION\n",
    "\n",
    "  csbm_bsc_fig.update_layout(\n",
    "      \n",
    "      legend=dict(\n",
    "                  yanchor=\"top\",\n",
    "                  y=-0.12,\n",
    "                  xanchor=\"center\",\n",
    "                  x=0.4,\n",
    "                  orientation='h',\n",
    "                  #bgcolor=\"LightSteelBlue\",\n",
    "                  bordercolor=\"Black\",\n",
    "                  borderwidth=1\n",
    "                 )\n",
    "      )\n",
    "\n",
    "\n",
    "\n",
    "  return csbm_bsc_fig\n",
    "\n",
    "make_csbm_bsc_fig_function()"
   ]
  },
  {
   "cell_type": "markdown",
   "metadata": {},
   "source": [
    "# ST MARKS DF"
   ]
  },
  {
   "cell_type": "code",
   "execution_count": 17,
   "metadata": {},
   "outputs": [
    {
     "name": "stdout",
     "output_type": "stream",
     "text": [
      "SMS: Dropped 71 due to NA.\n"
     ]
    },
    {
     "data": {
      "text/html": [
       "<div>\n",
       "<style scoped>\n",
       "    .dataframe tbody tr th:only-of-type {\n",
       "        vertical-align: middle;\n",
       "    }\n",
       "\n",
       "    .dataframe tbody tr th {\n",
       "        vertical-align: top;\n",
       "    }\n",
       "\n",
       "    .dataframe thead th {\n",
       "        text-align: right;\n",
       "    }\n",
       "</style>\n",
       "<table border=\"1\" class=\"dataframe\">\n",
       "  <thead>\n",
       "    <tr style=\"text-align: right;\">\n",
       "      <th></th>\n",
       "      <th>recorded_date</th>\n",
       "      <th>QIPID</th>\n",
       "      <th>SM_solid</th>\n",
       "      <th>SM_liquid</th>\n",
       "      <th>SM_gas</th>\n",
       "      <th>SM_activity_change</th>\n",
       "      <th>SM_pad</th>\n",
       "      <th>SM_constipation_med</th>\n",
       "      <th>SM_inability_stool_15min</th>\n",
       "      <th>time</th>\n",
       "      <th>total_score</th>\n",
       "      <th>score_colour</th>\n",
       "    </tr>\n",
       "  </thead>\n",
       "  <tbody>\n",
       "    <tr>\n",
       "      <th>0</th>\n",
       "      <td>2021-10-23</td>\n",
       "      <td>QIP0</td>\n",
       "      <td>0.0</td>\n",
       "      <td>0.5</td>\n",
       "      <td>0.2</td>\n",
       "      <td>0.1</td>\n",
       "      <td>0</td>\n",
       "      <td>2</td>\n",
       "      <td>0</td>\n",
       "      <td>0</td>\n",
       "      <td>2.8</td>\n",
       "      <td>amber</td>\n",
       "    </tr>\n",
       "    <tr>\n",
       "      <th>1</th>\n",
       "      <td>2021-10-23</td>\n",
       "      <td>QIP0</td>\n",
       "      <td>0.0</td>\n",
       "      <td>1.0</td>\n",
       "      <td>0.1</td>\n",
       "      <td>0.1</td>\n",
       "      <td>2</td>\n",
       "      <td>2</td>\n",
       "      <td>4</td>\n",
       "      <td>0</td>\n",
       "      <td>9.2</td>\n",
       "      <td>red</td>\n",
       "    </tr>\n",
       "    <tr>\n",
       "      <th>2</th>\n",
       "      <td>2021-10-23</td>\n",
       "      <td>QIP0</td>\n",
       "      <td>0.5</td>\n",
       "      <td>1.0</td>\n",
       "      <td>0.1</td>\n",
       "      <td>0.1</td>\n",
       "      <td>2</td>\n",
       "      <td>2</td>\n",
       "      <td>4</td>\n",
       "      <td>0</td>\n",
       "      <td>9.7</td>\n",
       "      <td>red</td>\n",
       "    </tr>\n",
       "    <tr>\n",
       "      <th>3</th>\n",
       "      <td>2021-10-23</td>\n",
       "      <td>QIP0</td>\n",
       "      <td>0.5</td>\n",
       "      <td>0.5</td>\n",
       "      <td>0.0</td>\n",
       "      <td>0.1</td>\n",
       "      <td>2</td>\n",
       "      <td>2</td>\n",
       "      <td>0</td>\n",
       "      <td>0</td>\n",
       "      <td>5.1</td>\n",
       "      <td>amber</td>\n",
       "    </tr>\n",
       "    <tr>\n",
       "      <th>4</th>\n",
       "      <td>2021-10-23</td>\n",
       "      <td>QIP0</td>\n",
       "      <td>0.0</td>\n",
       "      <td>0.5</td>\n",
       "      <td>0.1</td>\n",
       "      <td>0.1</td>\n",
       "      <td>0</td>\n",
       "      <td>2</td>\n",
       "      <td>0</td>\n",
       "      <td>0</td>\n",
       "      <td>2.7</td>\n",
       "      <td>amber</td>\n",
       "    </tr>\n",
       "    <tr>\n",
       "      <th>...</th>\n",
       "      <td>...</td>\n",
       "      <td>...</td>\n",
       "      <td>...</td>\n",
       "      <td>...</td>\n",
       "      <td>...</td>\n",
       "      <td>...</td>\n",
       "      <td>...</td>\n",
       "      <td>...</td>\n",
       "      <td>...</td>\n",
       "      <td>...</td>\n",
       "      <td>...</td>\n",
       "      <td>...</td>\n",
       "    </tr>\n",
       "    <tr>\n",
       "      <th>178</th>\n",
       "      <td>2021-10-23</td>\n",
       "      <td>QIP7</td>\n",
       "      <td>0.0</td>\n",
       "      <td>0.1</td>\n",
       "      <td>0.1</td>\n",
       "      <td>0.1</td>\n",
       "      <td>0</td>\n",
       "      <td>2</td>\n",
       "      <td>0</td>\n",
       "      <td>0</td>\n",
       "      <td>2.3</td>\n",
       "      <td>green</td>\n",
       "    </tr>\n",
       "    <tr>\n",
       "      <th>179</th>\n",
       "      <td>2022-02-20</td>\n",
       "      <td>QIP7</td>\n",
       "      <td>0.0</td>\n",
       "      <td>0.1</td>\n",
       "      <td>0.0</td>\n",
       "      <td>0.0</td>\n",
       "      <td>0</td>\n",
       "      <td>2</td>\n",
       "      <td>0</td>\n",
       "      <td>120</td>\n",
       "      <td>2.1</td>\n",
       "      <td>green</td>\n",
       "    </tr>\n",
       "    <tr>\n",
       "      <th>180</th>\n",
       "      <td>2021-10-23</td>\n",
       "      <td>QIP8</td>\n",
       "      <td>1.0</td>\n",
       "      <td>1.0</td>\n",
       "      <td>0.1</td>\n",
       "      <td>0.1</td>\n",
       "      <td>2</td>\n",
       "      <td>2</td>\n",
       "      <td>4</td>\n",
       "      <td>0</td>\n",
       "      <td>10.2</td>\n",
       "      <td>red</td>\n",
       "    </tr>\n",
       "    <tr>\n",
       "      <th>181</th>\n",
       "      <td>2021-10-23</td>\n",
       "      <td>QIP8</td>\n",
       "      <td>1.0</td>\n",
       "      <td>1.0</td>\n",
       "      <td>0.1</td>\n",
       "      <td>0.0</td>\n",
       "      <td>2</td>\n",
       "      <td>2</td>\n",
       "      <td>0</td>\n",
       "      <td>0</td>\n",
       "      <td>6.1</td>\n",
       "      <td>red</td>\n",
       "    </tr>\n",
       "    <tr>\n",
       "      <th>182</th>\n",
       "      <td>2021-10-23</td>\n",
       "      <td>QIP9</td>\n",
       "      <td>1.0</td>\n",
       "      <td>1.0</td>\n",
       "      <td>0.0</td>\n",
       "      <td>0.1</td>\n",
       "      <td>2</td>\n",
       "      <td>2</td>\n",
       "      <td>0</td>\n",
       "      <td>0</td>\n",
       "      <td>6.1</td>\n",
       "      <td>red</td>\n",
       "    </tr>\n",
       "  </tbody>\n",
       "</table>\n",
       "<p>183 rows × 12 columns</p>\n",
       "</div>"
      ],
      "text/plain": [
       "    recorded_date QIPID  SM_solid  SM_liquid  SM_gas  SM_activity_change  \\\n",
       "0      2021-10-23  QIP0       0.0        0.5     0.2                 0.1   \n",
       "1      2021-10-23  QIP0       0.0        1.0     0.1                 0.1   \n",
       "2      2021-10-23  QIP0       0.5        1.0     0.1                 0.1   \n",
       "3      2021-10-23  QIP0       0.5        0.5     0.0                 0.1   \n",
       "4      2021-10-23  QIP0       0.0        0.5     0.1                 0.1   \n",
       "..            ...   ...       ...        ...     ...                 ...   \n",
       "178    2021-10-23  QIP7       0.0        0.1     0.1                 0.1   \n",
       "179    2022-02-20  QIP7       0.0        0.1     0.0                 0.0   \n",
       "180    2021-10-23  QIP8       1.0        1.0     0.1                 0.1   \n",
       "181    2021-10-23  QIP8       1.0        1.0     0.1                 0.0   \n",
       "182    2021-10-23  QIP9       1.0        1.0     0.0                 0.1   \n",
       "\n",
       "     SM_pad  SM_constipation_med  SM_inability_stool_15min  time  total_score  \\\n",
       "0         0                    2                         0     0          2.8   \n",
       "1         2                    2                         4     0          9.2   \n",
       "2         2                    2                         4     0          9.7   \n",
       "3         2                    2                         0     0          5.1   \n",
       "4         0                    2                         0     0          2.7   \n",
       "..      ...                  ...                       ...   ...          ...   \n",
       "178       0                    2                         0     0          2.3   \n",
       "179       0                    2                         0   120          2.1   \n",
       "180       2                    2                         4     0         10.2   \n",
       "181       2                    2                         0     0          6.1   \n",
       "182       2                    2                         0     0          6.1   \n",
       "\n",
       "    score_colour  \n",
       "0          amber  \n",
       "1            red  \n",
       "2            red  \n",
       "3          amber  \n",
       "4          amber  \n",
       "..           ...  \n",
       "178        green  \n",
       "179        green  \n",
       "180          red  \n",
       "181          red  \n",
       "182          red  \n",
       "\n",
       "[183 rows x 12 columns]"
      ]
     },
     "execution_count": 17,
     "metadata": {},
     "output_type": "execute_result"
    }
   ],
   "source": [
    "# ST MARK SCORE FUNCTION\n",
    "def make_sms_df(qipid='ALL', df=clean_df(df)):\n",
    "\n",
    "    #MAKE COPY OF DF\n",
    "    sms_df = df.copy()\n",
    "\n",
    "    if qipid != 'ALL':\n",
    "        sms_df = sms_df[sms_df[\"QIPID\"]==qipid]\n",
    "    \n",
    "    # Select correct columns\n",
    "    sms_df = sms_df.loc[:, ['recorded_date', \n",
    "                          'QIPID',\n",
    "                          'SM_solid',\n",
    "                          'SM_liquid', \n",
    "                          'SM_gas', \n",
    "                          'SM_activity_change', \n",
    "                          'SM_pad',\n",
    "                          'SM_constipation_med',\n",
    "                          'SM_inability_stool_15min',\n",
    "                          'time'\n",
    "                          ]]\n",
    "\n",
    "    # COUNT HOW MANY ENTRIES DROPPED DUE TO NA\n",
    "    before_sms_df_size = sms_df.shape[0]\n",
    "    sms_df.dropna(inplace=True)\n",
    "    num_dropped = before_sms_df_size - sms_df.shape[0]\n",
    "    print(f\"SMS: Dropped {num_dropped} due to NA.\")\n",
    "\n",
    "    #MAP THE RESPONSE TO THE APPROPRIATE VALUE SOLID AND LIQUID\n",
    "    for col in sms_df.loc[:,['SM_solid','SM_liquid']]:\n",
    "\n",
    "        sms_df[col] = sms_df[col].replace(\n",
    "            {\n",
    "            'Never':0,\n",
    "            'Less than 1 per month':0.1,\n",
    "            'More than 1 per month':0.2,\n",
    "            'Weekly':0.5,\n",
    "            'Daily':1\n",
    "            }\n",
    "        )\n",
    "\n",
    "    # GAS AND SOCIAL ACTIVITY\n",
    "    for col in sms_df.loc[:,['SM_gas', 'SM_activity_change']]:\n",
    "\n",
    "        sms_df[col] = sms_df[col].replace(\n",
    "            {\n",
    "            'Never':0,\n",
    "            'Less than 1 per month':0.1,\n",
    "            'More than 1 per month':0.2,\n",
    "            'Weekly':0.1,\n",
    "            'Daily':0.1\n",
    "            }\n",
    "        )\n",
    "\n",
    "    # INCONTINCENCE\n",
    "    for col in sms_df.loc[:,['SM_inability_stool_15min']]:\n",
    "\n",
    "        sms_df[col] = sms_df[col].replace(\n",
    "            {\n",
    "            'Yes' : 4 ,\n",
    "            'No' : 0\n",
    "            }\n",
    "        )\n",
    "    \n",
    "    # NAPPY, MEDS\n",
    "    for col in sms_df.loc[:,['SM_pad', 'SM_constipation_med']]:\n",
    "\n",
    "        sms_df[col] = sms_df[col].replace(\n",
    "            {\n",
    "            'Yes' : 2,\n",
    "            'No' : 0\n",
    "            }\n",
    "        )\n",
    "\n",
    "    # CALCULATE TOTAL SCORE\n",
    "    sms_df['total_score'] = sms_df[['SM_solid', 'SM_liquid', 'SM_gas',\n",
    "       'SM_activity_change', 'SM_pad', 'SM_constipation_med',\n",
    "       'SM_inability_stool_15min']].apply(lambda x: x.sum(),axis=1)\n",
    "\n",
    "    def sm_score_col_func(x):\n",
    "        if x <= 2.6:\n",
    "            return 'green'\n",
    "        elif x > 5.2:\n",
    "            return 'red'\n",
    "        else:\n",
    "            return 'amber'\n",
    "\n",
    "    # MAP SCORE TO COLOUR VALUE\n",
    "    sms_df['score_colour'] = sms_df.total_score.apply(sm_score_col_func)\n",
    "\n",
    "    # print(sms_df.columns)\n",
    "\n",
    "    # SORT VALUES ACCORDING TO START DATE\n",
    "    sms_df = sms_df.sort_values(by=['QIPID','recorded_date']).reset_index(drop=True)\n",
    "\n",
    "\n",
    "    return sms_df, num_dropped\n",
    "\n",
    "make_sms_df()[0]"
   ]
  },
  {
   "cell_type": "markdown",
   "metadata": {},
   "source": [
    "# ST MARKS FIG"
   ]
  },
  {
   "cell_type": "code",
   "execution_count": 20,
   "metadata": {},
   "outputs": [
    {
     "name": "stdout",
     "output_type": "stream",
     "text": [
      "SMS: Dropped 71 due to NA.\n"
     ]
    },
    {
     "name": "stderr",
     "output_type": "stream",
     "text": [
      "c:\\Users\\Anchit\\anaconda3\\lib\\site-packages\\statsmodels\\nonparametric\\smoothers_lowess.py:227: RuntimeWarning:\n",
      "\n",
      "invalid value encountered in true_divide\n",
      "\n"
     ]
    },
    {
     "data": {
      "application/vnd.plotly.v1+json": {
       "config": {
        "plotlyServerURL": "https://plot.ly"
       },
       "data": [
        {
         "customdata": [
          [
           "amber"
          ],
          [
           "amber"
          ],
          [
           "amber"
          ],
          [
           "amber"
          ],
          [
           "amber"
          ],
          [
           "amber"
          ],
          [
           "amber"
          ],
          [
           "amber"
          ],
          [
           "amber"
          ],
          [
           "amber"
          ],
          [
           "amber"
          ],
          [
           "amber"
          ],
          [
           "amber"
          ],
          [
           "amber"
          ],
          [
           "amber"
          ],
          [
           "amber"
          ],
          [
           "amber"
          ],
          [
           "amber"
          ],
          [
           "amber"
          ],
          [
           "amber"
          ],
          [
           "amber"
          ],
          [
           "amber"
          ],
          [
           "amber"
          ],
          [
           "amber"
          ],
          [
           "amber"
          ],
          [
           "amber"
          ],
          [
           "amber"
          ],
          [
           "amber"
          ],
          [
           "amber"
          ],
          [
           "amber"
          ],
          [
           "amber"
          ],
          [
           "amber"
          ],
          [
           "amber"
          ],
          [
           "amber"
          ],
          [
           "amber"
          ],
          [
           "amber"
          ]
         ],
         "hovertemplate": "<b>%{hovertext}</b><br><br>Progress=%{customdata[0]}<br>Days since starting treatment=%{x}<br>Total St Mark's Score=%{y}<extra></extra>",
         "hovertext": [
          "QIP0",
          "QIP0",
          "QIP0",
          "QIP10",
          "QIP13",
          "QIP13",
          "QIP16",
          "QIP16",
          "QIP20",
          "QIP20",
          "QIP22",
          "QIP24",
          "QIP27",
          "QIP28",
          "QIP3",
          "QIP3",
          "QIP3",
          "QIP4",
          "QIP4",
          "QIP4",
          "QIP4",
          "QIP4",
          "QIP4",
          "QIP4",
          "QIP4",
          "QIP5",
          "QIP6",
          "QIP6",
          "QIP6",
          "QIP6",
          "QIP6",
          "QIP6",
          "QIP6",
          "QIP7",
          "QIP7",
          "QIP7"
         ],
         "legendgroup": "amber",
         "marker": {
          "color": "orange",
          "line": {
           "color": "DarkSlateGrey",
           "width": 2
          },
          "opacity": 0.5,
          "size": 12,
          "symbol": "circle"
         },
         "mode": "markers",
         "name": "amber",
         "orientation": "v",
         "showlegend": true,
         "type": "scatter",
         "x": [
          0,
          0,
          0,
          0,
          0,
          0,
          0,
          0,
          0,
          38,
          0,
          0,
          0,
          0,
          0,
          0,
          0,
          0,
          0,
          0,
          0,
          0,
          0,
          0,
          0,
          0,
          0,
          0,
          0,
          0,
          0,
          0,
          97,
          0,
          0,
          0
         ],
         "xaxis": "x",
         "y": [
          2.8,
          5.1,
          2.7,
          2.7,
          3.3,
          4.4,
          4.4,
          4.7,
          5.2,
          4.8,
          4.2,
          3,
          3.3000000000000003,
          4.4,
          4.6,
          5.2,
          2.9,
          3.4000000000000004,
          3.7,
          4.2,
          3.1,
          3.2,
          2.7,
          2.7,
          2.8,
          4.2,
          3.1,
          5,
          5.1,
          3,
          3.1,
          3,
          4.2,
          3.7,
          4.2,
          3.9
         ],
         "yaxis": "y"
        },
        {
         "customdata": [
          [
           "red"
          ],
          [
           "red"
          ],
          [
           "red"
          ],
          [
           "red"
          ],
          [
           "red"
          ],
          [
           "red"
          ],
          [
           "red"
          ],
          [
           "red"
          ],
          [
           "red"
          ],
          [
           "red"
          ],
          [
           "red"
          ],
          [
           "red"
          ],
          [
           "red"
          ],
          [
           "red"
          ],
          [
           "red"
          ],
          [
           "red"
          ],
          [
           "red"
          ],
          [
           "red"
          ],
          [
           "red"
          ],
          [
           "red"
          ],
          [
           "red"
          ],
          [
           "red"
          ],
          [
           "red"
          ],
          [
           "red"
          ],
          [
           "red"
          ],
          [
           "red"
          ],
          [
           "red"
          ],
          [
           "red"
          ],
          [
           "red"
          ],
          [
           "red"
          ],
          [
           "red"
          ],
          [
           "red"
          ],
          [
           "red"
          ],
          [
           "red"
          ],
          [
           "red"
          ],
          [
           "red"
          ],
          [
           "red"
          ],
          [
           "red"
          ],
          [
           "red"
          ],
          [
           "red"
          ],
          [
           "red"
          ],
          [
           "red"
          ],
          [
           "red"
          ],
          [
           "red"
          ],
          [
           "red"
          ],
          [
           "red"
          ],
          [
           "red"
          ],
          [
           "red"
          ],
          [
           "red"
          ],
          [
           "red"
          ],
          [
           "red"
          ],
          [
           "red"
          ],
          [
           "red"
          ],
          [
           "red"
          ],
          [
           "red"
          ],
          [
           "red"
          ],
          [
           "red"
          ],
          [
           "red"
          ],
          [
           "red"
          ],
          [
           "red"
          ],
          [
           "red"
          ],
          [
           "red"
          ],
          [
           "red"
          ],
          [
           "red"
          ],
          [
           "red"
          ],
          [
           "red"
          ],
          [
           "red"
          ],
          [
           "red"
          ],
          [
           "red"
          ],
          [
           "red"
          ],
          [
           "red"
          ],
          [
           "red"
          ],
          [
           "red"
          ],
          [
           "red"
          ],
          [
           "red"
          ],
          [
           "red"
          ],
          [
           "red"
          ],
          [
           "red"
          ],
          [
           "red"
          ],
          [
           "red"
          ],
          [
           "red"
          ],
          [
           "red"
          ],
          [
           "red"
          ],
          [
           "red"
          ],
          [
           "red"
          ],
          [
           "red"
          ],
          [
           "red"
          ],
          [
           "red"
          ],
          [
           "red"
          ],
          [
           "red"
          ],
          [
           "red"
          ],
          [
           "red"
          ],
          [
           "red"
          ],
          [
           "red"
          ],
          [
           "red"
          ],
          [
           "red"
          ],
          [
           "red"
          ],
          [
           "red"
          ],
          [
           "red"
          ],
          [
           "red"
          ],
          [
           "red"
          ],
          [
           "red"
          ],
          [
           "red"
          ],
          [
           "red"
          ],
          [
           "red"
          ],
          [
           "red"
          ]
         ],
         "hovertemplate": "<b>%{hovertext}</b><br><br>Progress=%{customdata[0]}<br>Days since starting treatment=%{x}<br>Total St Mark's Score=%{y}<extra></extra>",
         "hovertext": [
          "QIP0",
          "QIP0",
          "QIP0",
          "QIP1",
          "QIP1",
          "QIP1",
          "QIP1",
          "QIP1",
          "QIP1",
          "QIP1",
          "QIP1",
          "QIP1",
          "QIP1",
          "QIP11",
          "QIP11",
          "QIP11",
          "QIP11",
          "QIP11",
          "QIP11",
          "QIP11",
          "QIP11",
          "QIP11",
          "QIP11",
          "QIP11",
          "QIP11",
          "QIP12",
          "QIP12",
          "QIP12",
          "QIP12",
          "QIP12",
          "QIP16",
          "QIP17",
          "QIP17",
          "QIP17",
          "QIP17",
          "QIP18",
          "QIP19",
          "QIP2",
          "QIP20",
          "QIP20",
          "QIP20",
          "QIP20",
          "QIP20",
          "QIP20",
          "QIP20",
          "QIP20",
          "QIP20",
          "QIP20",
          "QIP20",
          "QIP20",
          "QIP20",
          "QIP20",
          "QIP20",
          "QIP20",
          "QIP21",
          "QIP22",
          "QIP25",
          "QIP29",
          "QIP3",
          "QIP3",
          "QIP3",
          "QIP3",
          "QIP3",
          "QIP3",
          "QIP3",
          "QIP3",
          "QIP3",
          "QIP3",
          "QIP3",
          "QIP3",
          "QIP3",
          "QIP3",
          "QIP3",
          "QIP3",
          "QIP3",
          "QIP3",
          "QIP3",
          "QIP3",
          "QIP3",
          "QIP3",
          "QIP3",
          "QIP3",
          "QIP3",
          "QIP3",
          "QIP3",
          "QIP3",
          "QIP3",
          "QIP3",
          "QIP3",
          "QIP3",
          "QIP3",
          "QIP3",
          "QIP3",
          "QIP3",
          "QIP3",
          "QIP4",
          "QIP5",
          "QIP5",
          "QIP5",
          "QIP6",
          "QIP6",
          "QIP6",
          "QIP6",
          "QIP8",
          "QIP8",
          "QIP9"
         ],
         "legendgroup": "red",
         "marker": {
          "color": "red",
          "line": {
           "color": "DarkSlateGrey",
           "width": 2
          },
          "opacity": 0.5,
          "size": 12,
          "symbol": "circle"
         },
         "mode": "markers",
         "name": "red",
         "orientation": "v",
         "showlegend": true,
         "type": "scatter",
         "x": [
          0,
          0,
          0,
          0,
          0,
          0,
          0,
          0,
          0,
          0,
          0,
          0,
          0,
          0,
          0,
          0,
          0,
          0,
          0,
          0,
          0,
          0,
          11,
          64,
          40,
          0,
          0,
          0,
          0,
          0,
          0,
          0,
          0,
          0,
          137,
          0,
          0,
          0,
          0,
          0,
          0,
          0,
          0,
          0,
          7,
          27,
          7,
          7,
          13,
          7,
          6,
          14,
          6,
          13,
          0,
          0,
          53,
          0,
          0,
          0,
          0,
          0,
          0,
          0,
          0,
          0,
          0,
          0,
          0,
          0,
          0,
          0,
          0,
          0,
          0,
          0,
          0,
          0,
          0,
          0,
          0,
          0,
          0,
          0,
          0,
          0,
          0,
          0,
          0,
          0,
          0,
          0,
          9,
          33,
          50,
          0,
          0,
          0,
          111,
          0,
          0,
          0,
          17,
          0,
          0,
          0
         ],
         "xaxis": "x",
         "y": [
          9.2,
          9.7,
          6.2,
          6.5,
          8.2,
          8.2,
          10.1,
          7.3,
          7.5,
          7.2,
          6.2,
          7.7,
          6,
          10.2,
          7.2,
          7.7,
          8.1,
          6.5,
          8.2,
          6.4,
          6.5,
          6.8,
          6.5,
          6.4,
          6.3,
          8.2,
          8.1,
          7.1,
          7.1,
          8.1,
          8.2,
          7.6,
          8.1,
          7.5,
          7,
          10.2,
          8,
          6.2,
          10.2,
          10.2,
          10.2,
          10.2,
          10.2,
          10.2,
          8.8,
          8.9,
          8.8,
          8.5,
          8.9,
          9,
          8.6,
          8.9,
          8.6,
          9.3,
          6.5,
          6.4,
          7.2,
          7.2,
          10.2,
          8.8,
          8.2,
          10.2,
          6.2,
          6.4,
          10.2,
          7.6,
          6.2,
          6.5,
          5.5,
          6.4,
          6.3,
          7.5,
          9.7,
          8.1,
          8.2,
          6.1,
          8.1,
          9.2,
          8.1,
          9.7,
          10.2,
          7.1,
          6.2,
          8.1,
          9,
          6.1,
          8,
          8,
          8.2,
          6.7,
          6.1,
          7.1,
          7.6,
          7,
          8.9,
          8.2,
          7.4,
          10.2,
          10.2,
          7,
          6.6,
          6.2,
          5.7,
          10.2,
          6.1,
          6.1
         ],
         "yaxis": "y"
        },
        {
         "customdata": [
          [
           "green"
          ],
          [
           "green"
          ],
          [
           "green"
          ],
          [
           "green"
          ],
          [
           "green"
          ],
          [
           "green"
          ],
          [
           "green"
          ],
          [
           "green"
          ],
          [
           "green"
          ],
          [
           "green"
          ],
          [
           "green"
          ],
          [
           "green"
          ],
          [
           "green"
          ],
          [
           "green"
          ],
          [
           "green"
          ],
          [
           "green"
          ],
          [
           "green"
          ],
          [
           "green"
          ],
          [
           "green"
          ],
          [
           "green"
          ],
          [
           "green"
          ],
          [
           "green"
          ],
          [
           "green"
          ],
          [
           "green"
          ],
          [
           "green"
          ],
          [
           "green"
          ],
          [
           "green"
          ],
          [
           "green"
          ],
          [
           "green"
          ],
          [
           "green"
          ],
          [
           "green"
          ],
          [
           "green"
          ],
          [
           "green"
          ],
          [
           "green"
          ],
          [
           "green"
          ],
          [
           "green"
          ],
          [
           "green"
          ],
          [
           "green"
          ],
          [
           "green"
          ],
          [
           "green"
          ],
          [
           "green"
          ]
         ],
         "hovertemplate": "<b>%{hovertext}</b><br><br>Progress=%{customdata[0]}<br>Days since starting treatment=%{x}<br>Total St Mark's Score=%{y}<extra></extra>",
         "hovertext": [
          "QIP0",
          "QIP0",
          "QIP0",
          "QIP0",
          "QIP0",
          "QIP0",
          "QIP1",
          "QIP10",
          "QIP12",
          "QIP12",
          "QIP19",
          "QIP19",
          "QIP2",
          "QIP2",
          "QIP2",
          "QIP2",
          "QIP2",
          "QIP21",
          "QIP23",
          "QIP23",
          "QIP3",
          "QIP3",
          "QIP3",
          "QIP3",
          "QIP3",
          "QIP4",
          "QIP4",
          "QIP4",
          "QIP4",
          "QIP4",
          "QIP5",
          "QIP5",
          "QIP5",
          "QIP5",
          "QIP6",
          "QIP6",
          "QIP6",
          "QIP7",
          "QIP7",
          "QIP7",
          "QIP7"
         ],
         "legendgroup": "green",
         "marker": {
          "color": "green",
          "line": {
           "color": "DarkSlateGrey",
           "width": 2
          },
          "opacity": 0.5,
          "size": 12,
          "symbol": "circle"
         },
         "mode": "markers",
         "name": "green",
         "orientation": "v",
         "showlegend": true,
         "type": "scatter",
         "x": [
          0,
          0,
          0,
          0,
          0,
          0,
          0,
          0,
          0,
          0,
          0,
          0,
          0,
          0,
          0,
          0,
          0,
          0,
          0,
          0,
          0,
          0,
          0,
          0,
          42,
          0,
          0,
          0,
          0,
          75,
          0,
          0,
          0,
          0,
          0,
          0,
          0,
          0,
          0,
          0,
          120
         ],
         "xaxis": "x",
         "y": [
          2.6,
          2.6,
          2.4,
          2.6,
          0.4,
          2.3,
          2.5,
          0,
          0,
          2,
          1,
          1.7000000000000002,
          2,
          2.6,
          2,
          2.1,
          2,
          2.6,
          2.1,
          2,
          2.4,
          2.2,
          2.1,
          2.6,
          2,
          1.2000000000000002,
          2.4,
          2.6,
          2.6,
          2.3,
          1.4000000000000001,
          2,
          2,
          2,
          2.6,
          2.4,
          2,
          0,
          2.4,
          2.3,
          2.1
         ],
         "yaxis": "y"
        },
        {
         "hovertemplate": "<b>LOWESS trendline</b><br><br>Days since starting treatment=%{x}<br>Total St Mark's Score=%{y} <b>(trend)</b><extra></extra>",
         "legendgroup": "Overall Trendline",
         "line": {
          "color": "#ab63fa"
         },
         "mode": "lines",
         "name": "Overall Trendline",
         "showlegend": true,
         "type": "scatter",
         "x": [
          0,
          0,
          0,
          0,
          0,
          0,
          0,
          0,
          0,
          0,
          0,
          0,
          0,
          0,
          0,
          0,
          0,
          0,
          0,
          0,
          0,
          0,
          0,
          0,
          0,
          0,
          0,
          0,
          0,
          0,
          0,
          0,
          0,
          0,
          0,
          0,
          0,
          0,
          0,
          0,
          0,
          0,
          0,
          0,
          0,
          0,
          0,
          0,
          0,
          0,
          0,
          0,
          0,
          0,
          0,
          0,
          0,
          0,
          0,
          0,
          0,
          0,
          0,
          0,
          0,
          0,
          0,
          0,
          0,
          0,
          0,
          0,
          0,
          0,
          0,
          0,
          0,
          0,
          0,
          0,
          0,
          0,
          0,
          0,
          0,
          0,
          0,
          0,
          0,
          0,
          0,
          0,
          0,
          0,
          0,
          0,
          0,
          0,
          0,
          0,
          0,
          0,
          0,
          0,
          0,
          0,
          0,
          0,
          0,
          0,
          0,
          0,
          0,
          0,
          0,
          0,
          0,
          0,
          0,
          0,
          0,
          0,
          0,
          0,
          0,
          0,
          0,
          0,
          0,
          0,
          0,
          0,
          0,
          0,
          0,
          0,
          0,
          0,
          0,
          0,
          0,
          0,
          0,
          0,
          0,
          0,
          0,
          0,
          0,
          0,
          0,
          0,
          0,
          0,
          0,
          0,
          0,
          0,
          6,
          6,
          7,
          7,
          7,
          7,
          9,
          11,
          13,
          13,
          14,
          17,
          27,
          33,
          38,
          40,
          42,
          50,
          53,
          64,
          75,
          97,
          111,
          120,
          137
         ],
         "xaxis": "x",
         "y": [
          2.8,
          2.8,
          2.8,
          2.8,
          2.8,
          2.8,
          2.8,
          2.8,
          2.8,
          2.8,
          2.8,
          2.8,
          2.8,
          2.8,
          2.8,
          2.8,
          2.8,
          2.8,
          2.8,
          2.8,
          2.8,
          2.8,
          2.8,
          2.8,
          2.8,
          2.8,
          2.8,
          2.8,
          2.8,
          2.8,
          2.8,
          2.8,
          2.8,
          2.8,
          2.8,
          2.8,
          2.8,
          2.8,
          2.8,
          2.8,
          2.8,
          2.8,
          2.8,
          2.8,
          2.8,
          2.8,
          2.8,
          2.8,
          2.8,
          2.8,
          2.8,
          2.8,
          2.8,
          2.8,
          2.8,
          2.8,
          2.8,
          2.8,
          2.8,
          2.8,
          2.8,
          2.8,
          2.8,
          2.8,
          2.8,
          2.8,
          2.8,
          2.8,
          2.8,
          2.8,
          2.8,
          2.8,
          2.8,
          2.8,
          2.8,
          2.8,
          2.8,
          2.8,
          2.8,
          2.8,
          2.8,
          2.8,
          2.8,
          2.8,
          2.8,
          2.8,
          2.8,
          2.8,
          2.8,
          2.8,
          2.8,
          2.8,
          2.8,
          2.8,
          2.8,
          2.8,
          2.8,
          2.8,
          2.8,
          2.8,
          2.8,
          2.8,
          2.8,
          2.8,
          2.8,
          2.8,
          2.8,
          2.8,
          2.8,
          2.8,
          2.8,
          2.8,
          2.8,
          2.8,
          2.8,
          2.8,
          2.8,
          2.8,
          2.8,
          2.8,
          2.8,
          2.8,
          2.8,
          2.8,
          2.8,
          2.8,
          2.8,
          2.8,
          2.8,
          2.8,
          2.8,
          2.8,
          2.8,
          2.8,
          2.8,
          2.8,
          2.8,
          2.8,
          2.8,
          2.8,
          2.8,
          2.8,
          2.8,
          2.8,
          2.8,
          2.8,
          2.8,
          2.8,
          2.8,
          2.8,
          2.8,
          2.8,
          2.8,
          2.8,
          2.8,
          2.8,
          2.8,
          2.8,
          8.897913422077629,
          8.897913422077629,
          8.542234359268674,
          8.542234359268674,
          8.542234359268674,
          8.542234359268674,
          8.441702053363736,
          8.205410217176194,
          7.881315057254971,
          7.881315057254971,
          7.747163317013743,
          7.986751140091651,
          6.789186577294995,
          6.678827711800488,
          6.6326337396441,
          6.57564973104825,
          6.471707101702017,
          5.903763627989871,
          5.716261283102671,
          5.592222380678128,
          5.649377991752855,
          5.6368135401982675,
          5.603319709170443,
          5.592984991659062,
          5.593426028084034
         ],
         "yaxis": "y"
        }
       ],
       "layout": {
        "legend": {
         "bordercolor": "Black",
         "borderwidth": 1,
         "orientation": "h",
         "title": {
          "text": "Progress"
         },
         "tracegroupgap": 0,
         "x": 0.5,
         "xanchor": "center",
         "y": -0.12,
         "yanchor": "top"
        },
        "margin": {
         "b": 0,
         "l": 0,
         "pad": 0,
         "r": 0,
         "t": 2
        },
        "shapes": [
         {
          "fillcolor": "green",
          "layer": "below",
          "line": {
           "width": 0
          },
          "opacity": 0.2,
          "type": "rect",
          "x0": 0,
          "x1": 1,
          "xref": "x domain",
          "y0": -5,
          "y1": 2.6,
          "yref": "y"
         },
         {
          "fillcolor": "orange",
          "layer": "below",
          "line": {
           "width": 0
          },
          "opacity": 0.2,
          "type": "rect",
          "x0": 0,
          "x1": 1,
          "xref": "x domain",
          "y0": 2.6,
          "y1": 5.2,
          "yref": "y"
         },
         {
          "fillcolor": "red",
          "layer": "below",
          "line": {
           "width": 0
          },
          "opacity": 0.2,
          "type": "rect",
          "x0": 0,
          "x1": 1,
          "xref": "x domain",
          "y0": 5.2,
          "y1": 13,
          "yref": "y"
         }
        ],
        "template": {
         "data": {
          "bar": [
           {
            "error_x": {
             "color": "#2a3f5f"
            },
            "error_y": {
             "color": "#2a3f5f"
            },
            "marker": {
             "line": {
              "color": "#E5ECF6",
              "width": 0.5
             },
             "pattern": {
              "fillmode": "overlay",
              "size": 10,
              "solidity": 0.2
             }
            },
            "type": "bar"
           }
          ],
          "barpolar": [
           {
            "marker": {
             "line": {
              "color": "#E5ECF6",
              "width": 0.5
             },
             "pattern": {
              "fillmode": "overlay",
              "size": 10,
              "solidity": 0.2
             }
            },
            "type": "barpolar"
           }
          ],
          "carpet": [
           {
            "aaxis": {
             "endlinecolor": "#2a3f5f",
             "gridcolor": "white",
             "linecolor": "white",
             "minorgridcolor": "white",
             "startlinecolor": "#2a3f5f"
            },
            "baxis": {
             "endlinecolor": "#2a3f5f",
             "gridcolor": "white",
             "linecolor": "white",
             "minorgridcolor": "white",
             "startlinecolor": "#2a3f5f"
            },
            "type": "carpet"
           }
          ],
          "choropleth": [
           {
            "colorbar": {
             "outlinewidth": 0,
             "ticks": ""
            },
            "type": "choropleth"
           }
          ],
          "contour": [
           {
            "colorbar": {
             "outlinewidth": 0,
             "ticks": ""
            },
            "colorscale": [
             [
              0,
              "#0d0887"
             ],
             [
              0.1111111111111111,
              "#46039f"
             ],
             [
              0.2222222222222222,
              "#7201a8"
             ],
             [
              0.3333333333333333,
              "#9c179e"
             ],
             [
              0.4444444444444444,
              "#bd3786"
             ],
             [
              0.5555555555555556,
              "#d8576b"
             ],
             [
              0.6666666666666666,
              "#ed7953"
             ],
             [
              0.7777777777777778,
              "#fb9f3a"
             ],
             [
              0.8888888888888888,
              "#fdca26"
             ],
             [
              1,
              "#f0f921"
             ]
            ],
            "type": "contour"
           }
          ],
          "contourcarpet": [
           {
            "colorbar": {
             "outlinewidth": 0,
             "ticks": ""
            },
            "type": "contourcarpet"
           }
          ],
          "heatmap": [
           {
            "colorbar": {
             "outlinewidth": 0,
             "ticks": ""
            },
            "colorscale": [
             [
              0,
              "#0d0887"
             ],
             [
              0.1111111111111111,
              "#46039f"
             ],
             [
              0.2222222222222222,
              "#7201a8"
             ],
             [
              0.3333333333333333,
              "#9c179e"
             ],
             [
              0.4444444444444444,
              "#bd3786"
             ],
             [
              0.5555555555555556,
              "#d8576b"
             ],
             [
              0.6666666666666666,
              "#ed7953"
             ],
             [
              0.7777777777777778,
              "#fb9f3a"
             ],
             [
              0.8888888888888888,
              "#fdca26"
             ],
             [
              1,
              "#f0f921"
             ]
            ],
            "type": "heatmap"
           }
          ],
          "heatmapgl": [
           {
            "colorbar": {
             "outlinewidth": 0,
             "ticks": ""
            },
            "colorscale": [
             [
              0,
              "#0d0887"
             ],
             [
              0.1111111111111111,
              "#46039f"
             ],
             [
              0.2222222222222222,
              "#7201a8"
             ],
             [
              0.3333333333333333,
              "#9c179e"
             ],
             [
              0.4444444444444444,
              "#bd3786"
             ],
             [
              0.5555555555555556,
              "#d8576b"
             ],
             [
              0.6666666666666666,
              "#ed7953"
             ],
             [
              0.7777777777777778,
              "#fb9f3a"
             ],
             [
              0.8888888888888888,
              "#fdca26"
             ],
             [
              1,
              "#f0f921"
             ]
            ],
            "type": "heatmapgl"
           }
          ],
          "histogram": [
           {
            "marker": {
             "pattern": {
              "fillmode": "overlay",
              "size": 10,
              "solidity": 0.2
             }
            },
            "type": "histogram"
           }
          ],
          "histogram2d": [
           {
            "colorbar": {
             "outlinewidth": 0,
             "ticks": ""
            },
            "colorscale": [
             [
              0,
              "#0d0887"
             ],
             [
              0.1111111111111111,
              "#46039f"
             ],
             [
              0.2222222222222222,
              "#7201a8"
             ],
             [
              0.3333333333333333,
              "#9c179e"
             ],
             [
              0.4444444444444444,
              "#bd3786"
             ],
             [
              0.5555555555555556,
              "#d8576b"
             ],
             [
              0.6666666666666666,
              "#ed7953"
             ],
             [
              0.7777777777777778,
              "#fb9f3a"
             ],
             [
              0.8888888888888888,
              "#fdca26"
             ],
             [
              1,
              "#f0f921"
             ]
            ],
            "type": "histogram2d"
           }
          ],
          "histogram2dcontour": [
           {
            "colorbar": {
             "outlinewidth": 0,
             "ticks": ""
            },
            "colorscale": [
             [
              0,
              "#0d0887"
             ],
             [
              0.1111111111111111,
              "#46039f"
             ],
             [
              0.2222222222222222,
              "#7201a8"
             ],
             [
              0.3333333333333333,
              "#9c179e"
             ],
             [
              0.4444444444444444,
              "#bd3786"
             ],
             [
              0.5555555555555556,
              "#d8576b"
             ],
             [
              0.6666666666666666,
              "#ed7953"
             ],
             [
              0.7777777777777778,
              "#fb9f3a"
             ],
             [
              0.8888888888888888,
              "#fdca26"
             ],
             [
              1,
              "#f0f921"
             ]
            ],
            "type": "histogram2dcontour"
           }
          ],
          "mesh3d": [
           {
            "colorbar": {
             "outlinewidth": 0,
             "ticks": ""
            },
            "type": "mesh3d"
           }
          ],
          "parcoords": [
           {
            "line": {
             "colorbar": {
              "outlinewidth": 0,
              "ticks": ""
             }
            },
            "type": "parcoords"
           }
          ],
          "pie": [
           {
            "automargin": true,
            "type": "pie"
           }
          ],
          "scatter": [
           {
            "marker": {
             "colorbar": {
              "outlinewidth": 0,
              "ticks": ""
             }
            },
            "type": "scatter"
           }
          ],
          "scatter3d": [
           {
            "line": {
             "colorbar": {
              "outlinewidth": 0,
              "ticks": ""
             }
            },
            "marker": {
             "colorbar": {
              "outlinewidth": 0,
              "ticks": ""
             }
            },
            "type": "scatter3d"
           }
          ],
          "scattercarpet": [
           {
            "marker": {
             "colorbar": {
              "outlinewidth": 0,
              "ticks": ""
             }
            },
            "type": "scattercarpet"
           }
          ],
          "scattergeo": [
           {
            "marker": {
             "colorbar": {
              "outlinewidth": 0,
              "ticks": ""
             }
            },
            "type": "scattergeo"
           }
          ],
          "scattergl": [
           {
            "marker": {
             "colorbar": {
              "outlinewidth": 0,
              "ticks": ""
             }
            },
            "type": "scattergl"
           }
          ],
          "scattermapbox": [
           {
            "marker": {
             "colorbar": {
              "outlinewidth": 0,
              "ticks": ""
             }
            },
            "type": "scattermapbox"
           }
          ],
          "scatterpolar": [
           {
            "marker": {
             "colorbar": {
              "outlinewidth": 0,
              "ticks": ""
             }
            },
            "type": "scatterpolar"
           }
          ],
          "scatterpolargl": [
           {
            "marker": {
             "colorbar": {
              "outlinewidth": 0,
              "ticks": ""
             }
            },
            "type": "scatterpolargl"
           }
          ],
          "scatterternary": [
           {
            "marker": {
             "colorbar": {
              "outlinewidth": 0,
              "ticks": ""
             }
            },
            "type": "scatterternary"
           }
          ],
          "surface": [
           {
            "colorbar": {
             "outlinewidth": 0,
             "ticks": ""
            },
            "colorscale": [
             [
              0,
              "#0d0887"
             ],
             [
              0.1111111111111111,
              "#46039f"
             ],
             [
              0.2222222222222222,
              "#7201a8"
             ],
             [
              0.3333333333333333,
              "#9c179e"
             ],
             [
              0.4444444444444444,
              "#bd3786"
             ],
             [
              0.5555555555555556,
              "#d8576b"
             ],
             [
              0.6666666666666666,
              "#ed7953"
             ],
             [
              0.7777777777777778,
              "#fb9f3a"
             ],
             [
              0.8888888888888888,
              "#fdca26"
             ],
             [
              1,
              "#f0f921"
             ]
            ],
            "type": "surface"
           }
          ],
          "table": [
           {
            "cells": {
             "fill": {
              "color": "#EBF0F8"
             },
             "line": {
              "color": "white"
             }
            },
            "header": {
             "fill": {
              "color": "#C8D4E3"
             },
             "line": {
              "color": "white"
             }
            },
            "type": "table"
           }
          ]
         },
         "layout": {
          "annotationdefaults": {
           "arrowcolor": "#2a3f5f",
           "arrowhead": 0,
           "arrowwidth": 1
          },
          "autotypenumbers": "strict",
          "coloraxis": {
           "colorbar": {
            "outlinewidth": 0,
            "ticks": ""
           }
          },
          "colorscale": {
           "diverging": [
            [
             0,
             "#8e0152"
            ],
            [
             0.1,
             "#c51b7d"
            ],
            [
             0.2,
             "#de77ae"
            ],
            [
             0.3,
             "#f1b6da"
            ],
            [
             0.4,
             "#fde0ef"
            ],
            [
             0.5,
             "#f7f7f7"
            ],
            [
             0.6,
             "#e6f5d0"
            ],
            [
             0.7,
             "#b8e186"
            ],
            [
             0.8,
             "#7fbc41"
            ],
            [
             0.9,
             "#4d9221"
            ],
            [
             1,
             "#276419"
            ]
           ],
           "sequential": [
            [
             0,
             "#0d0887"
            ],
            [
             0.1111111111111111,
             "#46039f"
            ],
            [
             0.2222222222222222,
             "#7201a8"
            ],
            [
             0.3333333333333333,
             "#9c179e"
            ],
            [
             0.4444444444444444,
             "#bd3786"
            ],
            [
             0.5555555555555556,
             "#d8576b"
            ],
            [
             0.6666666666666666,
             "#ed7953"
            ],
            [
             0.7777777777777778,
             "#fb9f3a"
            ],
            [
             0.8888888888888888,
             "#fdca26"
            ],
            [
             1,
             "#f0f921"
            ]
           ],
           "sequentialminus": [
            [
             0,
             "#0d0887"
            ],
            [
             0.1111111111111111,
             "#46039f"
            ],
            [
             0.2222222222222222,
             "#7201a8"
            ],
            [
             0.3333333333333333,
             "#9c179e"
            ],
            [
             0.4444444444444444,
             "#bd3786"
            ],
            [
             0.5555555555555556,
             "#d8576b"
            ],
            [
             0.6666666666666666,
             "#ed7953"
            ],
            [
             0.7777777777777778,
             "#fb9f3a"
            ],
            [
             0.8888888888888888,
             "#fdca26"
            ],
            [
             1,
             "#f0f921"
            ]
           ]
          },
          "colorway": [
           "#636efa",
           "#EF553B",
           "#00cc96",
           "#ab63fa",
           "#FFA15A",
           "#19d3f3",
           "#FF6692",
           "#B6E880",
           "#FF97FF",
           "#FECB52"
          ],
          "font": {
           "color": "#2a3f5f"
          },
          "geo": {
           "bgcolor": "white",
           "lakecolor": "white",
           "landcolor": "#E5ECF6",
           "showlakes": true,
           "showland": true,
           "subunitcolor": "white"
          },
          "hoverlabel": {
           "align": "left"
          },
          "hovermode": "closest",
          "mapbox": {
           "style": "light"
          },
          "paper_bgcolor": "white",
          "plot_bgcolor": "#E5ECF6",
          "polar": {
           "angularaxis": {
            "gridcolor": "white",
            "linecolor": "white",
            "ticks": ""
           },
           "bgcolor": "#E5ECF6",
           "radialaxis": {
            "gridcolor": "white",
            "linecolor": "white",
            "ticks": ""
           }
          },
          "scene": {
           "xaxis": {
            "backgroundcolor": "#E5ECF6",
            "gridcolor": "white",
            "gridwidth": 2,
            "linecolor": "white",
            "showbackground": true,
            "ticks": "",
            "zerolinecolor": "white"
           },
           "yaxis": {
            "backgroundcolor": "#E5ECF6",
            "gridcolor": "white",
            "gridwidth": 2,
            "linecolor": "white",
            "showbackground": true,
            "ticks": "",
            "zerolinecolor": "white"
           },
           "zaxis": {
            "backgroundcolor": "#E5ECF6",
            "gridcolor": "white",
            "gridwidth": 2,
            "linecolor": "white",
            "showbackground": true,
            "ticks": "",
            "zerolinecolor": "white"
           }
          },
          "shapedefaults": {
           "line": {
            "color": "#2a3f5f"
           }
          },
          "ternary": {
           "aaxis": {
            "gridcolor": "white",
            "linecolor": "white",
            "ticks": ""
           },
           "baxis": {
            "gridcolor": "white",
            "linecolor": "white",
            "ticks": ""
           },
           "bgcolor": "#E5ECF6",
           "caxis": {
            "gridcolor": "white",
            "linecolor": "white",
            "ticks": ""
           }
          },
          "title": {
           "x": 0.05
          },
          "xaxis": {
           "automargin": true,
           "gridcolor": "white",
           "linecolor": "white",
           "ticks": "",
           "title": {
            "standoff": 15
           },
           "zerolinecolor": "white",
           "zerolinewidth": 2
          },
          "yaxis": {
           "automargin": true,
           "gridcolor": "white",
           "linecolor": "white",
           "ticks": "",
           "title": {
            "standoff": 15
           },
           "zerolinecolor": "white",
           "zerolinewidth": 2
          }
         }
        },
        "xaxis": {
         "anchor": "y",
         "domain": [
          0,
          1
         ],
         "dtick": "28",
         "title": {
          "text": "Days since starting treatment"
         }
        },
        "yaxis": {
         "anchor": "x",
         "domain": [
          0,
          1
         ],
         "range": [
          -1,
          11.2
         ],
         "showgrid": false,
         "title": {}
        }
       }
      }
     },
     "metadata": {},
     "output_type": "display_data"
    }
   ],
   "source": [
    "def make_sms_fig(sms_df=make_sms_df()[0]):\n",
    "\n",
    "  # CREATE TIMESERIES CHART\n",
    "  sms_df_fig = px.scatter(sms_df, \n",
    "                            x='time',\n",
    "                            y='total_score',\n",
    "                            color='score_colour',\n",
    "                            opacity = 0.5,\n",
    "                        \n",
    "                            labels=dict(time=\"Days since starting treatment\", total_score=\"Total St Mark's Score\", score_colour=\"Progress\"), # CUSTOMISE AXIS TITLES\n",
    "                              \n",
    "                            color_discrete_map={\n",
    "                              'red': \"red\",\n",
    "                              \"amber\": \"orange\",\n",
    "                              \"green\": \"green\",\n",
    "                                    },\n",
    "\n",
    "                            hover_name=\"QIPID\", hover_data=[\"total_score\", \"score_colour\"], # CUSTOMISE HOVER LABELS,\n",
    "                            trendline=\"lowess\", #ADD TREND LINE\n",
    "                            trendline_scope=\"overall\"\n",
    "  )\n",
    "\n",
    "  # ADD TITLE\n",
    "  sms_df_fig.update_layout(\n",
    "      \n",
    "      # title={\n",
    "      #     'text': \"💩 St Mark's Score\",\n",
    "      #     'y':0.95,\n",
    "      #     'x':0.5,\n",
    "      #     'xanchor': 'center',\n",
    "      #     'yanchor': 'top'\n",
    "      #     },\n",
    "\n",
    "      yaxis_title=None, #REMOVE Y TITLE\n",
    "\n",
    "      # FIX FIGURE MARGINS\n",
    "      # width=500,\n",
    "      # height=500,\n",
    "      margin=dict(\n",
    "          l=0,\n",
    "          r=0,\n",
    "          b=0,\n",
    "          t=2,\n",
    "          pad=0\n",
    "      ),\n",
    "      #paper_bgcolor=\"LightSteelBlue\",\n",
    "\n",
    "      # CUSTOMISE LEGEND\n",
    "      legend=dict(\n",
    "            yanchor=\"top\",\n",
    "            y=-0.12,\n",
    "            xanchor=\"center\",\n",
    "            x=0.5,\n",
    "            orientation='h',\n",
    "            #bgcolor=\"LightSteelBlue\",\n",
    "            bordercolor=\"Black\",\n",
    "            borderwidth=1\n",
    "            )\n",
    "          \n",
    "          )\n",
    "\n",
    "  # CUSTOMISE MARKER AESTHETICS\n",
    "  sms_df_fig.update_traces(marker=dict(size=12,\n",
    "                                line=dict(width=2,\n",
    "                                          color='DarkSlateGrey')),\n",
    "                    selector=dict(mode='markers')\n",
    "                  )\n",
    "\n",
    "  #CUSTOMISE DATE x AXIS FORMAT\n",
    "  sms_df_fig.update_xaxes(\n",
    "      dtick=\"28\",\n",
    "      )\n",
    "  \n",
    "  # COLOUR BACKGROUND ACCORDINGLY\n",
    "  sms_df_fig.add_hrect(y0=-5, y1=2.6, line_width=0, fillcolor=\"green\", opacity=0.2,layer=\"below\")\n",
    "  sms_df_fig.add_hrect(y0=2.6, y1=5.2, line_width=0, fillcolor=\"orange\", opacity=0.2,layer=\"below\")\n",
    "  sms_df_fig.add_hrect(y0=5.2, y1=13, line_width=0, fillcolor=\"red\", opacity=0.2,layer=\"below\")\n",
    "\n",
    "  # REMOVE GRIDLINES Y AXIS\n",
    "  sms_df_fig.update_yaxes(\n",
    "      showgrid=False,\n",
    "      range=[-1,sms_df.total_score.max()+1]\n",
    "  )\n",
    "\n",
    "  return sms_df_fig\n",
    "\n",
    "make_sms_fig()"
   ]
  },
  {
   "cell_type": "markdown",
   "metadata": {},
   "source": [
    "# DAILY ACTIVITY DF"
   ]
  },
  {
   "cell_type": "code",
   "execution_count": 48,
   "metadata": {},
   "outputs": [
    {
     "name": "stdout",
     "output_type": "stream",
     "text": [
      "DAILY ACTIVITY:115 data points have been dropped due to NA\n",
      "<class 'pandas.core.frame.DataFrame'>\n",
      "Int64Index: 139 entries, 0 to 252\n",
      "Data columns (total 22 columns):\n",
      " #   Column                     Non-Null Count  Dtype         \n",
      "---  ------                     --------------  -----         \n",
      " 0   recorded_date              139 non-null    datetime64[ns]\n",
      " 1   QIPID                      139 non-null    object        \n",
      " 2   total_score_daily_routine  139 non-null    int64         \n",
      " 3   time                       139 non-null    int32         \n",
      " 4   colour                     139 non-null    object        \n",
      " 5   week                       139 non-null    int32         \n",
      " 6   daily_routine_7d           139 non-null    object        \n",
      " 7   daily_routine_6d           139 non-null    object        \n",
      " 8   daily_routine_5d           139 non-null    object        \n",
      " 9   daily_routine_4d           139 non-null    object        \n",
      " 10  daily_routine_3d           139 non-null    object        \n",
      " 11  daily_routine_2d           139 non-null    object        \n",
      " 12  daily_routine_1d           139 non-null    object        \n",
      " 13  daily_routine_0d           139 non-null    object        \n",
      " 14  score_daily_routine_7d     139 non-null    int64         \n",
      " 15  score_daily_routine_6d     139 non-null    int64         \n",
      " 16  score_daily_routine_5d     139 non-null    int64         \n",
      " 17  score_daily_routine_4d     139 non-null    int64         \n",
      " 18  score_daily_routine_3d     139 non-null    int64         \n",
      " 19  score_daily_routine_2d     139 non-null    int64         \n",
      " 20  score_daily_routine_1d     139 non-null    int64         \n",
      " 21  score_daily_routine_0d     139 non-null    int64         \n",
      "dtypes: datetime64[ns](1), int32(2), int64(9), object(10)\n",
      "memory usage: 23.9+ KB\n"
     ]
    }
   ],
   "source": [
    "def make_dact_df_function(qipid='ALL', df=clean_df(df)):\n",
    "\n",
    "  #MAKE COPY OF DF\n",
    "  dact_df = df.copy()\n",
    "\n",
    "  if qipid != 'ALL':\n",
    "    dact_df = dact_df[dact_df[\"QIPID\"]==qipid]\n",
    "\n",
    "  # SELECT CORRECT COLUMNS \n",
    "  dact_df=dact_df.loc[:, ['time', 'week','recorded_date','QIPID','daily_routine_7d', 'daily_routine_6d','daily_routine_5d', 'daily_routine_4d', 'daily_routine_3d','daily_routine_2d', 'daily_routine_1d', 'daily_routine_0d']]\n",
    "\n",
    "  before_dact_df_size = dact_df.shape[0]\n",
    "\n",
    "  # REMOVE NA VALUES CSBM\n",
    "  dact_df = dact_df.dropna(axis=0)\n",
    "  num_dropped = before_dact_df_size - dact_df.shape[0]\n",
    "  print(f\"DAILY ACTIVITY:{num_dropped} data points have been dropped due to NA\")\n",
    "\n",
    "  # function to calculate score\n",
    "  def calculate_daily_routine_score(x):\n",
    "\n",
    "    # CREATE COUNTER OBJECT TO COUNT EACH REPORTED ACTIVITY\n",
    "    daily_activity_list = Counter(x.split(','))\n",
    "\n",
    "    # ITERATE THROUGH COUNTER LIST TO MAP SOILING TO -3\n",
    "    for x in daily_activity_list:\n",
    "      if x == 'Any soiling?':\n",
    "        daily_activity_list[x] = -3\n",
    "\n",
    "    # CALCULATE AND RETURN SUM\n",
    "    return sum(daily_activity_list.values())\n",
    "\n",
    "  # MAKE SCORE COLUMNS\n",
    "  for daily_routine_col in dact_df.columns[4:]:\n",
    "\n",
    "    dact_df[\"score_\"+str(daily_routine_col)] = dact_df.apply(lambda x: calculate_daily_routine_score(x[daily_routine_col]), axis=1)\n",
    "    \n",
    "  # CALCULATE TOTAL SCORE\n",
    "  dact_df['total_score_daily_routine'] = dact_df.iloc[:,12:].apply(lambda x: x.sum(), axis=1)\n",
    "\n",
    "  def dact_score_col_func(x):\n",
    "    if x == 40:\n",
    "      return 'green'\n",
    "    elif 35 <= x < 50:\n",
    "      return 'amber'\n",
    "    else:\n",
    "      return 'red'\n",
    "\n",
    "  # CALCULATE TOTAL SCORE\n",
    "  dact_df['colour'] = dact_df.apply(lambda x: dact_score_col_func(x['total_score_daily_routine']), axis=1)\n",
    "\n",
    "  # REARRANGE COLUMNS\n",
    "  dact_df = dact_df[['recorded_date',\n",
    "                    'QIPID',\n",
    "                    'total_score_daily_routine',\n",
    "                      'time',\n",
    "                     'colour',\n",
    "                      'week',\n",
    "                    'daily_routine_7d',\n",
    "                    'daily_routine_6d',\n",
    "                    'daily_routine_5d',\n",
    "                    'daily_routine_4d',\n",
    "                    'daily_routine_3d',\n",
    "                    'daily_routine_2d',\n",
    "                    'daily_routine_1d',\n",
    "                    'daily_routine_0d',\n",
    "                    'score_daily_routine_7d',\n",
    "                    'score_daily_routine_6d',\n",
    "                    'score_daily_routine_5d',\n",
    "                    'score_daily_routine_4d',\n",
    "                    'score_daily_routine_3d',\n",
    "                    'score_daily_routine_2d',\n",
    "                    'score_daily_routine_1d',\n",
    "                    'score_daily_routine_0d',\n",
    "                    ]]\n",
    "\n",
    "  return dact_df, num_dropped\n",
    "\n",
    "make_dact_df_function()[0].info()"
   ]
  },
  {
   "cell_type": "markdown",
   "metadata": {},
   "source": [
    "# DAILY ACTIVITY FIG"
   ]
  },
  {
   "cell_type": "code",
   "execution_count": 56,
   "metadata": {},
   "outputs": [
    {
     "name": "stdout",
     "output_type": "stream",
     "text": [
      "DAILY ACTIVITY:115 data points have been dropped due to NA\n"
     ]
    },
    {
     "name": "stderr",
     "output_type": "stream",
     "text": [
      "c:\\Users\\Anchit\\anaconda3\\lib\\site-packages\\statsmodels\\nonparametric\\smoothers_lowess.py:227: RuntimeWarning:\n",
      "\n",
      "invalid value encountered in true_divide\n",
      "\n"
     ]
    },
    {
     "data": {
      "application/vnd.plotly.v1+json": {
       "config": {
        "plotlyServerURL": "https://plot.ly"
       },
       "data": [
        {
         "customdata": [
          [
           "red"
          ],
          [
           "red"
          ],
          [
           "red"
          ],
          [
           "red"
          ],
          [
           "red"
          ],
          [
           "red"
          ],
          [
           "red"
          ],
          [
           "red"
          ],
          [
           "red"
          ],
          [
           "red"
          ],
          [
           "red"
          ],
          [
           "red"
          ],
          [
           "red"
          ],
          [
           "red"
          ],
          [
           "red"
          ],
          [
           "red"
          ],
          [
           "red"
          ],
          [
           "red"
          ],
          [
           "red"
          ],
          [
           "red"
          ],
          [
           "red"
          ],
          [
           "red"
          ],
          [
           "red"
          ],
          [
           "red"
          ],
          [
           "red"
          ],
          [
           "red"
          ],
          [
           "red"
          ],
          [
           "red"
          ],
          [
           "red"
          ],
          [
           "red"
          ],
          [
           "red"
          ],
          [
           "red"
          ],
          [
           "red"
          ],
          [
           "red"
          ],
          [
           "red"
          ],
          [
           "red"
          ],
          [
           "red"
          ],
          [
           "red"
          ],
          [
           "red"
          ],
          [
           "red"
          ],
          [
           "red"
          ],
          [
           "red"
          ],
          [
           "red"
          ],
          [
           "red"
          ],
          [
           "red"
          ],
          [
           "red"
          ],
          [
           "red"
          ],
          [
           "red"
          ],
          [
           "red"
          ],
          [
           "red"
          ],
          [
           "red"
          ],
          [
           "red"
          ],
          [
           "red"
          ],
          [
           "red"
          ],
          [
           "red"
          ],
          [
           "red"
          ],
          [
           "red"
          ],
          [
           "red"
          ],
          [
           "red"
          ],
          [
           "red"
          ],
          [
           "red"
          ],
          [
           "red"
          ],
          [
           "red"
          ],
          [
           "red"
          ],
          [
           "red"
          ],
          [
           "red"
          ],
          [
           "red"
          ],
          [
           "red"
          ],
          [
           "red"
          ],
          [
           "red"
          ],
          [
           "red"
          ],
          [
           "red"
          ],
          [
           "red"
          ],
          [
           "red"
          ],
          [
           "red"
          ],
          [
           "red"
          ],
          [
           "red"
          ],
          [
           "red"
          ],
          [
           "red"
          ],
          [
           "red"
          ],
          [
           "red"
          ],
          [
           "red"
          ],
          [
           "red"
          ],
          [
           "red"
          ],
          [
           "red"
          ],
          [
           "red"
          ],
          [
           "red"
          ],
          [
           "red"
          ],
          [
           "red"
          ],
          [
           "red"
          ],
          [
           "red"
          ],
          [
           "red"
          ],
          [
           "red"
          ],
          [
           "red"
          ],
          [
           "red"
          ],
          [
           "red"
          ],
          [
           "red"
          ],
          [
           "red"
          ],
          [
           "red"
          ],
          [
           "red"
          ],
          [
           "red"
          ],
          [
           "red"
          ],
          [
           "red"
          ],
          [
           "red"
          ],
          [
           "red"
          ],
          [
           "red"
          ],
          [
           "red"
          ],
          [
           "red"
          ],
          [
           "red"
          ],
          [
           "red"
          ],
          [
           "red"
          ],
          [
           "red"
          ],
          [
           "red"
          ]
         ],
         "hovertemplate": "<b>%{hovertext}</b><br><br>Progress=%{customdata[0]}<br>Days since starting treatment=%{x}<br>total_score_daily_routine=%{y}<extra></extra>",
         "hovertext": [
          "QIP0",
          "QIP0",
          "QIP0",
          "QIP0",
          "QIP0",
          "QIP0",
          "QIP0",
          "QIP0",
          "QIP0",
          "QIP0",
          "QIP1",
          "QIP1",
          "QIP1",
          "QIP1",
          "QIP1",
          "QIP11",
          "QIP11",
          "QIP11",
          "QIP11",
          "QIP11",
          "QIP11",
          "QIP12",
          "QIP12",
          "QIP12",
          "QIP13",
          "QIP13",
          "QIP13",
          "QIP13",
          "QIP16",
          "QIP16",
          "QIP16",
          "QIP17",
          "QIP17",
          "QIP17",
          "QIP18",
          "QIP19",
          "QIP19",
          "QIP2",
          "QIP20",
          "QIP20",
          "QIP20",
          "QIP20",
          "QIP20",
          "QIP20",
          "QIP20",
          "QIP20",
          "QIP20",
          "QIP20",
          "QIP20",
          "QIP20",
          "QIP20",
          "QIP20",
          "QIP21",
          "QIP22",
          "QIP23",
          "QIP23",
          "QIP25",
          "QIP26",
          "QIP28",
          "QIP29",
          "QIP3",
          "QIP3",
          "QIP3",
          "QIP3",
          "QIP3",
          "QIP3",
          "QIP3",
          "QIP3",
          "QIP3",
          "QIP3",
          "QIP3",
          "QIP3",
          "QIP3",
          "QIP3",
          "QIP3",
          "QIP3",
          "QIP3",
          "QIP3",
          "QIP3",
          "QIP3",
          "QIP3",
          "QIP3",
          "QIP3",
          "QIP3",
          "QIP3",
          "QIP3",
          "QIP3",
          "QIP3",
          "QIP4",
          "QIP4",
          "QIP5",
          "QIP5",
          "QIP5",
          "QIP5",
          "QIP5",
          "QIP5",
          "QIP6",
          "QIP6",
          "QIP6",
          "QIP6",
          "QIP6",
          "QIP6",
          "QIP6",
          "QIP6",
          "QIP6",
          "QIP6",
          "QIP7",
          "QIP7",
          "QIP7",
          "QIP8",
          "QIP8",
          "QIP9",
          "QIP9"
         ],
         "legendgroup": "red",
         "marker": {
          "color": "red",
          "line": {
           "color": "DarkSlateGrey",
           "width": 2
          },
          "opacity": 0.5,
          "size": 12,
          "symbol": "circle"
         },
         "mode": "markers",
         "name": "red",
         "orientation": "v",
         "showlegend": true,
         "type": "scatter",
         "x": [
          0,
          0,
          0,
          0,
          0,
          0,
          0,
          0,
          0,
          0,
          0,
          0,
          0,
          0,
          0,
          0,
          0,
          0,
          0,
          0,
          0,
          0,
          0,
          0,
          0,
          0,
          0,
          0,
          0,
          0,
          0,
          0,
          0,
          0,
          0,
          0,
          0,
          0,
          0,
          0,
          0,
          0,
          0,
          38,
          7,
          27,
          7,
          13,
          7,
          6,
          14,
          13,
          0,
          0,
          0,
          0,
          0,
          42,
          0,
          0,
          0,
          0,
          0,
          0,
          0,
          0,
          0,
          0,
          0,
          0,
          0,
          0,
          0,
          0,
          0,
          0,
          0,
          0,
          0,
          0,
          0,
          0,
          0,
          0,
          0,
          0,
          9,
          33,
          0,
          0,
          0,
          0,
          0,
          0,
          0,
          111,
          0,
          0,
          0,
          0,
          0,
          0,
          0,
          0,
          17,
          97,
          0,
          0,
          0,
          0,
          0,
          0,
          0
         ],
         "xaxis": "x",
         "y": [
          27,
          -11,
          31,
          24,
          12,
          22,
          17,
          32,
          25,
          32,
          32,
          8,
          13,
          19,
          24,
          16,
          16,
          27,
          31,
          34,
          34,
          24,
          12,
          20,
          31,
          18,
          30,
          29,
          16,
          29,
          19,
          19,
          24,
          32,
          13,
          18,
          24,
          20,
          10,
          16,
          16,
          16,
          31,
          31,
          28,
          34,
          31,
          28,
          31,
          33,
          31,
          27,
          26,
          5,
          31,
          25,
          24,
          30,
          30,
          28,
          13,
          8,
          34,
          31,
          31,
          21,
          22,
          30,
          32,
          16,
          19,
          16,
          16,
          19,
          32,
          25,
          16,
          32,
          30,
          28,
          18,
          25,
          19,
          25,
          33,
          16,
          19,
          22,
          12,
          20,
          14,
          1,
          34,
          33,
          16,
          -13,
          25,
          23,
          11,
          18,
          32,
          8,
          33,
          31,
          18,
          28,
          10,
          30,
          34,
          12,
          10,
          26,
          16
         ],
         "yaxis": "y"
        },
        {
         "customdata": [
          [
           "amber"
          ],
          [
           "amber"
          ],
          [
           "amber"
          ],
          [
           "amber"
          ],
          [
           "amber"
          ],
          [
           "amber"
          ],
          [
           "amber"
          ],
          [
           "amber"
          ],
          [
           "amber"
          ],
          [
           "amber"
          ],
          [
           "amber"
          ],
          [
           "amber"
          ],
          [
           "amber"
          ],
          [
           "amber"
          ],
          [
           "amber"
          ]
         ],
         "hovertemplate": "<b>%{hovertext}</b><br><br>Progress=%{customdata[0]}<br>Days since starting treatment=%{x}<br>total_score_daily_routine=%{y}<extra></extra>",
         "hovertext": [
          "QIP0",
          "QIP1",
          "QIP11",
          "QIP11",
          "QIP11",
          "QIP15",
          "QIP17",
          "QIP2",
          "QIP2",
          "QIP3",
          "QIP3",
          "QIP6",
          "QIP7",
          "QIP7",
          "QIP7"
         ],
         "legendgroup": "amber",
         "marker": {
          "color": "orange",
          "line": {
           "color": "DarkSlateGrey",
           "width": 2
          },
          "opacity": 0.5,
          "size": 12,
          "symbol": "circle"
         },
         "mode": "markers",
         "name": "amber",
         "orientation": "v",
         "showlegend": true,
         "type": "scatter",
         "x": [
          0,
          0,
          0,
          0,
          40,
          0,
          137,
          0,
          0,
          0,
          0,
          0,
          0,
          0,
          120
         ],
         "xaxis": "x",
         "y": [
          36,
          39,
          37,
          37,
          37,
          39,
          35,
          39,
          35,
          35,
          36,
          36,
          38,
          37,
          37
         ],
         "yaxis": "y"
        },
        {
         "customdata": [
          [
           "green"
          ],
          [
           "green"
          ],
          [
           "green"
          ],
          [
           "green"
          ],
          [
           "green"
          ],
          [
           "green"
          ],
          [
           "green"
          ],
          [
           "green"
          ],
          [
           "green"
          ],
          [
           "green"
          ],
          [
           "green"
          ]
         ],
         "hovertemplate": "<b>%{hovertext}</b><br><br>Progress=%{customdata[0]}<br>Days since starting treatment=%{x}<br>total_score_daily_routine=%{y}<extra></extra>",
         "hovertext": [
          "QIP1",
          "QIP10",
          "QIP11",
          "QIP11",
          "QIP12",
          "QIP2",
          "QIP2",
          "QIP20",
          "QIP23",
          "QIP3",
          "QIP3"
         ],
         "legendgroup": "green",
         "marker": {
          "color": "green",
          "line": {
           "color": "DarkSlateGrey",
           "width": 2
          },
          "opacity": 0.5,
          "size": 12,
          "symbol": "circle"
         },
         "mode": "markers",
         "name": "green",
         "orientation": "v",
         "showlegend": true,
         "type": "scatter",
         "x": [
          0,
          0,
          0,
          64,
          0,
          0,
          0,
          7,
          0,
          0,
          0
         ],
         "xaxis": "x",
         "y": [
          40,
          40,
          40,
          40,
          40,
          40,
          40,
          40,
          40,
          40,
          40
         ],
         "yaxis": "y"
        },
        {
         "hovertemplate": "<b>LOWESS trendline</b><br><br>Days since starting treatment=%{x}<br>total_score_daily_routine=%{y} <b>(trend)</b><extra></extra>",
         "legendgroup": "Overall Trendline",
         "line": {
          "color": "#ab63fa"
         },
         "mode": "lines",
         "name": "Overall Trendline",
         "showlegend": true,
         "type": "scatter",
         "x": [
          0,
          0,
          0,
          0,
          0,
          0,
          0,
          0,
          0,
          0,
          0,
          0,
          0,
          0,
          0,
          0,
          0,
          0,
          0,
          0,
          0,
          0,
          0,
          0,
          0,
          0,
          0,
          0,
          0,
          0,
          0,
          0,
          0,
          0,
          0,
          0,
          0,
          0,
          0,
          0,
          0,
          0,
          0,
          0,
          0,
          0,
          0,
          0,
          0,
          0,
          0,
          0,
          0,
          0,
          0,
          0,
          0,
          0,
          0,
          0,
          0,
          0,
          0,
          0,
          0,
          0,
          0,
          0,
          0,
          0,
          0,
          0,
          0,
          0,
          0,
          0,
          0,
          0,
          0,
          0,
          0,
          0,
          0,
          0,
          0,
          0,
          0,
          0,
          0,
          0,
          0,
          0,
          0,
          0,
          0,
          0,
          0,
          0,
          0,
          0,
          0,
          0,
          0,
          0,
          0,
          0,
          0,
          0,
          0,
          0,
          0,
          0,
          0,
          0,
          0,
          0,
          0,
          0,
          0,
          6,
          7,
          7,
          7,
          7,
          9,
          13,
          13,
          14,
          17,
          27,
          33,
          38,
          40,
          42,
          64,
          97,
          111,
          120,
          137
         ],
         "xaxis": "x",
         "y": [
          27,
          27,
          27,
          27,
          27,
          27,
          27,
          27,
          27,
          27,
          27,
          27,
          27,
          27,
          27,
          27,
          27,
          27,
          27,
          27,
          27,
          27,
          27,
          27,
          27,
          27,
          27,
          27,
          27,
          27,
          27,
          27,
          27,
          27,
          27,
          27,
          27,
          27,
          27,
          27,
          27,
          27,
          27,
          27,
          27,
          27,
          27,
          27,
          27,
          27,
          27,
          27,
          27,
          27,
          27,
          27,
          27,
          27,
          27,
          27,
          27,
          27,
          27,
          27,
          27,
          27,
          27,
          27,
          27,
          27,
          27,
          27,
          27,
          27,
          27,
          27,
          27,
          27,
          27,
          27,
          27,
          27,
          27,
          27,
          27,
          27,
          27,
          27,
          27,
          27,
          27,
          27,
          27,
          27,
          27,
          27,
          27,
          27,
          27,
          27,
          27,
          27,
          27,
          27,
          27,
          27,
          27,
          27,
          27,
          27,
          27,
          27,
          27,
          27,
          27,
          27,
          27,
          27,
          27,
          36.008207093909625,
          31.151394230756416,
          31.151394230756416,
          31.151394230756416,
          31.151394230756416,
          29.68070778344634,
          26.075244931053746,
          26.075244931053746,
          25.272468498999835,
          27.29948834837043,
          29.0555125836133,
          30.03593524256356,
          31.327215512909717,
          31.911824532788337,
          32.48372744965623,
          32.69509452305214,
          33.880860808224,
          34.354862719192525,
          34.63832147230204,
          35.180431549984654
         ],
         "yaxis": "y"
        }
       ],
       "layout": {
        "legend": {
         "bordercolor": "Black",
         "borderwidth": 1,
         "orientation": "h",
         "title": {
          "text": "Progress"
         },
         "tracegroupgap": 0,
         "x": 0.5,
         "xanchor": "center",
         "y": -0.12,
         "yanchor": "top"
        },
        "margin": {
         "b": 0,
         "l": 0,
         "pad": 0,
         "r": 0,
         "t": 2
        },
        "shapes": [
         {
          "fillcolor": "green",
          "layer": "below",
          "line": {
           "width": 0
          },
          "opacity": 0.2,
          "type": "rect",
          "x0": 0,
          "x1": 1,
          "xref": "x domain",
          "y0": 45,
          "y1": 39,
          "yref": "y"
         },
         {
          "fillcolor": "orange",
          "layer": "below",
          "line": {
           "width": 0
          },
          "opacity": 0.2,
          "type": "rect",
          "x0": 0,
          "x1": 1,
          "xref": "x domain",
          "y0": 39,
          "y1": 34.5,
          "yref": "y"
         },
         {
          "fillcolor": "red",
          "layer": "below",
          "line": {
           "width": 0
          },
          "opacity": 0.2,
          "type": "rect",
          "x0": 0,
          "x1": 1,
          "xref": "x domain",
          "y0": 34.5,
          "y1": -1,
          "yref": "y"
         }
        ],
        "template": {
         "data": {
          "bar": [
           {
            "error_x": {
             "color": "#2a3f5f"
            },
            "error_y": {
             "color": "#2a3f5f"
            },
            "marker": {
             "line": {
              "color": "#E5ECF6",
              "width": 0.5
             },
             "pattern": {
              "fillmode": "overlay",
              "size": 10,
              "solidity": 0.2
             }
            },
            "type": "bar"
           }
          ],
          "barpolar": [
           {
            "marker": {
             "line": {
              "color": "#E5ECF6",
              "width": 0.5
             },
             "pattern": {
              "fillmode": "overlay",
              "size": 10,
              "solidity": 0.2
             }
            },
            "type": "barpolar"
           }
          ],
          "carpet": [
           {
            "aaxis": {
             "endlinecolor": "#2a3f5f",
             "gridcolor": "white",
             "linecolor": "white",
             "minorgridcolor": "white",
             "startlinecolor": "#2a3f5f"
            },
            "baxis": {
             "endlinecolor": "#2a3f5f",
             "gridcolor": "white",
             "linecolor": "white",
             "minorgridcolor": "white",
             "startlinecolor": "#2a3f5f"
            },
            "type": "carpet"
           }
          ],
          "choropleth": [
           {
            "colorbar": {
             "outlinewidth": 0,
             "ticks": ""
            },
            "type": "choropleth"
           }
          ],
          "contour": [
           {
            "colorbar": {
             "outlinewidth": 0,
             "ticks": ""
            },
            "colorscale": [
             [
              0,
              "#0d0887"
             ],
             [
              0.1111111111111111,
              "#46039f"
             ],
             [
              0.2222222222222222,
              "#7201a8"
             ],
             [
              0.3333333333333333,
              "#9c179e"
             ],
             [
              0.4444444444444444,
              "#bd3786"
             ],
             [
              0.5555555555555556,
              "#d8576b"
             ],
             [
              0.6666666666666666,
              "#ed7953"
             ],
             [
              0.7777777777777778,
              "#fb9f3a"
             ],
             [
              0.8888888888888888,
              "#fdca26"
             ],
             [
              1,
              "#f0f921"
             ]
            ],
            "type": "contour"
           }
          ],
          "contourcarpet": [
           {
            "colorbar": {
             "outlinewidth": 0,
             "ticks": ""
            },
            "type": "contourcarpet"
           }
          ],
          "heatmap": [
           {
            "colorbar": {
             "outlinewidth": 0,
             "ticks": ""
            },
            "colorscale": [
             [
              0,
              "#0d0887"
             ],
             [
              0.1111111111111111,
              "#46039f"
             ],
             [
              0.2222222222222222,
              "#7201a8"
             ],
             [
              0.3333333333333333,
              "#9c179e"
             ],
             [
              0.4444444444444444,
              "#bd3786"
             ],
             [
              0.5555555555555556,
              "#d8576b"
             ],
             [
              0.6666666666666666,
              "#ed7953"
             ],
             [
              0.7777777777777778,
              "#fb9f3a"
             ],
             [
              0.8888888888888888,
              "#fdca26"
             ],
             [
              1,
              "#f0f921"
             ]
            ],
            "type": "heatmap"
           }
          ],
          "heatmapgl": [
           {
            "colorbar": {
             "outlinewidth": 0,
             "ticks": ""
            },
            "colorscale": [
             [
              0,
              "#0d0887"
             ],
             [
              0.1111111111111111,
              "#46039f"
             ],
             [
              0.2222222222222222,
              "#7201a8"
             ],
             [
              0.3333333333333333,
              "#9c179e"
             ],
             [
              0.4444444444444444,
              "#bd3786"
             ],
             [
              0.5555555555555556,
              "#d8576b"
             ],
             [
              0.6666666666666666,
              "#ed7953"
             ],
             [
              0.7777777777777778,
              "#fb9f3a"
             ],
             [
              0.8888888888888888,
              "#fdca26"
             ],
             [
              1,
              "#f0f921"
             ]
            ],
            "type": "heatmapgl"
           }
          ],
          "histogram": [
           {
            "marker": {
             "pattern": {
              "fillmode": "overlay",
              "size": 10,
              "solidity": 0.2
             }
            },
            "type": "histogram"
           }
          ],
          "histogram2d": [
           {
            "colorbar": {
             "outlinewidth": 0,
             "ticks": ""
            },
            "colorscale": [
             [
              0,
              "#0d0887"
             ],
             [
              0.1111111111111111,
              "#46039f"
             ],
             [
              0.2222222222222222,
              "#7201a8"
             ],
             [
              0.3333333333333333,
              "#9c179e"
             ],
             [
              0.4444444444444444,
              "#bd3786"
             ],
             [
              0.5555555555555556,
              "#d8576b"
             ],
             [
              0.6666666666666666,
              "#ed7953"
             ],
             [
              0.7777777777777778,
              "#fb9f3a"
             ],
             [
              0.8888888888888888,
              "#fdca26"
             ],
             [
              1,
              "#f0f921"
             ]
            ],
            "type": "histogram2d"
           }
          ],
          "histogram2dcontour": [
           {
            "colorbar": {
             "outlinewidth": 0,
             "ticks": ""
            },
            "colorscale": [
             [
              0,
              "#0d0887"
             ],
             [
              0.1111111111111111,
              "#46039f"
             ],
             [
              0.2222222222222222,
              "#7201a8"
             ],
             [
              0.3333333333333333,
              "#9c179e"
             ],
             [
              0.4444444444444444,
              "#bd3786"
             ],
             [
              0.5555555555555556,
              "#d8576b"
             ],
             [
              0.6666666666666666,
              "#ed7953"
             ],
             [
              0.7777777777777778,
              "#fb9f3a"
             ],
             [
              0.8888888888888888,
              "#fdca26"
             ],
             [
              1,
              "#f0f921"
             ]
            ],
            "type": "histogram2dcontour"
           }
          ],
          "mesh3d": [
           {
            "colorbar": {
             "outlinewidth": 0,
             "ticks": ""
            },
            "type": "mesh3d"
           }
          ],
          "parcoords": [
           {
            "line": {
             "colorbar": {
              "outlinewidth": 0,
              "ticks": ""
             }
            },
            "type": "parcoords"
           }
          ],
          "pie": [
           {
            "automargin": true,
            "type": "pie"
           }
          ],
          "scatter": [
           {
            "marker": {
             "colorbar": {
              "outlinewidth": 0,
              "ticks": ""
             }
            },
            "type": "scatter"
           }
          ],
          "scatter3d": [
           {
            "line": {
             "colorbar": {
              "outlinewidth": 0,
              "ticks": ""
             }
            },
            "marker": {
             "colorbar": {
              "outlinewidth": 0,
              "ticks": ""
             }
            },
            "type": "scatter3d"
           }
          ],
          "scattercarpet": [
           {
            "marker": {
             "colorbar": {
              "outlinewidth": 0,
              "ticks": ""
             }
            },
            "type": "scattercarpet"
           }
          ],
          "scattergeo": [
           {
            "marker": {
             "colorbar": {
              "outlinewidth": 0,
              "ticks": ""
             }
            },
            "type": "scattergeo"
           }
          ],
          "scattergl": [
           {
            "marker": {
             "colorbar": {
              "outlinewidth": 0,
              "ticks": ""
             }
            },
            "type": "scattergl"
           }
          ],
          "scattermapbox": [
           {
            "marker": {
             "colorbar": {
              "outlinewidth": 0,
              "ticks": ""
             }
            },
            "type": "scattermapbox"
           }
          ],
          "scatterpolar": [
           {
            "marker": {
             "colorbar": {
              "outlinewidth": 0,
              "ticks": ""
             }
            },
            "type": "scatterpolar"
           }
          ],
          "scatterpolargl": [
           {
            "marker": {
             "colorbar": {
              "outlinewidth": 0,
              "ticks": ""
             }
            },
            "type": "scatterpolargl"
           }
          ],
          "scatterternary": [
           {
            "marker": {
             "colorbar": {
              "outlinewidth": 0,
              "ticks": ""
             }
            },
            "type": "scatterternary"
           }
          ],
          "surface": [
           {
            "colorbar": {
             "outlinewidth": 0,
             "ticks": ""
            },
            "colorscale": [
             [
              0,
              "#0d0887"
             ],
             [
              0.1111111111111111,
              "#46039f"
             ],
             [
              0.2222222222222222,
              "#7201a8"
             ],
             [
              0.3333333333333333,
              "#9c179e"
             ],
             [
              0.4444444444444444,
              "#bd3786"
             ],
             [
              0.5555555555555556,
              "#d8576b"
             ],
             [
              0.6666666666666666,
              "#ed7953"
             ],
             [
              0.7777777777777778,
              "#fb9f3a"
             ],
             [
              0.8888888888888888,
              "#fdca26"
             ],
             [
              1,
              "#f0f921"
             ]
            ],
            "type": "surface"
           }
          ],
          "table": [
           {
            "cells": {
             "fill": {
              "color": "#EBF0F8"
             },
             "line": {
              "color": "white"
             }
            },
            "header": {
             "fill": {
              "color": "#C8D4E3"
             },
             "line": {
              "color": "white"
             }
            },
            "type": "table"
           }
          ]
         },
         "layout": {
          "annotationdefaults": {
           "arrowcolor": "#2a3f5f",
           "arrowhead": 0,
           "arrowwidth": 1
          },
          "autotypenumbers": "strict",
          "coloraxis": {
           "colorbar": {
            "outlinewidth": 0,
            "ticks": ""
           }
          },
          "colorscale": {
           "diverging": [
            [
             0,
             "#8e0152"
            ],
            [
             0.1,
             "#c51b7d"
            ],
            [
             0.2,
             "#de77ae"
            ],
            [
             0.3,
             "#f1b6da"
            ],
            [
             0.4,
             "#fde0ef"
            ],
            [
             0.5,
             "#f7f7f7"
            ],
            [
             0.6,
             "#e6f5d0"
            ],
            [
             0.7,
             "#b8e186"
            ],
            [
             0.8,
             "#7fbc41"
            ],
            [
             0.9,
             "#4d9221"
            ],
            [
             1,
             "#276419"
            ]
           ],
           "sequential": [
            [
             0,
             "#0d0887"
            ],
            [
             0.1111111111111111,
             "#46039f"
            ],
            [
             0.2222222222222222,
             "#7201a8"
            ],
            [
             0.3333333333333333,
             "#9c179e"
            ],
            [
             0.4444444444444444,
             "#bd3786"
            ],
            [
             0.5555555555555556,
             "#d8576b"
            ],
            [
             0.6666666666666666,
             "#ed7953"
            ],
            [
             0.7777777777777778,
             "#fb9f3a"
            ],
            [
             0.8888888888888888,
             "#fdca26"
            ],
            [
             1,
             "#f0f921"
            ]
           ],
           "sequentialminus": [
            [
             0,
             "#0d0887"
            ],
            [
             0.1111111111111111,
             "#46039f"
            ],
            [
             0.2222222222222222,
             "#7201a8"
            ],
            [
             0.3333333333333333,
             "#9c179e"
            ],
            [
             0.4444444444444444,
             "#bd3786"
            ],
            [
             0.5555555555555556,
             "#d8576b"
            ],
            [
             0.6666666666666666,
             "#ed7953"
            ],
            [
             0.7777777777777778,
             "#fb9f3a"
            ],
            [
             0.8888888888888888,
             "#fdca26"
            ],
            [
             1,
             "#f0f921"
            ]
           ]
          },
          "colorway": [
           "#636efa",
           "#EF553B",
           "#00cc96",
           "#ab63fa",
           "#FFA15A",
           "#19d3f3",
           "#FF6692",
           "#B6E880",
           "#FF97FF",
           "#FECB52"
          ],
          "font": {
           "color": "#2a3f5f"
          },
          "geo": {
           "bgcolor": "white",
           "lakecolor": "white",
           "landcolor": "#E5ECF6",
           "showlakes": true,
           "showland": true,
           "subunitcolor": "white"
          },
          "hoverlabel": {
           "align": "left"
          },
          "hovermode": "closest",
          "mapbox": {
           "style": "light"
          },
          "paper_bgcolor": "white",
          "plot_bgcolor": "#E5ECF6",
          "polar": {
           "angularaxis": {
            "gridcolor": "white",
            "linecolor": "white",
            "ticks": ""
           },
           "bgcolor": "#E5ECF6",
           "radialaxis": {
            "gridcolor": "white",
            "linecolor": "white",
            "ticks": ""
           }
          },
          "scene": {
           "xaxis": {
            "backgroundcolor": "#E5ECF6",
            "gridcolor": "white",
            "gridwidth": 2,
            "linecolor": "white",
            "showbackground": true,
            "ticks": "",
            "zerolinecolor": "white"
           },
           "yaxis": {
            "backgroundcolor": "#E5ECF6",
            "gridcolor": "white",
            "gridwidth": 2,
            "linecolor": "white",
            "showbackground": true,
            "ticks": "",
            "zerolinecolor": "white"
           },
           "zaxis": {
            "backgroundcolor": "#E5ECF6",
            "gridcolor": "white",
            "gridwidth": 2,
            "linecolor": "white",
            "showbackground": true,
            "ticks": "",
            "zerolinecolor": "white"
           }
          },
          "shapedefaults": {
           "line": {
            "color": "#2a3f5f"
           }
          },
          "ternary": {
           "aaxis": {
            "gridcolor": "white",
            "linecolor": "white",
            "ticks": ""
           },
           "baxis": {
            "gridcolor": "white",
            "linecolor": "white",
            "ticks": ""
           },
           "bgcolor": "#E5ECF6",
           "caxis": {
            "gridcolor": "white",
            "linecolor": "white",
            "ticks": ""
           }
          },
          "title": {
           "x": 0.05
          },
          "xaxis": {
           "automargin": true,
           "gridcolor": "white",
           "linecolor": "white",
           "ticks": "",
           "title": {
            "standoff": 15
           },
           "zerolinecolor": "white",
           "zerolinewidth": 2
          },
          "yaxis": {
           "automargin": true,
           "gridcolor": "white",
           "linecolor": "white",
           "ticks": "",
           "title": {
            "standoff": 15
           },
           "zerolinecolor": "white",
           "zerolinewidth": 2
          }
         }
        },
        "xaxis": {
         "anchor": "y",
         "domain": [
          0,
          1
         ],
         "dtick": "28",
         "title": {
          "text": "Days since starting treatment"
         }
        },
        "yaxis": {
         "anchor": "x",
         "domain": [
          0,
          1
         ],
         "range": [
          -1,
          45
         ],
         "showgrid": false,
         "title": {}
        }
       }
      }
     },
     "metadata": {},
     "output_type": "display_data"
    }
   ],
   "source": [
    "def make_dact_fig(dact_df=make_dact_df_function()[0]):\n",
    "\n",
    "  # CREATE TIMESERIES CHART\n",
    "  dact_df_fig = px.scatter(dact_df, \n",
    "                            x='time',\n",
    "                            y='total_score_daily_routine',\n",
    "                            color='colour',\n",
    "                            opacity = 0.5,\n",
    "                        \n",
    "                            labels=dict(time=\"Days since starting treatment\", colour=\"Progress\"), # CUSTOMISE AXIS TITLES\n",
    "                              \n",
    "                            color_discrete_map={\n",
    "                              'red': \"red\",\n",
    "                              \"amber\": \"orange\",\n",
    "                              \"green\": \"green\",\n",
    "                                    },\n",
    "\n",
    "                            hover_name=\"QIPID\", hover_data=[\"total_score_daily_routine\", \"colour\"], # CUSTOMISE HOVER LABELS,\n",
    "                            trendline=\"lowess\", #ADD TREND LINE\n",
    "                            trendline_scope=\"overall\"\n",
    "  )\n",
    "\n",
    "  # ADD TITLE\n",
    "  dact_df_fig.update_layout(\n",
    "      \n",
    "      # title={\n",
    "      #     'text': \"💩 St Mark's Score\",\n",
    "      #     'y':0.95,\n",
    "      #     'x':0.5,\n",
    "      #     'xanchor': 'center',\n",
    "      #     'yanchor': 'top'\n",
    "      #     },\n",
    "\n",
    "      yaxis_title=None, #REMOVE Y TITLE\n",
    "\n",
    "      # FIX FIGURE MARGINS\n",
    "      # width=500,\n",
    "      # height=500,\n",
    "      margin=dict(\n",
    "          l=0,\n",
    "          r=0,\n",
    "          b=0,\n",
    "          t=2,\n",
    "          pad=0\n",
    "      ),\n",
    "      #paper_bgcolor=\"LightSteelBlue\",\n",
    "\n",
    "      # CUSTOMISE LEGEND\n",
    "      legend=dict(\n",
    "            yanchor=\"top\",\n",
    "            y=-0.12,\n",
    "            xanchor=\"center\",\n",
    "            x=0.5,\n",
    "            orientation='h',\n",
    "            #bgcolor=\"LightSteelBlue\",\n",
    "            bordercolor=\"Black\",\n",
    "            borderwidth=1\n",
    "            )\n",
    "          \n",
    "          )\n",
    "\n",
    "  # CUSTOMISE MARKER AESTHETICS\n",
    "  dact_df_fig.update_traces(marker=dict(size=12,\n",
    "                                line=dict(width=2,\n",
    "                                          color='DarkSlateGrey')),\n",
    "                    selector=dict(mode='markers')\n",
    "                  )\n",
    "\n",
    "  #CUSTOMISE DATE x AXIS FORMAT\n",
    "  dact_df_fig.update_xaxes(\n",
    "      dtick=\"28\",\n",
    "      )\n",
    "  \n",
    "  # COLOUR BACKGROUND ACCORDINGLY\n",
    "  dact_df_fig.add_hrect(y0=45, y1=39, line_width=0, fillcolor=\"green\", opacity=0.2,layer=\"below\")\n",
    "  dact_df_fig.add_hrect(y0=39, y1=34.5, line_width=0, fillcolor=\"orange\", opacity=0.2,layer=\"below\")\n",
    "  dact_df_fig.add_hrect(y0=34.5, y1=-1, line_width=0, fillcolor=\"red\", opacity=0.2,layer=\"below\")\n",
    "\n",
    "  # REMOVE GRIDLINES Y AXIS\n",
    "  dact_df_fig.update_yaxes(\n",
    "      showgrid=False,\n",
    "      range=[-1,45]\n",
    "  )\n",
    "\n",
    "  return dact_df_fig\n",
    "\n",
    "\n",
    "make_dact_fig()"
   ]
  },
  {
   "cell_type": "markdown",
   "metadata": {},
   "source": [
    "# QOL DF"
   ]
  },
  {
   "cell_type": "code",
   "execution_count": 54,
   "metadata": {},
   "outputs": [
    {
     "name": "stdout",
     "output_type": "stream",
     "text": [
      "Dropped 150 due to > 50% Na\n"
     ]
    },
    {
     "data": {
      "text/html": [
       "<div>\n",
       "<style scoped>\n",
       "    .dataframe tbody tr th:only-of-type {\n",
       "        vertical-align: middle;\n",
       "    }\n",
       "\n",
       "    .dataframe tbody tr th {\n",
       "        vertical-align: top;\n",
       "    }\n",
       "\n",
       "    .dataframe thead th {\n",
       "        text-align: right;\n",
       "    }\n",
       "</style>\n",
       "<table border=\"1\" class=\"dataframe\">\n",
       "  <thead>\n",
       "    <tr style=\"text-align: right;\">\n",
       "      <th></th>\n",
       "      <th>recorded_date</th>\n",
       "      <th>QIPID</th>\n",
       "      <th>time</th>\n",
       "      <th>week</th>\n",
       "      <th>qol_score_carer</th>\n",
       "      <th>carer_everyday_walking_block</th>\n",
       "      <th>child_everyday_lethargy</th>\n",
       "      <th>child_everyday_pain</th>\n",
       "      <th>child_everyday_chores</th>\n",
       "      <th>child_everyday_participate_exercise</th>\n",
       "      <th>...</th>\n",
       "      <th>child_everyday_walking_block</th>\n",
       "      <th>carer_emotion_afraid</th>\n",
       "      <th>carer_emotion_angry</th>\n",
       "      <th>carer_emotion_sad</th>\n",
       "      <th>carer_emotion_insomnia</th>\n",
       "      <th>carer_emotion_worry</th>\n",
       "      <th>carer_school_forget</th>\n",
       "      <th>carer_school_school_work</th>\n",
       "      <th>carer_school_missing_unwell</th>\n",
       "      <th>carer_school_missing_doctor</th>\n",
       "    </tr>\n",
       "  </thead>\n",
       "  <tbody>\n",
       "    <tr>\n",
       "      <th>0</th>\n",
       "      <td>2021-10-23</td>\n",
       "      <td>QIP0</td>\n",
       "      <td>0</td>\n",
       "      <td>1</td>\n",
       "      <td>1700.0</td>\n",
       "      <td>100.0</td>\n",
       "      <td>100.0</td>\n",
       "      <td>50.0</td>\n",
       "      <td>100.0</td>\n",
       "      <td>100.0</td>\n",
       "      <td>...</td>\n",
       "      <td>100.0</td>\n",
       "      <td>100.0</td>\n",
       "      <td>100.0</td>\n",
       "      <td>100.0</td>\n",
       "      <td>100.0</td>\n",
       "      <td>100.0</td>\n",
       "      <td>100.0</td>\n",
       "      <td>100.0</td>\n",
       "      <td>100.0</td>\n",
       "      <td>50.0</td>\n",
       "    </tr>\n",
       "    <tr>\n",
       "      <th>1</th>\n",
       "      <td>2021-10-23</td>\n",
       "      <td>QIP0</td>\n",
       "      <td>0</td>\n",
       "      <td>1</td>\n",
       "      <td>525.0</td>\n",
       "      <td>50.0</td>\n",
       "      <td>0.0</td>\n",
       "      <td>0.0</td>\n",
       "      <td>NaN</td>\n",
       "      <td>25.0</td>\n",
       "      <td>...</td>\n",
       "      <td>50.0</td>\n",
       "      <td>25.0</td>\n",
       "      <td>50.0</td>\n",
       "      <td>50.0</td>\n",
       "      <td>25.0</td>\n",
       "      <td>50.0</td>\n",
       "      <td>100.0</td>\n",
       "      <td>0.0</td>\n",
       "      <td>25.0</td>\n",
       "      <td>25.0</td>\n",
       "    </tr>\n",
       "    <tr>\n",
       "      <th>3</th>\n",
       "      <td>2021-10-23</td>\n",
       "      <td>QIP0</td>\n",
       "      <td>0</td>\n",
       "      <td>1</td>\n",
       "      <td>925.0</td>\n",
       "      <td>50.0</td>\n",
       "      <td>25.0</td>\n",
       "      <td>50.0</td>\n",
       "      <td>50.0</td>\n",
       "      <td>100.0</td>\n",
       "      <td>...</td>\n",
       "      <td>100.0</td>\n",
       "      <td>50.0</td>\n",
       "      <td>25.0</td>\n",
       "      <td>50.0</td>\n",
       "      <td>0.0</td>\n",
       "      <td>50.0</td>\n",
       "      <td>100.0</td>\n",
       "      <td>25.0</td>\n",
       "      <td>0.0</td>\n",
       "      <td>0.0</td>\n",
       "    </tr>\n",
       "    <tr>\n",
       "      <th>4</th>\n",
       "      <td>2021-10-23</td>\n",
       "      <td>QIP0</td>\n",
       "      <td>0</td>\n",
       "      <td>1</td>\n",
       "      <td>1550.0</td>\n",
       "      <td>75.0</td>\n",
       "      <td>50.0</td>\n",
       "      <td>50.0</td>\n",
       "      <td>100.0</td>\n",
       "      <td>100.0</td>\n",
       "      <td>...</td>\n",
       "      <td>100.0</td>\n",
       "      <td>100.0</td>\n",
       "      <td>100.0</td>\n",
       "      <td>100.0</td>\n",
       "      <td>25.0</td>\n",
       "      <td>100.0</td>\n",
       "      <td>100.0</td>\n",
       "      <td>100.0</td>\n",
       "      <td>100.0</td>\n",
       "      <td>50.0</td>\n",
       "    </tr>\n",
       "    <tr>\n",
       "      <th>5</th>\n",
       "      <td>2021-10-23</td>\n",
       "      <td>QIP0</td>\n",
       "      <td>0</td>\n",
       "      <td>1</td>\n",
       "      <td>700.0</td>\n",
       "      <td>0.0</td>\n",
       "      <td>25.0</td>\n",
       "      <td>100.0</td>\n",
       "      <td>50.0</td>\n",
       "      <td>100.0</td>\n",
       "      <td>...</td>\n",
       "      <td>100.0</td>\n",
       "      <td>0.0</td>\n",
       "      <td>0.0</td>\n",
       "      <td>0.0</td>\n",
       "      <td>0.0</td>\n",
       "      <td>0.0</td>\n",
       "      <td>50.0</td>\n",
       "      <td>25.0</td>\n",
       "      <td>0.0</td>\n",
       "      <td>0.0</td>\n",
       "    </tr>\n",
       "  </tbody>\n",
       "</table>\n",
       "<p>5 rows × 23 columns</p>\n",
       "</div>"
      ],
      "text/plain": [
       "  recorded_date QIPID  time  week  qol_score_carer  \\\n",
       "0    2021-10-23  QIP0     0     1           1700.0   \n",
       "1    2021-10-23  QIP0     0     1            525.0   \n",
       "3    2021-10-23  QIP0     0     1            925.0   \n",
       "4    2021-10-23  QIP0     0     1           1550.0   \n",
       "5    2021-10-23  QIP0     0     1            700.0   \n",
       "\n",
       "   carer_everyday_walking_block  child_everyday_lethargy  child_everyday_pain  \\\n",
       "0                         100.0                    100.0                 50.0   \n",
       "1                          50.0                      0.0                  0.0   \n",
       "3                          50.0                     25.0                 50.0   \n",
       "4                          75.0                     50.0                 50.0   \n",
       "5                           0.0                     25.0                100.0   \n",
       "\n",
       "   child_everyday_chores  child_everyday_participate_exercise  ...  \\\n",
       "0                  100.0                                100.0  ...   \n",
       "1                    NaN                                 25.0  ...   \n",
       "3                   50.0                                100.0  ...   \n",
       "4                  100.0                                100.0  ...   \n",
       "5                   50.0                                100.0  ...   \n",
       "\n",
       "   child_everyday_walking_block  carer_emotion_afraid  carer_emotion_angry  \\\n",
       "0                         100.0                 100.0                100.0   \n",
       "1                          50.0                  25.0                 50.0   \n",
       "3                         100.0                  50.0                 25.0   \n",
       "4                         100.0                 100.0                100.0   \n",
       "5                         100.0                   0.0                  0.0   \n",
       "\n",
       "   carer_emotion_sad  carer_emotion_insomnia  carer_emotion_worry  \\\n",
       "0              100.0                   100.0                100.0   \n",
       "1               50.0                    25.0                 50.0   \n",
       "3               50.0                     0.0                 50.0   \n",
       "4              100.0                    25.0                100.0   \n",
       "5                0.0                     0.0                  0.0   \n",
       "\n",
       "   carer_school_forget  carer_school_school_work  carer_school_missing_unwell  \\\n",
       "0                100.0                     100.0                        100.0   \n",
       "1                100.0                       0.0                         25.0   \n",
       "3                100.0                      25.0                          0.0   \n",
       "4                100.0                     100.0                        100.0   \n",
       "5                 50.0                      25.0                          0.0   \n",
       "\n",
       "   carer_school_missing_doctor  \n",
       "0                         50.0  \n",
       "1                         25.0  \n",
       "3                          0.0  \n",
       "4                         50.0  \n",
       "5                          0.0  \n",
       "\n",
       "[5 rows x 23 columns]"
      ]
     },
     "metadata": {},
     "output_type": "display_data"
    },
    {
     "name": "stdout",
     "output_type": "stream",
     "text": [
      "Dropped 150 due to > 50% Na\n"
     ]
    },
    {
     "data": {
      "text/html": [
       "<div>\n",
       "<style scoped>\n",
       "    .dataframe tbody tr th:only-of-type {\n",
       "        vertical-align: middle;\n",
       "    }\n",
       "\n",
       "    .dataframe tbody tr th {\n",
       "        vertical-align: top;\n",
       "    }\n",
       "\n",
       "    .dataframe thead th {\n",
       "        text-align: right;\n",
       "    }\n",
       "</style>\n",
       "<table border=\"1\" class=\"dataframe\">\n",
       "  <thead>\n",
       "    <tr style=\"text-align: right;\">\n",
       "      <th></th>\n",
       "      <th>recorded_date</th>\n",
       "      <th>QIPID</th>\n",
       "      <th>time</th>\n",
       "      <th>week</th>\n",
       "      <th>qol_score_child</th>\n",
       "      <th>child_everyday_walking_block</th>\n",
       "      <th>carer_emotion_afraid</th>\n",
       "      <th>carer_emotion_angry</th>\n",
       "      <th>carer_emotion_sad</th>\n",
       "      <th>carer_emotion_insomnia</th>\n",
       "      <th>...</th>\n",
       "      <th>child_social_teasing</th>\n",
       "      <th>child_emotion_afraid</th>\n",
       "      <th>child_emotion_angry</th>\n",
       "      <th>child_emotion_sad</th>\n",
       "      <th>child_emotion_insomnia</th>\n",
       "      <th>child_emotion_worry</th>\n",
       "      <th>child_school_forget</th>\n",
       "      <th>child_school_school_work</th>\n",
       "      <th>child_school_missing_unwell</th>\n",
       "      <th>child_school_missing_doctor</th>\n",
       "    </tr>\n",
       "  </thead>\n",
       "  <tbody>\n",
       "    <tr>\n",
       "      <th>0</th>\n",
       "      <td>2021-10-23</td>\n",
       "      <td>QIP0</td>\n",
       "      <td>0</td>\n",
       "      <td>1</td>\n",
       "      <td>2900.0</td>\n",
       "      <td>100.0</td>\n",
       "      <td>100.0</td>\n",
       "      <td>100.0</td>\n",
       "      <td>100.0</td>\n",
       "      <td>100.0</td>\n",
       "      <td>...</td>\n",
       "      <td>100.0</td>\n",
       "      <td>100.0</td>\n",
       "      <td>100.0</td>\n",
       "      <td>100.0</td>\n",
       "      <td>100.0</td>\n",
       "      <td>100.0</td>\n",
       "      <td>100.0</td>\n",
       "      <td>100.0</td>\n",
       "      <td>100.0</td>\n",
       "      <td>50.0</td>\n",
       "    </tr>\n",
       "    <tr>\n",
       "      <th>1</th>\n",
       "      <td>2021-10-23</td>\n",
       "      <td>QIP0</td>\n",
       "      <td>0</td>\n",
       "      <td>1</td>\n",
       "      <td>1200.0</td>\n",
       "      <td>50.0</td>\n",
       "      <td>25.0</td>\n",
       "      <td>50.0</td>\n",
       "      <td>50.0</td>\n",
       "      <td>25.0</td>\n",
       "      <td>...</td>\n",
       "      <td>100.0</td>\n",
       "      <td>50.0</td>\n",
       "      <td>50.0</td>\n",
       "      <td>50.0</td>\n",
       "      <td>0.0</td>\n",
       "      <td>0.0</td>\n",
       "      <td>100.0</td>\n",
       "      <td>50.0</td>\n",
       "      <td>50.0</td>\n",
       "      <td>50.0</td>\n",
       "    </tr>\n",
       "    <tr>\n",
       "      <th>3</th>\n",
       "      <td>2021-10-23</td>\n",
       "      <td>QIP0</td>\n",
       "      <td>0</td>\n",
       "      <td>1</td>\n",
       "      <td>1275.0</td>\n",
       "      <td>100.0</td>\n",
       "      <td>50.0</td>\n",
       "      <td>25.0</td>\n",
       "      <td>50.0</td>\n",
       "      <td>0.0</td>\n",
       "      <td>...</td>\n",
       "      <td>100.0</td>\n",
       "      <td>25.0</td>\n",
       "      <td>75.0</td>\n",
       "      <td>25.0</td>\n",
       "      <td>0.0</td>\n",
       "      <td>25.0</td>\n",
       "      <td>75.0</td>\n",
       "      <td>0.0</td>\n",
       "      <td>0.0</td>\n",
       "      <td>0.0</td>\n",
       "    </tr>\n",
       "    <tr>\n",
       "      <th>4</th>\n",
       "      <td>2021-10-23</td>\n",
       "      <td>QIP0</td>\n",
       "      <td>0</td>\n",
       "      <td>1</td>\n",
       "      <td>2750.0</td>\n",
       "      <td>100.0</td>\n",
       "      <td>100.0</td>\n",
       "      <td>100.0</td>\n",
       "      <td>100.0</td>\n",
       "      <td>25.0</td>\n",
       "      <td>...</td>\n",
       "      <td>100.0</td>\n",
       "      <td>100.0</td>\n",
       "      <td>100.0</td>\n",
       "      <td>100.0</td>\n",
       "      <td>25.0</td>\n",
       "      <td>100.0</td>\n",
       "      <td>100.0</td>\n",
       "      <td>100.0</td>\n",
       "      <td>100.0</td>\n",
       "      <td>50.0</td>\n",
       "    </tr>\n",
       "    <tr>\n",
       "      <th>5</th>\n",
       "      <td>2021-10-23</td>\n",
       "      <td>QIP0</td>\n",
       "      <td>0</td>\n",
       "      <td>1</td>\n",
       "      <td>925.0</td>\n",
       "      <td>100.0</td>\n",
       "      <td>0.0</td>\n",
       "      <td>0.0</td>\n",
       "      <td>0.0</td>\n",
       "      <td>0.0</td>\n",
       "      <td>...</td>\n",
       "      <td>NaN</td>\n",
       "      <td>50.0</td>\n",
       "      <td>75.0</td>\n",
       "      <td>50.0</td>\n",
       "      <td>0.0</td>\n",
       "      <td>100.0</td>\n",
       "      <td>NaN</td>\n",
       "      <td>NaN</td>\n",
       "      <td>NaN</td>\n",
       "      <td>NaN</td>\n",
       "    </tr>\n",
       "  </tbody>\n",
       "</table>\n",
       "<p>5 rows × 35 columns</p>\n",
       "</div>"
      ],
      "text/plain": [
       "  recorded_date QIPID  time  week  qol_score_child  \\\n",
       "0    2021-10-23  QIP0     0     1           2900.0   \n",
       "1    2021-10-23  QIP0     0     1           1200.0   \n",
       "3    2021-10-23  QIP0     0     1           1275.0   \n",
       "4    2021-10-23  QIP0     0     1           2750.0   \n",
       "5    2021-10-23  QIP0     0     1            925.0   \n",
       "\n",
       "   child_everyday_walking_block  carer_emotion_afraid  carer_emotion_angry  \\\n",
       "0                         100.0                 100.0                100.0   \n",
       "1                          50.0                  25.0                 50.0   \n",
       "3                         100.0                  50.0                 25.0   \n",
       "4                         100.0                 100.0                100.0   \n",
       "5                         100.0                   0.0                  0.0   \n",
       "\n",
       "   carer_emotion_sad  carer_emotion_insomnia  ...  child_social_teasing  \\\n",
       "0              100.0                   100.0  ...                 100.0   \n",
       "1               50.0                    25.0  ...                 100.0   \n",
       "3               50.0                     0.0  ...                 100.0   \n",
       "4              100.0                    25.0  ...                 100.0   \n",
       "5                0.0                     0.0  ...                   NaN   \n",
       "\n",
       "   child_emotion_afraid  child_emotion_angry  child_emotion_sad  \\\n",
       "0                 100.0                100.0              100.0   \n",
       "1                  50.0                 50.0               50.0   \n",
       "3                  25.0                 75.0               25.0   \n",
       "4                 100.0                100.0              100.0   \n",
       "5                  50.0                 75.0               50.0   \n",
       "\n",
       "   child_emotion_insomnia  child_emotion_worry  child_school_forget  \\\n",
       "0                   100.0                100.0                100.0   \n",
       "1                     0.0                  0.0                100.0   \n",
       "3                     0.0                 25.0                 75.0   \n",
       "4                    25.0                100.0                100.0   \n",
       "5                     0.0                100.0                  NaN   \n",
       "\n",
       "   child_school_school_work  child_school_missing_unwell  \\\n",
       "0                     100.0                        100.0   \n",
       "1                      50.0                         50.0   \n",
       "3                       0.0                          0.0   \n",
       "4                     100.0                        100.0   \n",
       "5                       NaN                          NaN   \n",
       "\n",
       "   child_school_missing_doctor  \n",
       "0                         50.0  \n",
       "1                         50.0  \n",
       "3                          0.0  \n",
       "4                         50.0  \n",
       "5                          NaN  \n",
       "\n",
       "[5 rows x 35 columns]"
      ]
     },
     "metadata": {},
     "output_type": "display_data"
    },
    {
     "name": "stdout",
     "output_type": "stream",
     "text": [
      "Dropped 150 due to > 50% Na\n"
     ]
    },
    {
     "data": {
      "text/html": [
       "<div>\n",
       "<style scoped>\n",
       "    .dataframe tbody tr th:only-of-type {\n",
       "        vertical-align: middle;\n",
       "    }\n",
       "\n",
       "    .dataframe tbody tr th {\n",
       "        vertical-align: top;\n",
       "    }\n",
       "\n",
       "    .dataframe thead th {\n",
       "        text-align: right;\n",
       "    }\n",
       "</style>\n",
       "<table border=\"1\" class=\"dataframe\">\n",
       "  <thead>\n",
       "    <tr style=\"text-align: right;\">\n",
       "      <th></th>\n",
       "      <th>recorded_date</th>\n",
       "      <th>QIPID</th>\n",
       "      <th>time</th>\n",
       "      <th>week</th>\n",
       "      <th>qol_score_carer</th>\n",
       "      <th>qol_score_child</th>\n",
       "      <th>carer_everyday_walking_block</th>\n",
       "      <th>child_everyday_lethargy</th>\n",
       "      <th>child_everyday_pain</th>\n",
       "      <th>child_everyday_chores</th>\n",
       "      <th>...</th>\n",
       "      <th>child_social_teasing</th>\n",
       "      <th>child_emotion_afraid</th>\n",
       "      <th>child_emotion_angry</th>\n",
       "      <th>child_emotion_sad</th>\n",
       "      <th>child_emotion_insomnia</th>\n",
       "      <th>child_emotion_worry</th>\n",
       "      <th>child_school_forget</th>\n",
       "      <th>child_school_school_work</th>\n",
       "      <th>child_school_missing_unwell</th>\n",
       "      <th>child_school_missing_doctor</th>\n",
       "    </tr>\n",
       "  </thead>\n",
       "  <tbody>\n",
       "    <tr>\n",
       "      <th>0</th>\n",
       "      <td>2021-10-23</td>\n",
       "      <td>QIP0</td>\n",
       "      <td>0</td>\n",
       "      <td>1</td>\n",
       "      <td>1700.0</td>\n",
       "      <td>2900.0</td>\n",
       "      <td>100.0</td>\n",
       "      <td>100.0</td>\n",
       "      <td>50.0</td>\n",
       "      <td>100.0</td>\n",
       "      <td>...</td>\n",
       "      <td>100.0</td>\n",
       "      <td>100.0</td>\n",
       "      <td>100.0</td>\n",
       "      <td>100.0</td>\n",
       "      <td>100.0</td>\n",
       "      <td>100.0</td>\n",
       "      <td>100.0</td>\n",
       "      <td>100.0</td>\n",
       "      <td>100.0</td>\n",
       "      <td>50.0</td>\n",
       "    </tr>\n",
       "    <tr>\n",
       "      <th>1</th>\n",
       "      <td>2021-10-23</td>\n",
       "      <td>QIP0</td>\n",
       "      <td>0</td>\n",
       "      <td>1</td>\n",
       "      <td>525.0</td>\n",
       "      <td>1200.0</td>\n",
       "      <td>50.0</td>\n",
       "      <td>0.0</td>\n",
       "      <td>0.0</td>\n",
       "      <td>NaN</td>\n",
       "      <td>...</td>\n",
       "      <td>100.0</td>\n",
       "      <td>50.0</td>\n",
       "      <td>50.0</td>\n",
       "      <td>50.0</td>\n",
       "      <td>0.0</td>\n",
       "      <td>0.0</td>\n",
       "      <td>100.0</td>\n",
       "      <td>50.0</td>\n",
       "      <td>50.0</td>\n",
       "      <td>50.0</td>\n",
       "    </tr>\n",
       "    <tr>\n",
       "      <th>3</th>\n",
       "      <td>2021-10-23</td>\n",
       "      <td>QIP0</td>\n",
       "      <td>0</td>\n",
       "      <td>1</td>\n",
       "      <td>925.0</td>\n",
       "      <td>1275.0</td>\n",
       "      <td>50.0</td>\n",
       "      <td>25.0</td>\n",
       "      <td>50.0</td>\n",
       "      <td>50.0</td>\n",
       "      <td>...</td>\n",
       "      <td>100.0</td>\n",
       "      <td>25.0</td>\n",
       "      <td>75.0</td>\n",
       "      <td>25.0</td>\n",
       "      <td>0.0</td>\n",
       "      <td>25.0</td>\n",
       "      <td>75.0</td>\n",
       "      <td>0.0</td>\n",
       "      <td>0.0</td>\n",
       "      <td>0.0</td>\n",
       "    </tr>\n",
       "    <tr>\n",
       "      <th>4</th>\n",
       "      <td>2021-10-23</td>\n",
       "      <td>QIP0</td>\n",
       "      <td>0</td>\n",
       "      <td>1</td>\n",
       "      <td>1550.0</td>\n",
       "      <td>2750.0</td>\n",
       "      <td>75.0</td>\n",
       "      <td>50.0</td>\n",
       "      <td>50.0</td>\n",
       "      <td>100.0</td>\n",
       "      <td>...</td>\n",
       "      <td>100.0</td>\n",
       "      <td>100.0</td>\n",
       "      <td>100.0</td>\n",
       "      <td>100.0</td>\n",
       "      <td>25.0</td>\n",
       "      <td>100.0</td>\n",
       "      <td>100.0</td>\n",
       "      <td>100.0</td>\n",
       "      <td>100.0</td>\n",
       "      <td>50.0</td>\n",
       "    </tr>\n",
       "    <tr>\n",
       "      <th>5</th>\n",
       "      <td>2021-10-23</td>\n",
       "      <td>QIP0</td>\n",
       "      <td>0</td>\n",
       "      <td>1</td>\n",
       "      <td>700.0</td>\n",
       "      <td>925.0</td>\n",
       "      <td>0.0</td>\n",
       "      <td>25.0</td>\n",
       "      <td>100.0</td>\n",
       "      <td>50.0</td>\n",
       "      <td>...</td>\n",
       "      <td>NaN</td>\n",
       "      <td>50.0</td>\n",
       "      <td>75.0</td>\n",
       "      <td>50.0</td>\n",
       "      <td>0.0</td>\n",
       "      <td>100.0</td>\n",
       "      <td>NaN</td>\n",
       "      <td>NaN</td>\n",
       "      <td>NaN</td>\n",
       "      <td>NaN</td>\n",
       "    </tr>\n",
       "  </tbody>\n",
       "</table>\n",
       "<p>5 rows × 44 columns</p>\n",
       "</div>"
      ],
      "text/plain": [
       "  recorded_date QIPID  time  week  qol_score_carer  qol_score_child  \\\n",
       "0    2021-10-23  QIP0     0     1           1700.0           2900.0   \n",
       "1    2021-10-23  QIP0     0     1            525.0           1200.0   \n",
       "3    2021-10-23  QIP0     0     1            925.0           1275.0   \n",
       "4    2021-10-23  QIP0     0     1           1550.0           2750.0   \n",
       "5    2021-10-23  QIP0     0     1            700.0            925.0   \n",
       "\n",
       "   carer_everyday_walking_block  child_everyday_lethargy  child_everyday_pain  \\\n",
       "0                         100.0                    100.0                 50.0   \n",
       "1                          50.0                      0.0                  0.0   \n",
       "3                          50.0                     25.0                 50.0   \n",
       "4                          75.0                     50.0                 50.0   \n",
       "5                           0.0                     25.0                100.0   \n",
       "\n",
       "   child_everyday_chores  ...  child_social_teasing  child_emotion_afraid  \\\n",
       "0                  100.0  ...                 100.0                 100.0   \n",
       "1                    NaN  ...                 100.0                  50.0   \n",
       "3                   50.0  ...                 100.0                  25.0   \n",
       "4                  100.0  ...                 100.0                 100.0   \n",
       "5                   50.0  ...                   NaN                  50.0   \n",
       "\n",
       "   child_emotion_angry  child_emotion_sad  child_emotion_insomnia  \\\n",
       "0                100.0              100.0                   100.0   \n",
       "1                 50.0               50.0                     0.0   \n",
       "3                 75.0               25.0                     0.0   \n",
       "4                100.0              100.0                    25.0   \n",
       "5                 75.0               50.0                     0.0   \n",
       "\n",
       "   child_emotion_worry  child_school_forget  child_school_school_work  \\\n",
       "0                100.0                100.0                     100.0   \n",
       "1                  0.0                100.0                      50.0   \n",
       "3                 25.0                 75.0                       0.0   \n",
       "4                100.0                100.0                     100.0   \n",
       "5                100.0                  NaN                       NaN   \n",
       "\n",
       "   child_school_missing_unwell  child_school_missing_doctor  \n",
       "0                        100.0                         50.0  \n",
       "1                         50.0                         50.0  \n",
       "3                          0.0                          0.0  \n",
       "4                        100.0                         50.0  \n",
       "5                          NaN                          NaN  \n",
       "\n",
       "[5 rows x 44 columns]"
      ]
     },
     "metadata": {},
     "output_type": "display_data"
    }
   ],
   "source": [
    "def make_qol_df_function(qipid='ALL', df=clean_df(df)):\n",
    "\n",
    "  #MAKE COPY OF DF\n",
    "  qol_df = df.copy()\n",
    "\n",
    "  if qipid != 'ALL':\n",
    "    qol_df = qol_df[qol_df[\"QIPID\"]==qipid]\n",
    "\n",
    "  # SELECT CORRECT COLUMNS \n",
    "  qol_df=qol_df[\n",
    "          list(\n",
    "            ['recorded_date'] + \n",
    "            ['QIPID'] + \n",
    "            ['time'] +\n",
    "            ['week'] +\n",
    "            list(qol_df.loc[:, \"carer_everyday_walking_block\":\"child_school_missing_doctor\"]) \n",
    "\n",
    "          )\n",
    "          ]\n",
    "\n",
    "  # GET SIZE BEFORE AND AFTER DROPPING NA (dropping if >50% na)\n",
    "  before_qol_df_size = qol_df.shape[0]\n",
    "\n",
    "  #### Remove rows with more than 50% NA\n",
    "  size_df_question_cols = qol_df.loc[:,\"carer_everyday_walking_block\":].shape[1]\n",
    "  qol_df = qol_df.dropna(axis=0, thresh=size_df_question_cols/2)\n",
    "  after_qol_df_size = qol_df.shape[0]\n",
    "\n",
    "  print(f\"Dropped {before_qol_df_size - after_qol_df_size} due to > 50% Na\")\n",
    "\n",
    "  # MAP ANSWER TO SCORE\n",
    "  qol_df.loc[:,\"carer_everyday_walking_block\":\"child_school_missing_doctor\"] = qol_df.loc[:,\"carer_everyday_walking_block\":\"child_school_missing_doctor\"].replace({\n",
    "      'Never' : 100,\n",
    "      'Almost Never' : 75,\n",
    "      'Sometimes' : 50,\n",
    "      'Often' : 25,\n",
    "      'Almost Always' : 0\n",
    "  })\n",
    "\n",
    "  # CALC SCORE FOR CARER\n",
    "  qol_df['qol_score_carer'] = qol_df.loc[:,\"carer_everyday_walking_block\":\"carer_school_missing_doctor\"].apply(lambda x: x.sum(), axis=1)\n",
    "\n",
    "  #CALC SCORE FOR CHILD\n",
    "  qol_df['qol_score_child'] = qol_df.loc[:,\"child_everyday_walking_block\":\"child_school_missing_doctor\"].apply(lambda x: x.sum(), axis=1)\n",
    "\n",
    "  qol_df_carer = qol_df[\n",
    "                        list(\n",
    "                            ['recorded_date'] + \n",
    "                            ['QIPID'] + \n",
    "                            ['time'] +\n",
    "                            ['week'] +\n",
    "                            ['qol_score_carer']+\n",
    "                            list(qol_df.loc[:, \"carer_everyday_walking_block\":\"carer_school_missing_doctor\"]) \n",
    "                        )\n",
    "          ]\n",
    "\n",
    "  qol_df_child = qol_df[\n",
    "                      list(\n",
    "                          ['recorded_date'] + \n",
    "                          ['QIPID'] + \n",
    "                          ['time'] +\n",
    "                          ['week'] +\n",
    "                          ['qol_score_child'] +\n",
    "                          list(qol_df.loc[:, \"child_everyday_walking_block\":\"child_school_missing_doctor\"]) \n",
    "                      )\n",
    "        ]\n",
    "  qol_df_combined = qol_df[\n",
    "                      list(\n",
    "                          ['recorded_date'] + \n",
    "                          ['QIPID'] + \n",
    "                          ['time'] +\n",
    "                          ['week'] +\n",
    "                          ['qol_score_carer']+\n",
    "                          ['qol_score_child'] +\n",
    "                          list(qol_df.loc[:, \"carer_everyday_walking_block\":\"child_school_missing_doctor\"]) \n",
    "                      )\n",
    "        ]\n",
    "\n",
    "\n",
    "  return qol_df_carer, qol_df_child, qol_df_combined\n",
    "\n",
    "display(make_qol_df_function()[0].head()) # carer\n",
    "display(make_qol_df_function()[1].head()) # child\n",
    "display(make_qol_df_function()[2].head()) # carer and child"
   ]
  },
  {
   "cell_type": "markdown",
   "metadata": {},
   "source": [
    "# QOL FIG"
   ]
  },
  {
   "cell_type": "code",
   "execution_count": 58,
   "metadata": {},
   "outputs": [
    {
     "name": "stdout",
     "output_type": "stream",
     "text": [
      "Dropped 150 due to > 50% Na\n"
     ]
    },
    {
     "data": {
      "application/vnd.plotly.v1+json": {
       "config": {
        "plotlyServerURL": "https://plot.ly"
       },
       "data": [
        {
         "hovertemplate": "variable=qol_score_carer<br>Time (Days)=%{x}<br>value=%{y}<extra></extra>",
         "legendgroup": "qol_score_carer",
         "marker": {
          "color": "#636efa",
          "line": {
           "color": "DarkSlateGrey",
           "width": 2
          },
          "opacity": 0.5,
          "size": 12,
          "symbol": "circle"
         },
         "mode": "markers",
         "name": "qol_score_carer",
         "orientation": "v",
         "showlegend": true,
         "type": "scatter",
         "x": [
          0,
          0,
          0,
          0,
          0,
          0,
          0,
          0,
          0,
          0,
          0,
          0,
          0,
          0,
          0,
          0,
          0,
          0,
          0,
          0,
          0,
          0,
          0,
          40,
          0,
          0,
          0,
          0,
          0,
          0,
          0,
          0,
          0,
          0,
          0,
          0,
          0,
          0,
          0,
          0,
          0,
          0,
          0,
          0,
          27,
          13,
          0,
          0,
          0,
          0,
          0,
          0,
          0,
          0,
          0,
          0,
          0,
          0,
          0,
          0,
          0,
          0,
          0,
          0,
          0,
          0,
          0,
          0,
          0,
          0,
          0,
          0,
          0,
          0,
          0,
          0,
          0,
          1,
          0,
          0,
          0,
          0,
          0,
          0,
          0,
          0,
          0,
          0,
          0,
          0,
          0,
          0,
          0,
          0,
          0,
          0,
          0,
          0,
          0,
          0,
          0,
          0
         ],
         "xaxis": "x",
         "y": [
          1700,
          525,
          925,
          1550,
          700,
          1700,
          1650,
          1750,
          1675,
          1750,
          475,
          900,
          500,
          1100,
          1775,
          975,
          675,
          925,
          1525,
          950,
          575,
          725,
          1025,
          1075,
          1800,
          1225,
          1700,
          500,
          575,
          400,
          1675,
          1125,
          1475,
          1525,
          1025,
          1800,
          1650,
          825,
          1575,
          875,
          1500,
          1375,
          1325,
          1350,
          1300,
          1325,
          1600,
          1025,
          200,
          1550,
          700,
          1500,
          725,
          1000,
          1400,
          1050,
          575,
          200,
          1450,
          1775,
          1275,
          1100,
          525,
          425,
          1800,
          1000,
          1300,
          1450,
          1375,
          1250,
          1000,
          1000,
          1300,
          1400,
          1325,
          1575,
          1000,
          875,
          400,
          1100,
          375,
          675,
          1525,
          1000,
          725,
          175,
          1100,
          1425,
          1075,
          1550,
          1425,
          1025,
          650,
          925,
          700,
          1075,
          1425,
          1350,
          750,
          300,
          600,
          850
         ],
         "yaxis": "y"
        },
        {
         "hovertemplate": "<b>OLS trendline</b><br>value = 2.66342 * time + 1105.48<br>R<sup>2</sup>=0.000897<br><br>variable=qol_score_carer<br>Time (Days)=%{x}<br>value=%{y} <b>(trend)</b><extra></extra>",
         "legendgroup": "qol_score_carer",
         "marker": {
          "color": "#636efa",
          "symbol": "circle"
         },
         "mode": "lines",
         "name": "qol_score_carer",
         "showlegend": false,
         "type": "scatter",
         "x": [
          0,
          0,
          0,
          0,
          0,
          0,
          0,
          0,
          0,
          0,
          0,
          0,
          0,
          0,
          0,
          0,
          0,
          0,
          0,
          0,
          0,
          0,
          0,
          0,
          0,
          0,
          0,
          0,
          0,
          0,
          0,
          0,
          0,
          0,
          0,
          0,
          0,
          0,
          0,
          0,
          0,
          0,
          0,
          0,
          0,
          0,
          0,
          0,
          0,
          0,
          0,
          0,
          0,
          0,
          0,
          0,
          0,
          0,
          0,
          0,
          0,
          0,
          0,
          0,
          0,
          0,
          0,
          0,
          0,
          0,
          0,
          0,
          0,
          0,
          0,
          0,
          0,
          0,
          0,
          0,
          0,
          0,
          0,
          0,
          0,
          0,
          0,
          0,
          0,
          0,
          0,
          0,
          0,
          0,
          0,
          0,
          0,
          0,
          1,
          13,
          27,
          40
         ],
         "xaxis": "x",
         "y": [
          1105.4829727346305,
          1105.4829727346305,
          1105.4829727346305,
          1105.4829727346305,
          1105.4829727346305,
          1105.4829727346305,
          1105.4829727346305,
          1105.4829727346305,
          1105.4829727346305,
          1105.4829727346305,
          1105.4829727346305,
          1105.4829727346305,
          1105.4829727346305,
          1105.4829727346305,
          1105.4829727346305,
          1105.4829727346305,
          1105.4829727346305,
          1105.4829727346305,
          1105.4829727346305,
          1105.4829727346305,
          1105.4829727346305,
          1105.4829727346305,
          1105.4829727346305,
          1105.4829727346305,
          1105.4829727346305,
          1105.4829727346305,
          1105.4829727346305,
          1105.4829727346305,
          1105.4829727346305,
          1105.4829727346305,
          1105.4829727346305,
          1105.4829727346305,
          1105.4829727346305,
          1105.4829727346305,
          1105.4829727346305,
          1105.4829727346305,
          1105.4829727346305,
          1105.4829727346305,
          1105.4829727346305,
          1105.4829727346305,
          1105.4829727346305,
          1105.4829727346305,
          1105.4829727346305,
          1105.4829727346305,
          1105.4829727346305,
          1105.4829727346305,
          1105.4829727346305,
          1105.4829727346305,
          1105.4829727346305,
          1105.4829727346305,
          1105.4829727346305,
          1105.4829727346305,
          1105.4829727346305,
          1105.4829727346305,
          1105.4829727346305,
          1105.4829727346305,
          1105.4829727346305,
          1105.4829727346305,
          1105.4829727346305,
          1105.4829727346305,
          1105.4829727346305,
          1105.4829727346305,
          1105.4829727346305,
          1105.4829727346305,
          1105.4829727346305,
          1105.4829727346305,
          1105.4829727346305,
          1105.4829727346305,
          1105.4829727346305,
          1105.4829727346305,
          1105.4829727346305,
          1105.4829727346305,
          1105.4829727346305,
          1105.4829727346305,
          1105.4829727346305,
          1105.4829727346305,
          1105.4829727346305,
          1105.4829727346305,
          1105.4829727346305,
          1105.4829727346305,
          1105.4829727346305,
          1105.4829727346305,
          1105.4829727346305,
          1105.4829727346305,
          1105.4829727346305,
          1105.4829727346305,
          1105.4829727346305,
          1105.4829727346305,
          1105.4829727346305,
          1105.4829727346305,
          1105.4829727346305,
          1105.4829727346305,
          1105.4829727346305,
          1105.4829727346305,
          1105.4829727346305,
          1105.4829727346305,
          1105.4829727346305,
          1105.4829727346305,
          1108.1463897848485,
          1140.107394387465,
          1177.3952330905176,
          1212.019654743352
         ],
         "yaxis": "y"
        },
        {
         "hovertemplate": "variable=qol_score_child<br>Time (Days)=%{x}<br>value=%{y}<extra></extra>",
         "legendgroup": "qol_score_child",
         "marker": {
          "color": "#EF553B",
          "line": {
           "color": "DarkSlateGrey",
           "width": 2
          },
          "opacity": 0.5,
          "size": 12,
          "symbol": "circle"
         },
         "mode": "markers",
         "name": "qol_score_child",
         "orientation": "v",
         "showlegend": true,
         "type": "scatter",
         "x": [
          0,
          0,
          0,
          0,
          0,
          0,
          0,
          0,
          0,
          0,
          0,
          0,
          0,
          0,
          0,
          0,
          0,
          0,
          0,
          0,
          0,
          0,
          0,
          40,
          0,
          0,
          0,
          0,
          0,
          0,
          0,
          0,
          0,
          0,
          0,
          0,
          0,
          0,
          0,
          0,
          0,
          0,
          0,
          0,
          27,
          13,
          0,
          0,
          0,
          0,
          0,
          0,
          0,
          0,
          0,
          0,
          0,
          0,
          0,
          0,
          0,
          0,
          0,
          0,
          0,
          0,
          0,
          0,
          0,
          0,
          0,
          0,
          0,
          0,
          0,
          0,
          0,
          1,
          0,
          0,
          0,
          0,
          0,
          0,
          0,
          0,
          0,
          0,
          0,
          0,
          0,
          0,
          0,
          0,
          0,
          0,
          0,
          0,
          0,
          0,
          0,
          0
         ],
         "xaxis": "x",
         "y": [
          2900,
          1200,
          1275,
          2750,
          925,
          2950,
          2850,
          2500,
          2900,
          2900,
          775,
          850,
          1600,
          2150,
          2975,
          1300,
          750,
          1050,
          2025,
          1500,
          1125,
          1000,
          1025,
          925,
          3000,
          1800,
          2900,
          725,
          750,
          625,
          2900,
          1950,
          2325,
          2475,
          1800,
          2875,
          2800,
          1250,
          2325,
          1550,
          1725,
          2050,
          1425,
          1975,
          1875,
          1900,
          2725,
          2300,
          850,
          2625,
          1175,
          1825,
          1900,
          1625,
          2750,
          1900,
          1225,
          525,
          2550,
          2975,
          1650,
          1700,
          1350,
          850,
          2100,
          1850,
          2000,
          2200,
          2125,
          2150,
          1850,
          1300,
          2175,
          2375,
          1850,
          2400,
          1875,
          1575,
          1050,
          2275,
          1075,
          775,
          2625,
          1700,
          1000,
          250,
          1250,
          2125,
          1550,
          2400,
          2450,
          2125,
          1025,
          1425,
          875,
          1500,
          1625,
          1725,
          1200,
          550,
          1025,
          1250
         ],
         "yaxis": "y"
        },
        {
         "hovertemplate": "<b>OLS trendline</b><br>value = -12.0505 * time + 1777.95<br>R<sup>2</sup>=0.006959<br><br>variable=qol_score_child<br>Time (Days)=%{x}<br>value=%{y} <b>(trend)</b><extra></extra>",
         "legendgroup": "qol_score_child",
         "marker": {
          "color": "#EF553B",
          "symbol": "circle"
         },
         "mode": "lines",
         "name": "qol_score_child",
         "showlegend": false,
         "type": "scatter",
         "x": [
          0,
          0,
          0,
          0,
          0,
          0,
          0,
          0,
          0,
          0,
          0,
          0,
          0,
          0,
          0,
          0,
          0,
          0,
          0,
          0,
          0,
          0,
          0,
          0,
          0,
          0,
          0,
          0,
          0,
          0,
          0,
          0,
          0,
          0,
          0,
          0,
          0,
          0,
          0,
          0,
          0,
          0,
          0,
          0,
          0,
          0,
          0,
          0,
          0,
          0,
          0,
          0,
          0,
          0,
          0,
          0,
          0,
          0,
          0,
          0,
          0,
          0,
          0,
          0,
          0,
          0,
          0,
          0,
          0,
          0,
          0,
          0,
          0,
          0,
          0,
          0,
          0,
          0,
          0,
          0,
          0,
          0,
          0,
          0,
          0,
          0,
          0,
          0,
          0,
          0,
          0,
          0,
          0,
          0,
          0,
          0,
          0,
          0,
          1,
          13,
          27,
          40
         ],
         "xaxis": "x",
         "y": [
          1777.9518356104807,
          1777.9518356104807,
          1777.9518356104807,
          1777.9518356104807,
          1777.9518356104807,
          1777.9518356104807,
          1777.9518356104807,
          1777.9518356104807,
          1777.9518356104807,
          1777.9518356104807,
          1777.9518356104807,
          1777.9518356104807,
          1777.9518356104807,
          1777.9518356104807,
          1777.9518356104807,
          1777.9518356104807,
          1777.9518356104807,
          1777.9518356104807,
          1777.9518356104807,
          1777.9518356104807,
          1777.9518356104807,
          1777.9518356104807,
          1777.9518356104807,
          1777.9518356104807,
          1777.9518356104807,
          1777.9518356104807,
          1777.9518356104807,
          1777.9518356104807,
          1777.9518356104807,
          1777.9518356104807,
          1777.9518356104807,
          1777.9518356104807,
          1777.9518356104807,
          1777.9518356104807,
          1777.9518356104807,
          1777.9518356104807,
          1777.9518356104807,
          1777.9518356104807,
          1777.9518356104807,
          1777.9518356104807,
          1777.9518356104807,
          1777.9518356104807,
          1777.9518356104807,
          1777.9518356104807,
          1777.9518356104807,
          1777.9518356104807,
          1777.9518356104807,
          1777.9518356104807,
          1777.9518356104807,
          1777.9518356104807,
          1777.9518356104807,
          1777.9518356104807,
          1777.9518356104807,
          1777.9518356104807,
          1777.9518356104807,
          1777.9518356104807,
          1777.9518356104807,
          1777.9518356104807,
          1777.9518356104807,
          1777.9518356104807,
          1777.9518356104807,
          1777.9518356104807,
          1777.9518356104807,
          1777.9518356104807,
          1777.9518356104807,
          1777.9518356104807,
          1777.9518356104807,
          1777.9518356104807,
          1777.9518356104807,
          1777.9518356104807,
          1777.9518356104807,
          1777.9518356104807,
          1777.9518356104807,
          1777.9518356104807,
          1777.9518356104807,
          1777.9518356104807,
          1777.9518356104807,
          1777.9518356104807,
          1777.9518356104807,
          1777.9518356104807,
          1777.9518356104807,
          1777.9518356104807,
          1777.9518356104807,
          1777.9518356104807,
          1777.9518356104807,
          1777.9518356104807,
          1777.9518356104807,
          1777.9518356104807,
          1777.9518356104807,
          1777.9518356104807,
          1777.9518356104807,
          1777.9518356104807,
          1777.9518356104807,
          1777.9518356104807,
          1777.9518356104807,
          1777.9518356104807,
          1777.9518356104807,
          1777.9518356104807,
          1765.901375952838,
          1621.295860061126,
          1452.5894248541288,
          1295.933449304774
         ],
         "yaxis": "y"
        }
       ],
       "layout": {
        "legend": {
         "title": {
          "text": "variable"
         },
         "tracegroupgap": 0
        },
        "template": {
         "data": {
          "bar": [
           {
            "error_x": {
             "color": "#2a3f5f"
            },
            "error_y": {
             "color": "#2a3f5f"
            },
            "marker": {
             "line": {
              "color": "#E5ECF6",
              "width": 0.5
             },
             "pattern": {
              "fillmode": "overlay",
              "size": 10,
              "solidity": 0.2
             }
            },
            "type": "bar"
           }
          ],
          "barpolar": [
           {
            "marker": {
             "line": {
              "color": "#E5ECF6",
              "width": 0.5
             },
             "pattern": {
              "fillmode": "overlay",
              "size": 10,
              "solidity": 0.2
             }
            },
            "type": "barpolar"
           }
          ],
          "carpet": [
           {
            "aaxis": {
             "endlinecolor": "#2a3f5f",
             "gridcolor": "white",
             "linecolor": "white",
             "minorgridcolor": "white",
             "startlinecolor": "#2a3f5f"
            },
            "baxis": {
             "endlinecolor": "#2a3f5f",
             "gridcolor": "white",
             "linecolor": "white",
             "minorgridcolor": "white",
             "startlinecolor": "#2a3f5f"
            },
            "type": "carpet"
           }
          ],
          "choropleth": [
           {
            "colorbar": {
             "outlinewidth": 0,
             "ticks": ""
            },
            "type": "choropleth"
           }
          ],
          "contour": [
           {
            "colorbar": {
             "outlinewidth": 0,
             "ticks": ""
            },
            "colorscale": [
             [
              0,
              "#0d0887"
             ],
             [
              0.1111111111111111,
              "#46039f"
             ],
             [
              0.2222222222222222,
              "#7201a8"
             ],
             [
              0.3333333333333333,
              "#9c179e"
             ],
             [
              0.4444444444444444,
              "#bd3786"
             ],
             [
              0.5555555555555556,
              "#d8576b"
             ],
             [
              0.6666666666666666,
              "#ed7953"
             ],
             [
              0.7777777777777778,
              "#fb9f3a"
             ],
             [
              0.8888888888888888,
              "#fdca26"
             ],
             [
              1,
              "#f0f921"
             ]
            ],
            "type": "contour"
           }
          ],
          "contourcarpet": [
           {
            "colorbar": {
             "outlinewidth": 0,
             "ticks": ""
            },
            "type": "contourcarpet"
           }
          ],
          "heatmap": [
           {
            "colorbar": {
             "outlinewidth": 0,
             "ticks": ""
            },
            "colorscale": [
             [
              0,
              "#0d0887"
             ],
             [
              0.1111111111111111,
              "#46039f"
             ],
             [
              0.2222222222222222,
              "#7201a8"
             ],
             [
              0.3333333333333333,
              "#9c179e"
             ],
             [
              0.4444444444444444,
              "#bd3786"
             ],
             [
              0.5555555555555556,
              "#d8576b"
             ],
             [
              0.6666666666666666,
              "#ed7953"
             ],
             [
              0.7777777777777778,
              "#fb9f3a"
             ],
             [
              0.8888888888888888,
              "#fdca26"
             ],
             [
              1,
              "#f0f921"
             ]
            ],
            "type": "heatmap"
           }
          ],
          "heatmapgl": [
           {
            "colorbar": {
             "outlinewidth": 0,
             "ticks": ""
            },
            "colorscale": [
             [
              0,
              "#0d0887"
             ],
             [
              0.1111111111111111,
              "#46039f"
             ],
             [
              0.2222222222222222,
              "#7201a8"
             ],
             [
              0.3333333333333333,
              "#9c179e"
             ],
             [
              0.4444444444444444,
              "#bd3786"
             ],
             [
              0.5555555555555556,
              "#d8576b"
             ],
             [
              0.6666666666666666,
              "#ed7953"
             ],
             [
              0.7777777777777778,
              "#fb9f3a"
             ],
             [
              0.8888888888888888,
              "#fdca26"
             ],
             [
              1,
              "#f0f921"
             ]
            ],
            "type": "heatmapgl"
           }
          ],
          "histogram": [
           {
            "marker": {
             "pattern": {
              "fillmode": "overlay",
              "size": 10,
              "solidity": 0.2
             }
            },
            "type": "histogram"
           }
          ],
          "histogram2d": [
           {
            "colorbar": {
             "outlinewidth": 0,
             "ticks": ""
            },
            "colorscale": [
             [
              0,
              "#0d0887"
             ],
             [
              0.1111111111111111,
              "#46039f"
             ],
             [
              0.2222222222222222,
              "#7201a8"
             ],
             [
              0.3333333333333333,
              "#9c179e"
             ],
             [
              0.4444444444444444,
              "#bd3786"
             ],
             [
              0.5555555555555556,
              "#d8576b"
             ],
             [
              0.6666666666666666,
              "#ed7953"
             ],
             [
              0.7777777777777778,
              "#fb9f3a"
             ],
             [
              0.8888888888888888,
              "#fdca26"
             ],
             [
              1,
              "#f0f921"
             ]
            ],
            "type": "histogram2d"
           }
          ],
          "histogram2dcontour": [
           {
            "colorbar": {
             "outlinewidth": 0,
             "ticks": ""
            },
            "colorscale": [
             [
              0,
              "#0d0887"
             ],
             [
              0.1111111111111111,
              "#46039f"
             ],
             [
              0.2222222222222222,
              "#7201a8"
             ],
             [
              0.3333333333333333,
              "#9c179e"
             ],
             [
              0.4444444444444444,
              "#bd3786"
             ],
             [
              0.5555555555555556,
              "#d8576b"
             ],
             [
              0.6666666666666666,
              "#ed7953"
             ],
             [
              0.7777777777777778,
              "#fb9f3a"
             ],
             [
              0.8888888888888888,
              "#fdca26"
             ],
             [
              1,
              "#f0f921"
             ]
            ],
            "type": "histogram2dcontour"
           }
          ],
          "mesh3d": [
           {
            "colorbar": {
             "outlinewidth": 0,
             "ticks": ""
            },
            "type": "mesh3d"
           }
          ],
          "parcoords": [
           {
            "line": {
             "colorbar": {
              "outlinewidth": 0,
              "ticks": ""
             }
            },
            "type": "parcoords"
           }
          ],
          "pie": [
           {
            "automargin": true,
            "type": "pie"
           }
          ],
          "scatter": [
           {
            "marker": {
             "colorbar": {
              "outlinewidth": 0,
              "ticks": ""
             }
            },
            "type": "scatter"
           }
          ],
          "scatter3d": [
           {
            "line": {
             "colorbar": {
              "outlinewidth": 0,
              "ticks": ""
             }
            },
            "marker": {
             "colorbar": {
              "outlinewidth": 0,
              "ticks": ""
             }
            },
            "type": "scatter3d"
           }
          ],
          "scattercarpet": [
           {
            "marker": {
             "colorbar": {
              "outlinewidth": 0,
              "ticks": ""
             }
            },
            "type": "scattercarpet"
           }
          ],
          "scattergeo": [
           {
            "marker": {
             "colorbar": {
              "outlinewidth": 0,
              "ticks": ""
             }
            },
            "type": "scattergeo"
           }
          ],
          "scattergl": [
           {
            "marker": {
             "colorbar": {
              "outlinewidth": 0,
              "ticks": ""
             }
            },
            "type": "scattergl"
           }
          ],
          "scattermapbox": [
           {
            "marker": {
             "colorbar": {
              "outlinewidth": 0,
              "ticks": ""
             }
            },
            "type": "scattermapbox"
           }
          ],
          "scatterpolar": [
           {
            "marker": {
             "colorbar": {
              "outlinewidth": 0,
              "ticks": ""
             }
            },
            "type": "scatterpolar"
           }
          ],
          "scatterpolargl": [
           {
            "marker": {
             "colorbar": {
              "outlinewidth": 0,
              "ticks": ""
             }
            },
            "type": "scatterpolargl"
           }
          ],
          "scatterternary": [
           {
            "marker": {
             "colorbar": {
              "outlinewidth": 0,
              "ticks": ""
             }
            },
            "type": "scatterternary"
           }
          ],
          "surface": [
           {
            "colorbar": {
             "outlinewidth": 0,
             "ticks": ""
            },
            "colorscale": [
             [
              0,
              "#0d0887"
             ],
             [
              0.1111111111111111,
              "#46039f"
             ],
             [
              0.2222222222222222,
              "#7201a8"
             ],
             [
              0.3333333333333333,
              "#9c179e"
             ],
             [
              0.4444444444444444,
              "#bd3786"
             ],
             [
              0.5555555555555556,
              "#d8576b"
             ],
             [
              0.6666666666666666,
              "#ed7953"
             ],
             [
              0.7777777777777778,
              "#fb9f3a"
             ],
             [
              0.8888888888888888,
              "#fdca26"
             ],
             [
              1,
              "#f0f921"
             ]
            ],
            "type": "surface"
           }
          ],
          "table": [
           {
            "cells": {
             "fill": {
              "color": "#EBF0F8"
             },
             "line": {
              "color": "white"
             }
            },
            "header": {
             "fill": {
              "color": "#C8D4E3"
             },
             "line": {
              "color": "white"
             }
            },
            "type": "table"
           }
          ]
         },
         "layout": {
          "annotationdefaults": {
           "arrowcolor": "#2a3f5f",
           "arrowhead": 0,
           "arrowwidth": 1
          },
          "autotypenumbers": "strict",
          "coloraxis": {
           "colorbar": {
            "outlinewidth": 0,
            "ticks": ""
           }
          },
          "colorscale": {
           "diverging": [
            [
             0,
             "#8e0152"
            ],
            [
             0.1,
             "#c51b7d"
            ],
            [
             0.2,
             "#de77ae"
            ],
            [
             0.3,
             "#f1b6da"
            ],
            [
             0.4,
             "#fde0ef"
            ],
            [
             0.5,
             "#f7f7f7"
            ],
            [
             0.6,
             "#e6f5d0"
            ],
            [
             0.7,
             "#b8e186"
            ],
            [
             0.8,
             "#7fbc41"
            ],
            [
             0.9,
             "#4d9221"
            ],
            [
             1,
             "#276419"
            ]
           ],
           "sequential": [
            [
             0,
             "#0d0887"
            ],
            [
             0.1111111111111111,
             "#46039f"
            ],
            [
             0.2222222222222222,
             "#7201a8"
            ],
            [
             0.3333333333333333,
             "#9c179e"
            ],
            [
             0.4444444444444444,
             "#bd3786"
            ],
            [
             0.5555555555555556,
             "#d8576b"
            ],
            [
             0.6666666666666666,
             "#ed7953"
            ],
            [
             0.7777777777777778,
             "#fb9f3a"
            ],
            [
             0.8888888888888888,
             "#fdca26"
            ],
            [
             1,
             "#f0f921"
            ]
           ],
           "sequentialminus": [
            [
             0,
             "#0d0887"
            ],
            [
             0.1111111111111111,
             "#46039f"
            ],
            [
             0.2222222222222222,
             "#7201a8"
            ],
            [
             0.3333333333333333,
             "#9c179e"
            ],
            [
             0.4444444444444444,
             "#bd3786"
            ],
            [
             0.5555555555555556,
             "#d8576b"
            ],
            [
             0.6666666666666666,
             "#ed7953"
            ],
            [
             0.7777777777777778,
             "#fb9f3a"
            ],
            [
             0.8888888888888888,
             "#fdca26"
            ],
            [
             1,
             "#f0f921"
            ]
           ]
          },
          "colorway": [
           "#636efa",
           "#EF553B",
           "#00cc96",
           "#ab63fa",
           "#FFA15A",
           "#19d3f3",
           "#FF6692",
           "#B6E880",
           "#FF97FF",
           "#FECB52"
          ],
          "font": {
           "color": "#2a3f5f"
          },
          "geo": {
           "bgcolor": "white",
           "lakecolor": "white",
           "landcolor": "#E5ECF6",
           "showlakes": true,
           "showland": true,
           "subunitcolor": "white"
          },
          "hoverlabel": {
           "align": "left"
          },
          "hovermode": "closest",
          "mapbox": {
           "style": "light"
          },
          "paper_bgcolor": "white",
          "plot_bgcolor": "#E5ECF6",
          "polar": {
           "angularaxis": {
            "gridcolor": "white",
            "linecolor": "white",
            "ticks": ""
           },
           "bgcolor": "#E5ECF6",
           "radialaxis": {
            "gridcolor": "white",
            "linecolor": "white",
            "ticks": ""
           }
          },
          "scene": {
           "xaxis": {
            "backgroundcolor": "#E5ECF6",
            "gridcolor": "white",
            "gridwidth": 2,
            "linecolor": "white",
            "showbackground": true,
            "ticks": "",
            "zerolinecolor": "white"
           },
           "yaxis": {
            "backgroundcolor": "#E5ECF6",
            "gridcolor": "white",
            "gridwidth": 2,
            "linecolor": "white",
            "showbackground": true,
            "ticks": "",
            "zerolinecolor": "white"
           },
           "zaxis": {
            "backgroundcolor": "#E5ECF6",
            "gridcolor": "white",
            "gridwidth": 2,
            "linecolor": "white",
            "showbackground": true,
            "ticks": "",
            "zerolinecolor": "white"
           }
          },
          "shapedefaults": {
           "line": {
            "color": "#2a3f5f"
           }
          },
          "ternary": {
           "aaxis": {
            "gridcolor": "white",
            "linecolor": "white",
            "ticks": ""
           },
           "baxis": {
            "gridcolor": "white",
            "linecolor": "white",
            "ticks": ""
           },
           "bgcolor": "#E5ECF6",
           "caxis": {
            "gridcolor": "white",
            "linecolor": "white",
            "ticks": ""
           }
          },
          "title": {
           "x": 0.05
          },
          "xaxis": {
           "automargin": true,
           "gridcolor": "white",
           "linecolor": "white",
           "ticks": "",
           "title": {
            "standoff": 15
           },
           "zerolinecolor": "white",
           "zerolinewidth": 2
          },
          "yaxis": {
           "automargin": true,
           "gridcolor": "white",
           "linecolor": "white",
           "ticks": "",
           "title": {
            "standoff": 15
           },
           "zerolinecolor": "white",
           "zerolinewidth": 2
          }
         }
        },
        "title": {
         "text": "💩QoL Scores for Children and Carers"
        },
        "xaxis": {
         "anchor": "y",
         "domain": [
          0,
          1
         ],
         "title": {
          "text": "Time (Days)"
         }
        },
        "yaxis": {
         "anchor": "x",
         "domain": [
          0,
          1
         ],
         "title": {
          "text": "QoL Score"
         }
        }
       }
      }
     },
     "metadata": {},
     "output_type": "display_data"
    }
   ],
   "source": [
    "qol_df = make_qol_df_function()[2][[\"recorded_date\",\t\"QIPID\",\t\"time\",\t\"week\",\t\"qol_score_carer\",\t\"qol_score_child\",\t]]\n",
    "\n",
    "qol_df = qol_df[qol_df['time'] < 56]\n",
    "\n",
    "# Plot \n",
    "qol_fig = px.scatter(qol_df, \n",
    "                     x='time', \n",
    "                     y=['qol_score_carer', 'qol_score_child'],\n",
    "                     opacity=0.5,\n",
    "                     trendline=\"ols\",\n",
    "                     labels={\n",
    "                         'time':'Time (Days)',\n",
    "                         'qol_score_carer':'Carer QoL Score',\n",
    "                         },\n",
    "                     title=\"💩QoL Scores for Children and Carers\")\n",
    "\n",
    "# ADD QOL SCORE TO Y AXIS TITLE\n",
    "qol_fig.update_yaxes(title_text=\"QoL Score\")\n",
    "\n",
    "# UPDATE MARKER STYLING\n",
    "qol_fig.update_traces(marker=dict(size=12,\n",
    "                              line=dict(width=2,\n",
    "                                        color='DarkSlateGrey')),\n",
    "                  selector=dict(mode='markers'))\n",
    "\n",
    "qol_fig.show()"
   ]
  },
  {
   "cell_type": "markdown",
   "metadata": {},
   "source": [
    "# DASH APP"
   ]
  },
  {
   "cell_type": "code",
   "execution_count": 76,
   "metadata": {},
   "outputs": [
    {
     "name": "stdout",
     "output_type": "stream",
     "text": [
      "CSBM:26 data points have been dropped due to NA\n",
      "SMS: Dropped 71 due to NA.\n",
      "DAILY ACTIVITY:115 data points have been dropped due to NA\n",
      "Dash is running on http://127.0.0.1:333/\n",
      "\n",
      "Dash is running on http://127.0.0.1:333/\n",
      "\n",
      " * Serving Flask app \"__main__\" (lazy loading)\n",
      " * Environment: production\n",
      "\u001b[31m   WARNING: This is a development server. Do not use it in a production deployment.\u001b[0m\n",
      "\u001b[2m   Use a production WSGI server instead.\u001b[0m\n",
      " * Debug mode: on\n"
     ]
    },
    {
     "name": "stderr",
     "output_type": "stream",
     "text": [
      "c:\\Users\\Anchit\\anaconda3\\lib\\site-packages\\statsmodels\\nonparametric\\smoothers_lowess.py:227: RuntimeWarning:\n",
      "\n",
      "invalid value encountered in true_divide\n",
      "\n",
      "c:\\Users\\Anchit\\anaconda3\\lib\\site-packages\\statsmodels\\nonparametric\\smoothers_lowess.py:227: RuntimeWarning:\n",
      "\n",
      "invalid value encountered in true_divide\n",
      "\n"
     ]
    },
    {
     "ename": "SystemExit",
     "evalue": "1",
     "output_type": "error",
     "traceback": [
      "An exception has occurred, use %tb to see the full traceback.\n",
      "\u001b[1;31mSystemExit\u001b[0m\u001b[1;31m:\u001b[0m 1\n"
     ]
    },
    {
     "name": "stderr",
     "output_type": "stream",
     "text": [
      "c:\\Users\\Anchit\\anaconda3\\lib\\site-packages\\IPython\\core\\interactiveshell.py:3377: UserWarning:\n",
      "\n",
      "To exit: use 'exit', 'quit', or Ctrl-D.\n",
      "\n"
     ]
    }
   ],
   "source": [
    "qipidlist = clean_df().QIPID.unique().tolist()\n",
    "\n",
    "#TITLE\n",
    "title_card_component = dbc.Col([\n",
    "\n",
    "    html.H1(\"Quality Improvement PURA Dashboard\",\n",
    "                className='pt-2'),\n",
    "            \n",
    "    html.H4(\"Made in collaboration with Hillingdon Hospital\",\n",
    "                className='')\n",
    "\n",
    "], className='bg-primary text-center mt-3 p-3', width={'size':5})\n",
    "\n",
    "#DROPDOWN SELECT QIPID\n",
    "qipid_selector_component = dbc.Col([\n",
    "                                    \n",
    "    dbc.Card(dbc.CardBody([\n",
    "        \n",
    "        html.H2(\"Select QIPID: \", className='card-title'),\n",
    "\n",
    "        dcc.Dropdown(\n",
    "            id='qipid_dropdown',\n",
    "            options= [{'label': qipid, 'value': qipid} for qipid in qipidlist],\n",
    "            value= qipidlist[0],\n",
    "            clearable=False,\n",
    "        )\n",
    "\n",
    "    ]))\n",
    "                                    \n",
    "], className='p-3', width={'size':2})\n",
    "\n",
    "\n",
    "\n",
    "# GENERAL INFO\n",
    "general_info_component = dbc.Col([\n",
    "    dbc.Card(dbc.CardBody([\n",
    "\n",
    "        html.H2(\"General info\", className='card-title'),\n",
    "\n",
    "        # First example - using dbc.PopoverBody\n",
    "        dbc.Button(\n",
    "            \"Number of Dropped Data Points\",\n",
    "            id=\"popover-target\",\n",
    "            className=\"me-1\",\n",
    "        ),\n",
    "        dbc.Popover(\n",
    "            dbc.PopoverBody([\n",
    "                html.P(id='general_info_output_csbm'),\n",
    "                html.P(id='general_info_output_sms'),\n",
    "                html.P(id='general_info_output_dact')\n",
    "            ]),\n",
    "            target=\"popover-target\",\n",
    "            trigger=\"hover\",\n",
    "        ),\n",
    "\n",
    "    ]), className='border-primary')\n",
    "], className='pt-3', width={'size':3})\n",
    "\n",
    "\n",
    "\n",
    "\n",
    "# CSBM GRAPH \n",
    "csbm_component = dbc.Col([       \n",
    "                                                \n",
    "    dbc.Card([dbc.CardBody([\n",
    "                                \n",
    "                html.H5('💩 Complete Spontaneous BMs & Bristol Stool Score', className='text-center p-1'),\n",
    "\n",
    "                dcc.Graph(\n",
    "                    id='csbm_graph',\n",
    "                    figure= make_csbm_bsc_fig_function(make_csbm_df_function()[0])\n",
    "                ),\n",
    "\n",
    "                #OUTPUT DIV, CSBM\n",
    "                html.Div(\n",
    "                        id='output_div_csbm'\n",
    "                        )\n",
    "            \n",
    "            ],className='',\n",
    "\n",
    "        )])\n",
    "          \n",
    "], className='p-3', width=5)\n",
    "\n",
    "#ST MARKS GRAPH COMPONENT\n",
    "sms_component = dbc.Col([\n",
    "\n",
    "    dbc.Card([dbc.CardBody([\n",
    "\n",
    "        html.H5(\"💩 St Mark's Score\", className='text-center p-1'),\n",
    "\n",
    "        dcc.Graph(\n",
    "            id='sms_graph',\n",
    "            figure=make_sms_fig(make_sms_df()[0])\n",
    "        ),\n",
    "\n",
    "        # OUTPUT DIV, SMS\n",
    "        html.Div(id='output_div_sms')\n",
    "\n",
    "    ], className='')])\n",
    "\n",
    "\n",
    "], className='p-3', width=5)\n",
    "\n",
    "\n",
    "daily_activity_component = dbc.Col([\n",
    "\n",
    "    dbc.Card([dbc.CardBody([\n",
    "\n",
    "        html.H5(\n",
    "            \"💩 Daily Activity Score (8 day rolling)\", className='text-center p-1'),\n",
    "\n",
    "        dcc.Graph(\n",
    "            id='dact_graph',\n",
    "            figure=make_dact_fig(make_dact_df_function()[0])\n",
    "        ),\n",
    "\n",
    "        # OUTPUT DIV, daily adctivities\n",
    "        html.Div(id='output_div_dact')\n",
    "\n",
    "    ], className='')])\n",
    "\n",
    "\n",
    "], className='p-3', width=5)\n",
    "\n",
    "\n",
    "\n",
    "################################\n",
    "\n",
    "# RUN DASH APP\n",
    "\n",
    "#################################\n",
    "\n",
    "app = Dash(__name__, external_stylesheets=[dbc.themes.UNITED],\n",
    "                meta_tags=[{'name': 'viewport',\n",
    "                            'content': 'width=device-width, initial-scale=1.0'}\n",
    "                           ]\n",
    "                  )\n",
    "\n",
    "app.layout = dbc.Container([\n",
    "                dbc.Row([\n",
    "                         title_card_component,\n",
    "                         qipid_selector_component,\n",
    "                         general_info_component\n",
    "                    ], justify='center', align='start'),\n",
    "                \n",
    "                dbc.Row([\n",
    "                         csbm_component,\n",
    "                         sms_component\n",
    "\n",
    "                ], justify='center', align='stretch'),\n",
    "                \n",
    "], fluid=True)\n",
    "\n",
    "@app.callback(\n",
    "    Output('csbm_graph','figure'),\n",
    "    Output('sms_graph', 'figure'),\n",
    "    Output('dact_graph','figure'),\n",
    "    Output('general_info_output_csbm','children'),\n",
    "    Output('general_info_output_sms','children'),\n",
    "    Output('general_info_output_dact','children'),\n",
    "    Input('qipid_dropdown','value')\n",
    ")\n",
    "def update_graph(qipid):\n",
    "\n",
    "    csbm_fig = make_csbm_bsc_fig_function(make_csbm_df_function(qipid)[0])\n",
    "    sms_fig = make_sms_fig(make_sms_df(qipid)[0])\n",
    "    dact_fig = make_dact_fig(make_dact_df_function(qipid)[0])\n",
    "\n",
    "    csbm_dropped = f\"Dropped {make_csbm_df_function(qipid)[1]} from CSBM due to NA\"\n",
    "    sms_dropped = f\"Dropped {make_sms_df(qipid)[1]} from St Mark's due to NA\"\n",
    "    dact_dropped = f\"Dropped {make_dact_df_function(qipid)[1]} from Daily Activity due to NA\"\n",
    "\n",
    "    return (csbm_fig,\n",
    "            sms_fig,\n",
    "            dact_fig,\n",
    "            csbm_dropped,\n",
    "            sms_dropped,\n",
    "            dact_dropped\n",
    "            )\n",
    "\n",
    "\n",
    "\n",
    "#RUN DASH APP\n",
    "app.run_server(port=333, debug=True)"
   ]
  }
 ],
 "metadata": {
  "kernelspec": {
   "display_name": "Python 3.9.12 ('base')",
   "language": "python",
   "name": "python3"
  },
  "language_info": {
   "codemirror_mode": {
    "name": "ipython",
    "version": 3
   },
   "file_extension": ".py",
   "mimetype": "text/x-python",
   "name": "python",
   "nbconvert_exporter": "python",
   "pygments_lexer": "ipython3",
   "version": "3.9.12"
  },
  "orig_nbformat": 4,
  "vscode": {
   "interpreter": {
    "hash": "b3c2d79e223966fb29fae19d3b6d1ccfd65b100089b8a4cd5da457fa687330ba"
   }
  }
 },
 "nbformat": 4,
 "nbformat_minor": 2
}
